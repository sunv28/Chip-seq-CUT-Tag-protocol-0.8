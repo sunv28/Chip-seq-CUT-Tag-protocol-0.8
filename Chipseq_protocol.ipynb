{
 "cells": [
  {
   "cell_type": "markdown",
   "id": "9bf8f592-99c4-4c47-b42c-7f9138bdb0fc",
   "metadata": {},
   "source": [
    "<font size=6 color=black ><b>ChIP-seq protocol"
   ]
  },
  {
   "cell_type": "markdown",
   "id": "42d1b5f3-098d-4de2-8f79-cbe15637e7c0",
   "metadata": {},
   "source": [
    "# Outline\n",
    "- [Single-read and Paired-End](#Single-read-and-Paired-End)\n",
    "- [What are reads, contigs and scaffold?](#What-are-reads,-contigs-and-scaffold?)\n",
    "- [ChIP-seq theory](#ChIP-seq-theory)\n",
    "- [CUT&TAG theory](#CUT&TAG-theory)\n",
    "- [Environment setup](#Environment-setup)\n",
    "- [Convert SSR to FASTQ](#Convert-SSR-to-FASTQ)\n",
    "  - [parallel-fastq-dump](#parallel-fastq-dump)\n",
    "- [Structure of FASTQ](#Structure-of-FASTQ)\n",
    "  - [What the structure of FASTQ？](#What-the-structure-of-FASTQ？)\n",
    "  - [phred33 encoding and phred64 encoding](#phred33-encoding-and-phred64-encoding)\n",
    "  - [View FASTQ basic information](#View-FASTQ-basic-information)\n",
    "- [QC Report and Data cleaning——trim-galore](#QC-Report-and-Data-cleaning——trim-galore)\n",
    "  - [QC Report——fastqc](#QC-Report——fastqc)\n",
    "  - [Stucture of QC report](#Stucture-of-QC-report)\n",
    "    - [Basic Statistics](#Basic-Statistics)\n",
    "    - [Per base sequence quality](#Per-base-sequence-quality)\n",
    "    - [Per tile sequence quality](#Per-tile-sequence-quality)\n",
    "    - [Per sequence quality scores](#Per-sequence-quality-scores)\n",
    "    - [Per base sequence content](#Per-base-sequence-content)\n",
    "    - [Per base sequence content in CUT&Tag](#Per-base-sequence-content-in-CUT&Tag)\n",
    "    - [Per sequence GC conten](#Per-sequence-GC-conten)\n",
    "    - [Per base N content](#Per-base-N-content)\n",
    "    - [Sequence Length Distribution](#Sequence-Length-Distribution)\n",
    "    - [Sequence Duplication Level](#Sequence-Duplication-Level)\n",
    "    - [Overrepresented sequences](#Overrepresented-sequences)\n",
    "    - [Adapter Content](#Adapter-Content)\n",
    "    - [Overrepresented Kmers](#Overrepresented-Kmers)\n",
    "  - [QC report reference in CUT&Tag](#QC-report-reference-in-CUT&Tag)\n",
    "  - [Data cleaning——cutadapt](#Data-cleaning——cutadapt)\n",
    "- [Reads Alignment](#Reads-Alignment)\n",
    "  - [Different of DNAseq alignment and RNAseq alignment](#Different-of-DNAseq-alignment-and-RNAseq-alignment)\n",
    "  - [Method of DNAseq alignment——seed and extend](#Method-of-DNAseq-alignment——seed-and-extend)\n",
    "  - [Different of Signle-read alignment and Paired-End alignment](#Different-of-Signle-read-alignment-and-Paired-End-alignment)\n",
    "  - [Global Alignment and Local Alignment](#Global-Alignment-and-Local-Alignment)\n",
    "  - [Software selection of Alignment](#Software-selection-of-Alignment)\n",
    "  - [Bowtie2](#Bowtie2)\n",
    "  - [Bowtie2 in CUT&Tag](#Bowtie2-in-CUT&Tag)\n",
    "  - [Use the E.coli genome to normalize data (optional/recommended)(step1)](#Use-the-E.coli-genome-to-normalize-data-(optional/recommended)(step1))\n",
    "- [Samtools](#Samtools)\n",
    "   - [Samtools sort](#Samtools-sort)\n",
    "   - [Samtools idxstats——view the alignment with chromosome](#Samtools-idxstats——view-the-alignment-with-chromosome)\n",
    "   - [Samtools flagstat——view the alignment results](#Samtools-flagstat——view-the-alignment-results)\n",
    "- [Convert SAM to BAM/CRAM](#Convert-SAM-to-BAM/CRAM)\n",
    "   - [Structure of SAM](#Structure-of-SAM)\n",
    "   - [Structure of BAM](#Structure-of-BAM)\n",
    "   - [Structue of CRAM](#Structue-of-CRAM)\n",
    "- [Remove duplicates](#Remove-duplicates)\n",
    "  - [Patterned Flowcell?](#Patterned-Flowcell?)\n",
    "  - [Software selection of remove duplicates](#Software-selection-of-remove-duplicates)\n",
    "  - [Picard MarkDuplicates](#Picard-MarkDuplicates)\n",
    "  - [Remove duplicates in CUT&Tag](#Remove-duplicates-in-CUT&Tag)\n",
    "- [Assess mapped fragment size distribution in CUT&Tag(optial)](#Assess-mapped-fragment-size-distribution-in-CUT&Tag(optial))\n",
    "   - [Extract segment length and count](#Extract-segment-length-and-count)\n",
    "- [Alignment filtering with MAPQ (optinal)](#Alignment-filtering-with-MAPQ-(optinal))\n",
    "  - [Mapping Quality](#Mapping-Quality)\n",
    "  - [Filter minQualityScore](#Filter-minQualityScore)\n",
    "  - [View the reads before and after filtering](#View-the-reads-before-and-after-filtering)\n",
    "- [Alignment filtering with Mapped Read Pairs](#Alignment-filtering-with-Mapped-Read-Pairs)\n",
    "- [Bedtools](#Bedtools)\n",
    "  - [Bedtools introduction](#Bedtools-introduction)\n",
    "  - [Installing Bedtools](#Installing-Bedtools)\n",
    "  - [Bedtools genomecov](#Bedtools-genomecov)\n",
    "  - [Bedtools intersect](#Bedtools-intersect)\n",
    "- [Convert BAM to BED](#Convert-BAM-to-BED)\n",
    "  - [0-base or 1-base？](#0-base-or-1-base？)\n",
    "  - [Strcture of BED](#Strcture-of-BED)\n",
    "  - [Convert BAM to BED with bedtools](#Convert-BAM-to-BED-with-bedtools)\n",
    "  - [Keep the read pairs that are on the same chromosome and fragment length less than 1000bp（optial）](#Keep-the-read-pairs-that-are-on-the-same-chromosome-and-fragment-length-less-than-1000bp（optial）)\n",
    "  - [Extract the fragment related columns](#Extract-the-fragment-related-columns)\n",
    "  - [Evaluate the reproducibility of replicate samples(optial)](#Evaluate-the-reproducibility-of-replicate-samples(optial))\n",
    "- [Strcture of GFF3 and VCF(optial reading)](#Strcture-of-GFF3-and-VCF(optial-reading))\n",
    "  - [Strcture of GFF3](#Strcture-of-GFF3)\n",
    "  - [Strcture of VCF](#Strcture-of-VCF)\n",
    "- [Convert BED to Bedgraph](#Convert-BED-to-Bedgraph)\n",
    "  - [Strcture of bedgraph](#Strcture-of-bedgraph)\n",
    "  - [Use the E.coli genome to normalize data (optional/recommended)(step2)](#Use-the-E.coli-genome-to-normalize-data-(optional/recommended)(step2))\n",
    "- [Quantification of peaks](#Quantification-of-peaks)\n",
    "  - [SEACR(For CUT&Tag and CUT&RUN)](#SEACR(For-CUT&Tag-and-CUT&RUN))\n",
    "  - [Stracture of SEACR bed file](#Stracture-of-SEACR-bed-file)\n",
    "  - [Number of peaks](#Number-of-peaks)\n",
    "  - [Comparing the same peaks on replicate sample data sets(optial)](#Comparing-the-same-peaks-on-replicate-sample-data-sets(optial))\n",
    "  - [Calculates FRiPs (Fraction of Reads in Peaks)](#Calculates-FRiPs-(Fraction-of-Reads-in-Peaks))\n",
    "- [Genome browser](#Genome-browser)\n",
    "- [Normalization methods](#Normalization-methods)\n",
    "  - [RPKM](#RPKM)\n",
    "  - [CPM](#CPM)\n",
    "  - [BPM](#BPM)\n",
    "  - [RPCG](#RPCG)\n",
    "- [Deeptools](#Deeptools)\n",
    "  - [Deeptools installation](#Deeptools-installation)\n",
    "  - [BamCoverage](#BamCoverage)"
   ]
  },
  {
   "attachments": {},
   "cell_type": "markdown",
   "id": "24c9943f-aeeb-4532-a78f-4ea7dc9739db",
   "metadata": {
    "editable": true,
    "slideshow": {
     "slide_type": ""
    },
    "tags": []
   },
   "source": [
    "# Single-read and Paired-End\n",
    "\n",
    "<img src=\"./picture/001.png\" width=\"600\"/>\n",
    "\n",
    "单端测序只从一侧读，而双端测序是两头同时读然后拼接\n",
    "\n",
    "* **单端测序(Single-read)**\n",
    "\n",
    "> **简写:SE50** 只测一个方向，且读段长度固定为50 bp\n",
    "\n",
    "> Single-Read测序(Single-read)首先将DNA样本进行片段化处理形成200-500bp的片段，引物序列连接到DNA片段的一端，然后末端加上接头，将片段固定在flow cell上生成DNA簇，上机测序单端读取序列。该方式建库简单，操作步骤少，常用于小基因组、转录组、宏基因组测序。\n",
    "\n",
    "> 测序的质量会随着测序的进行而下降，所以 reads 约往后面越不准确，单端测序下游质量会很差，所以就引入了双端测序可以大大提高测序的准确率。\n",
    "\n",
    "\n",
    "* **双端测序(Paired-End)**\n",
    "\n",
    "> **简写:25x25 PE** 每个片段会从两个方向进行测序，每个读段长度为25 bp\n",
    "\n",
    ">通过构建Paired-end文库制备，指在构建待测DNA文库时在两端的接头上都加上测序引物结合位点，在第一轮测序完成后，去除第一轮测序的模板链，用对读测序模块(Paired-End Module)引导互补链在原位置再生和扩增，以达到第二轮测序所用的模板量，进行第二轮互补链的合成测序。\n",
    "\n",
    "* 双端测序文库结构示例：\n",
    "\n",
    "<img src=\"./picture/002.png\" width=\"600\"/>\n",
    "\n",
    ">为了两个方向上分别进行测序，就需要有两个不同方向的测序引物（下图 Rd1 SP 和 Rd2 SP）；\n",
    "\n",
    ">为了区分两个方向的 reads，其中一个测序引物前面要添加一小段 index 序列进行标记。\n",
    "\n",
    "* 双端测序流程示例：\n",
    "\n",
    "<img src=\"./picture/003.png\" width=\"800\"/>"
   ]
  },
  {
   "cell_type": "markdown",
   "id": "9694da2d-f37a-401e-ac61-81e33402e053",
   "metadata": {},
   "source": [
    "# What are reads, contigs and scaffold?\n",
    "\n",
    "<img src=\"./picture/050.png\" width=\"700\"/>\n",
    "\n",
    "* **Reads**是测序仪直接产生的短片段 DNA 序列。它们是基因组序列的基本单位。\n",
    "\n",
    "* **Contig**是通过将重叠的 reads 拼接起来，组装而成的连续 DNA 序列，Contig 不包含缺口，是从 reads 直接拼接得来的最连续的部分\n",
    "\n",
    "* **Scaffold** 是更高层次的组装结构，它将多个 contig 连接在一起，可能使用额外信息（如 mate-pair reads 或物理图谱数据）来排列和定向这些 contig。Scaffold 之间可能有未知的区域（这些区域用 N 表示）。"
   ]
  },
  {
   "attachments": {},
   "cell_type": "markdown",
   "id": "14338aae-898f-4ee6-bb68-c18107f9a21a",
   "metadata": {
    "editable": true,
    "slideshow": {
     "slide_type": ""
    },
    "tags": []
   },
   "source": [
    "# ChIP-seq theory\n",
    "- 使用甲醛将目标蛋白（组蛋白，转录因子等）与染色质交联固定起来\n",
    "<img src=\"./picture/004.png\" width=\"500\"/>\n",
    "\n",
    "- 从细胞裂解液分离基因组DNA，通过超声打断DNA为一定长度的小片段\n",
    "<img src=\"./picture/005.png\"  width=\"500\"/>\n",
    "\n",
    "- 添加与目标蛋白质特异的抗体，该抗体会与目标蛋白形成免疫结合复合体沉淀（靶蛋白 + 抗体 + 靶蛋白结合的DNA），收集这些沉淀\n",
    "<img src=\"./picture/006.png\"  width=\"500\"/>\n",
    "\n",
    "- 去交联，分开蛋白与DNA，纯化DNA即可得到染色质免疫沉淀的DNA样本\n",
    "<img src=\"./picture/007.png\"  width=\"500\"/>\n",
    "\n",
    "- 建立好文库，用测序仪进行测序\n",
    "<img src=\"./picture/008.png\"  width=\"500\"/>"
   ]
  },
  {
   "attachments": {},
   "cell_type": "markdown",
   "id": "5481f5ae-d452-4fde-b876-5a6f25bd3fc7",
   "metadata": {
    "editable": true,
    "slideshow": {
     "slide_type": ""
    },
    "tags": []
   },
   "source": [
    "# CUT&TAG theory\n",
    "\n",
    "* 首先，特异性抗体和靶标蛋白孵育结合；加入Tn5转座酶—Protein A复合物，其中Tn5转座酶两端已装载好建库接头引物\n",
    "\n",
    "* 特异性抗体和Protein A相结合，转座酶Tn5被“拉”到转录因子附近；转座酶Tn5一次性完成附近DNA打断并完成NGS加接头过程，可直接建库\n",
    "\n",
    "<img src= \"./picture/010.png\" width=\"600\"/>"
   ]
  },
  {
   "attachments": {},
   "cell_type": "markdown",
   "id": "bdf1a9e8-6cb3-4def-bfc7-831be68e9f4f",
   "metadata": {},
   "source": [
    "* 对比ChIP-seq，CUT&TAG免去了甲醛交联、超声破碎和免疫共沉淀的过程\n",
    "\n",
    "* 这样既节省了初始实验材料，需求的细胞量较少，又提高了信噪比、提升了实验重复性\n",
    "\n",
    "<img src=\"./picture/011.png\" width=\"600\"/>"
   ]
  },
  {
   "cell_type": "markdown",
   "id": "68ee6d07-e8aa-40dc-8dad-70207227fb06",
   "metadata": {},
   "source": [
    "* [CUT&TAG数据分析流程](https://yezhengstat.github.io/CUTTag_tutorial/)"
   ]
  },
  {
   "cell_type": "markdown",
   "id": "69f870a0-c77c-48f9-9e68-1b62ff1d1e18",
   "metadata": {},
   "source": [
    "# Environment setup\n",
    "\n",
    "* **显示已创建的环境，会列出所有的环境名和对应路径:**\n",
    "`conda info -e `\n",
    "\n",
    "* **创建chip-seq环境:**\n",
    "`conda  create -n chipseq  python=2 `\n",
    "\n",
    "* **激活环境:**\n",
    "`conda activate chipseq`\n"
   ]
  },
  {
   "cell_type": "markdown",
   "id": "ef29ee67-4dbc-4b1e-8386-75e6349a6d6f",
   "metadata": {},
   "source": [
    "# Convert SSR to FASTQ\n",
    "## parallel-fastq-dump\n",
    "\n",
    "* [parallel-fastq-dump](https://github.com/rvalieris/parallel-fastq-dump)\n",
    "\n",
    "* **Software installation:** `sudo apt install parallel-fastq-dump`"
   ]
  },
  {
   "cell_type": "markdown",
   "id": "4b2fb959-64ca-4503-b2d7-25505c9132d5",
   "metadata": {},
   "source": [
    "<font size=3 color=purple ><b>parameters"
   ]
  },
  {
   "cell_type": "code",
   "execution_count": null,
   "id": "ac319f7a-fbbe-4c1d-8cb7-caa2caf0b3fd",
   "metadata": {},
   "outputs": [],
   "source": [
    "    parallel-fastq-dump \n",
    "    --sra-id # 输入文件名\n",
    "    --threads # 用的核数\n",
    "    --outdir # 输出文件\n",
    "    --split-files # 文件是否切割来运行\n",
    "    --gzip # 输出文件是否为压缩包"
   ]
  },
  {
   "cell_type": "markdown",
   "id": "1b389930-f1f0-4250-989f-9fd99415726a",
   "metadata": {
    "jp-MarkdownHeadingCollapsed": true
   },
   "source": [
    "<font size=3 color=purple ><b>Example"
   ]
  },
  {
   "cell_type": "code",
   "execution_count": null,
   "id": "dc8157d9-f0ed-4345-bed7-b5a93503e346",
   "metadata": {},
   "outputs": [],
   "source": [
    "parallel-fastq-dump --sra-id IP_H3K27ac_Vehicle --threads 11 --outdir fastq.data/ --split-files --gzip"
   ]
  },
  {
   "cell_type": "markdown",
   "id": "5ed3f8fa-09f7-404e-8c8b-6a6ebe9b72e8",
   "metadata": {},
   "source": [
    "<font size=3 color=red ><b>如果一个srr文件转化为两个fastq文件，说明该数据为双端测序"
   ]
  },
  {
   "cell_type": "markdown",
   "id": "5fae4374-cf7b-4bad-be83-c21d045452e6",
   "metadata": {},
   "source": [
    "# Structure of FASTQ"
   ]
  },
  {
   "attachments": {},
   "cell_type": "markdown",
   "id": "e5537583-2d70-41b2-b5c1-c254df4f2e7b",
   "metadata": {},
   "source": [
    "## What the structure of FASTQ？\n",
    "对于每个通过质控参数的簇，一个序列被写入相应样本的R1 FASTQ文件，而对于双端测序运行，另外一个序列也被写入该样本的R2 FASTQ文件。 \n",
    "\n",
    "**FASTQ文件中的每个条目包含4行**\n",
    "\n",
    "<img src=\"./picture/012.png\" width=\"800\"/>\n",
    "\n",
    "> 序列标识符，其中包含有关测序运行和簇的信息。 该行的具体内容会因使用的BCL到FASTQ转换软件而不同。\n",
    "\n",
    "> 序列（碱基信号； A，C，T，G和N）。\n",
    "\n",
    "> 分隔符，只是一个加号（+）。\n",
    "\n",
    "> 读取碱基的质量值。 这些是Phred +33编码的，使用ASCII字符表示数字质量值。"
   ]
  },
  {
   "cell_type": "markdown",
   "id": "ba845374-1fea-44ba-8218-e251ba1390ad",
   "metadata": {},
   "source": [
    "## phred33 encoding and phred64 encoding\n",
    "\n",
    "* Phred+33编码方式下，质量值范围是33到74（ASCII字符范围是!到J）。这种编码方式最早由Illumina 1.8及之后的测序仪器采用，是目前使用最广泛的一种编码方式。\n",
    "\n",
    "* Phred+64编码方式下，质量值范围是64到104（ASCII字符范围是@到h）。这种编码方式由早期的Illumina测序仪（比如Illumina 1.3到1.7版本）使用。"
   ]
  },
  {
   "cell_type": "markdown",
   "id": "e7ebcd95-caea-4a6b-b4a6-591871b985ba",
   "metadata": {},
   "source": [
    "## View FASTQ basic information"
   ]
  },
  {
   "cell_type": "markdown",
   "id": "80e1903f-d348-4cc0-8f15-1a94a376457a",
   "metadata": {},
   "source": [
    "* **获取序列标识符，其中包含有关测序运行和簇的信息，有些包含测序平台信息**`zcat <xxx.fastq.gz> | grep \"^@\" | head -n 5`\n"
   ]
  },
  {
   "cell_type": "markdown",
   "id": "d028d1c5-97a8-400c-a49d-21bb0e169b2e",
   "metadata": {},
   "source": [
    "# QC Report and Data cleaning——trim-galore\n",
    "\n",
    "<font size=3 color=red ><b>trim-galore有2个小软件，分别是cutadapt用于去除接头及质量过滤，fastqc用于查看数据质量分布\n",
    "\n",
    "* **Software installation**\n",
    "\n",
    "`conda install bioconda::trim-galore `\n",
    "\n",
    "* **可以创建一个新的环境，用Python3，启用多线程（trim-galore中的cutadapt在python2 不支持多线程操作），推荐用这个**\n",
    "\n",
    "`conda  create -n trim-galore  python=3.6`\n",
    "\n",
    "`conda activate trim-galore`\n",
    "\n",
    "`conda install bioconda::trim-galore`\n",
    "\n",
    "## QC Report——fastqc\n",
    "**生成质控报告，可以先做质控报告，如果都合格就没必要做trim_galore**"
   ]
  },
  {
   "cell_type": "markdown",
   "id": "a099ef2c-64c4-467d-85fa-071d9391b944",
   "metadata": {},
   "source": [
    "<font size=3 color=purple ><b>parameters"
   ]
  },
  {
   "cell_type": "code",
   "execution_count": null,
   "id": "0f39bf20-cfdd-4040-b656-25b7aa5ea328",
   "metadata": {},
   "outputs": [],
   "source": [
    "    fastqc # 输入文件名\n",
    "    -o # 输出文件名\n",
    "    -t <int>  # 核心数\n",
    "    \n",
    "    -k <int> # 指定Kmer内容模块中要查找的Kmer长度。指定的Kmer长度必须在2到10之间，默认长度为5.\n",
    "    -c # 指定一个污染物文件，用于检测和过滤掉可能存在的污染物序列。该文件包含了可能出现在样本中的污染物序列。\n",
    "    --(no)extract # 设置是否解压缩输入文件。FastQC可以对压缩的文件进行处理，解压缩文件能够提供更准确的结果。该选项默认为自动解压缩"
   ]
  },
  {
   "cell_type": "markdown",
   "id": "1c7c9ac4-d3e8-4033-9582-d87c542f7c63",
   "metadata": {},
   "source": [
    "<font size=3 color=purple ><b>Example"
   ]
  },
  {
   "cell_type": "code",
   "execution_count": null,
   "id": "d1ff1e7b-e3ce-4ad3-badb-716bf58183c6",
   "metadata": {},
   "outputs": [],
   "source": [
    "fastqc -o fatqc/  -t 12  IP_H3K27ac_Vehicle_1_trimmed.fq.gz"
   ]
  },
  {
   "attachments": {},
   "cell_type": "markdown",
   "id": "eba77a66-6f83-45a1-9967-3704c07bc7a0",
   "metadata": {},
   "source": [
    "## Stucture of QC report\n",
    "[详情](https://mugenomicscore.missouri.edu/PDF/FastQC_Manual.pdf)"
   ]
  },
  {
   "attachments": {},
   "cell_type": "markdown",
   "id": "9db30776-0edb-4853-8312-09fc5eddef4b",
   "metadata": {},
   "source": [
    "### Basic Statistics\n",
    "<img src= \"./picture/013.png\" width=\"800\"/>\n",
    "\n",
    "* %GC：是我们需要重点关注的一个指标，这个值表示的是整体序列中的GC含量\n",
    "* %GC这个数值一般是物种特异的，比如人类细胞就是42%左右。mouse：41%，Rat:42%\n",
    "* 如果测序原始数据的GC含量远远偏离这个比例，说明测序数据存在一定偏好性，如果直接用测序数据，会影响后续的CNV和变异检测的分析。"
   ]
  },
  {
   "attachments": {},
   "cell_type": "markdown",
   "id": "9f5764d8-ae44-4456-b2da-6d4d3e660be5",
   "metadata": {},
   "source": [
    "### Per base sequence quality\n",
    "<img src= \"./picture/014.png\" width=\"900\"/>\n",
    "\n",
    "* 箱线图应该位于蓝色部分就是合格的，黄色部分出警告，红色部分不合格\n",
    "* 这是 read length = 100 的数据，横轴为碱基在read的位置，纵轴是quality。quality = -10*log10( p)，p为测错的概率。根据quality给出质量结果：正常区间（28 - 40），警告区间（20-28），错误区间（0-20）\n",
    "\n",
    "**标准：** \n",
    "\n",
    "- 如果任何一个位置的下四分位数小于10或者中位数小于25，会显示**警告**；\n",
    "- 如果任何一个位置的下四分位数小于5或者中位数小于20，会显示**不合格**\n",
    "\n",
    "\n",
    "**注意：** 在FastQ文件中编码质量分数有许多不同的方法。FastQC尝试自动确定使用了哪种编码方法，但在一些非常有限的数据集中，它可能会猜错，图表的标题将描述FastQC认为您的文件使用的编码。"
   ]
  },
  {
   "attachments": {},
   "cell_type": "markdown",
   "id": "d9826aa6-eb7e-498a-abf4-d01736b89771",
   "metadata": {},
   "source": [
    "### Per tile sequence quality\n",
    "\n",
    "<img src= \"./picture/015.png\" width=\"700\"/>\n",
    "\n",
    "* 横轴为碱基在read的位置，纵轴是tail的Index编号\n",
    "\n",
    "><font size=2 color=purple ><b>tile编号通常用于识别Illumina测序仪上的特定物理位置。每个tile代表每一次测序荧光扫描的最小单位，其中包含从流动槽(flow cell)中的测序反应捕获的读数。\n",
    "\n",
    "* 图中的颜色是从冷色调到暖色调的渐变，冷色调表示这个 tile 在这个位置上的质量值高于所有 tile 在这个位置上的平均质量值，暖色调表示这个 tile 的在这个位置上的质量值比其它 tiles 要差\n",
    "\n",
    "<font size=3 color=red ><b>一个非常好的结果，整张图都应该是蓝色\n",
    "\n",
    "* 检查reads中每一个碱基位置在不同的测序小孔之间的偏离度，蓝色表示低于平均偏离度，偏离度小，质量好；越红表示偏离平均质量越多，质量也越差。如果出现质量问题可能是短暂的，如有气泡产生，也可能是长期的，如在某一小孔中存在残骸，问题不大\n",
    "\n",
    "**标准：**\n",
    "\n",
    "- 如果任何 tile 的平均质量值与这个位置上所有tiles的平均质量值相差2以上会显**警告**\n",
    "- 如果任何 tile 的平均质量值与这个位置上所有 tiles 的平均质量值相差5以上会显**不合格**\n",
    "\n",
    "<font size=3 color=red ><b>不好的结果：\n",
    "\n",
    "<img src= \"./picture/016.png\">"
   ]
  },
  {
   "attachments": {},
   "cell_type": "markdown",
   "id": "5b76cc2b-d041-4d22-8e18-083227878db5",
   "metadata": {},
   "source": [
    "### Per sequence quality scores\n",
    "\n",
    "<img src= \"./picture/017.png\" width=\"700\"/>\n",
    "\n",
    "* x轴是平均碱基质量值，y轴是reads数。\n",
    "\n",
    "**标准：** \n",
    "\n",
    "- 如果最高峰的质量值小于27( 错误率0.2%)则会显示**警告**\n",
    "- 如果最高峰的质量值小于20(错误率 1 %) 则会显示**不合格**。\n",
    "\n",
    "<font size=3 color=red ><b> 低质量的会有两或多个峰\n",
    "\n",
    "<font size=2 color=purple ><b>如果在一次运行中有相当大比例的序列整体质量较低，那么这可能表明某种系统问题-可能只是部分运行(例如one end of a flowcell)"
   ]
  },
  {
   "attachments": {},
   "cell_type": "markdown",
   "id": "913953e6-83d0-4119-a89a-1ab2bb193b76",
   "metadata": {},
   "source": [
    "### Per base sequence content\n",
    "<img src= \"./picture/018.png\" width=\"700\"/>\n",
    "\n",
    "* 横坐标代表序列的碱基位置, 纵坐标代表该碱基百分比\n",
    "* 一个完全随机的文库内每个位置上 4 种碱基的比例应该大致相同，因此图中的四条线应该相互平行且接近\n",
    "* 在 reads 开头出现碱基组成偏离往往是我们的建库操作造成的\n",
    "\n",
    "><font size=2 color=purple ><b>比如GBS文库中的条形码和酶切位点会影响测序reads的开头部分，这可能会在质量控制报告中看到碱基组成的偏离。以下是进一步解释：\n",
    "\n",
    ">><font size=2 color=purple >条形码（Barcode）：每个样本使用不同的条形码序列，这些条形码位于测序reads的开头。由于条形码序列的多样性，reads开头的碱基组成不是均一的。\n",
    "\n",
    ">><font size=2 color=purple >酶切位点：限制性酶在特定序列处切割DNA，因此这些酶切位点的碱基组成是固定的。如果这些位点在测序reads的开头，可能会导致碱基组成偏离\n",
    "\n",
    "*  reads 结尾出现的碱基组成偏离，往往是测序接头的污染造成的，接头（adapter）序列可能没有完全从reads中剪切掉，导致reads结尾包含接头序列。\n",
    "\n",
    "* 在序列前12~15个碱基，可以**使用剪切软件（cutadapt）切除**，切除多少个需要看你的数据，比如上图的结果显示就可以切15个或19个。\n",
    "\n",
    "**标准：** \n",
    "\n",
    "- 如果任何一个位置上的 A 和 T 之间或者 G 和 C 之间的比例相差 10 % 以上则报**警告**\n",
    "- 任何一个位置上的 A 和 T 之间或者 G 和 C 之间的比例相差 20 % 以上则报**不合格**"
   ]
  },
  {
   "attachments": {},
   "cell_type": "markdown",
   "id": "9c70bca8-6de3-4b88-ac36-40445f71d51a",
   "metadata": {},
   "source": [
    "### Per base sequence content in CUT&Tag\n",
    "\n",
    "<img src=\"./picture/019.png\" width=\"900\"/>\n",
    "\n",
    "* 读长开始时不一致的序列内容是 CUT&Tag 读长的常见现象。不合格的Per base seuqnence 内容并不意味着您的数据失败。\n",
    "\n",
    "><font size=2 color=purple >这可能是由于 **Tn5 偏好性**。\n",
    "\n",
    "><font size=2 color=purple >您可能检测到的是 10 bp 的周期性，它在长度分布中显示为锯齿状。如果是这样，这是正常的，不会影响对齐或峰检出。**在任何情况下，我们都不建议进行修剪**，接下来通过**修改 bowtie2** 参数无需修剪即可提供准确的映射信息。"
   ]
  },
  {
   "attachments": {},
   "cell_type": "markdown",
   "id": "6767c6aa-d856-44ef-a39e-a653985982d9",
   "metadata": {},
   "source": [
    "### Per sequence GC conten\n",
    "\n",
    "<img src=\"./picture/020.png\" width=\"700\"/>\n",
    "\n",
    "* 这部分表示统计每个序列GC含量的频数。\n",
    "* 红色线是实际值，蓝色线是理论值。\n",
    "* 峰值位点对应着总体GC含量\n",
    "* 在一个正常的随机文库中，GC 含量的分布应接近正态分布，且中心的峰值和所测基因组的 GC 含量一致\n",
    "* 由于软件并不知道所测物种真实的 GC 含量，图中的理论分布是基于所测数据计算得来的；红色线于蓝色线越接近越好，越接近测序越好，越可靠\n",
    "\n",
    "<font size=3 color=red ><b>不好的结果：\n",
    "\n",
    "<img src=\"./picture/021.png\"  width=\"700\"/>\n",
    "\n",
    "* 如果出现不正常的尖峰分布 (如上图)，则说明文库可能有污染 (如果是接头的污染，那么在**Overrepresented Sequences**那部分结果还会得到提示)，或者存在其它形式的偏选\n",
    "\n",
    "**标准：**\n",
    "\n",
    "- 如果偏离理论分布的 reads 数超过总 reads 数的 15 % 则报**警告**\n",
    "- 如果偏离理论分布的 reads 数超过总 reads 数的 30 % 则报**不合格**。"
   ]
  },
  {
   "attachments": {},
   "cell_type": "markdown",
   "id": "c9f75544-3ed9-4849-9e92-8f2ebde8b7a1",
   "metadata": {},
   "source": [
    "### Per base N content\n",
    "<img src=\"./picture/022.png\" width=\"700\"/>\n",
    "\n",
    "* 在测序仪工作过程中，如果不能正常完成某个碱基的 calling(测序仪对每个测序碱基进行检测和识别的过程)，将会以 N 来表示这个位置的碱基，而不是 A、T、C、G\n",
    "* 出现一定比例的Ns在测序数据中是一个常见现象，通常反映了测序过程中存在某些问题。这种现象的原因可以分为两类，具体解释如下：\n",
    "\n",
    "><font size=3 color=purple ><b>1. 普遍的质量丢失 (General Loss of Quality)\n",
    "\n",
    ">>原因：在整个测序过程中，如果测序仪由于多种原因（如化学反应不佳、光学系统问题或流动槽污染等）无法准确地检测和识别碱基，可能会导致整个测序文库的质量下降。这样的质量下降通常表现为较高比例的“N”出现在reads的不同位置。\n",
    "\n",
    ">>判断方法：这种情况通常会影响整个文库的测序质量，具体可以通过查看质量控制报告中的多项指标来综合判断，如Per Sequence Quality Scores和Per Base Quality Scores等。这些指标可以帮助识别是否存在普遍的质量丢失。\n",
    "\n",
    "><font size=3 color=purple ><b>2. Reads 开头出现较高比例的 N\n",
    "\n",
    ">>原因：尽管文库整体测序质量较高，但在reads开头出现较高比例的“N”可能是由于文库的碱基组成偏离较大。测序仪在处理这些reads开头时，由于碱基组成不均匀（例如在GBS文库中，由于条形码或酶切位点的固定碱基序列），无法准确识别这些碱基，从而无法进行正确的碱基调用（base calling），导致用“N”来代替这些位置的碱基。\n",
    "\n",
    ">>判断方法：这种现象可以通过结合Per Base Sequence Content的结果来判断。在Per Base Sequence Content图表中，如果看到开头几位的碱基组成发生明显偏离，且这些位置的质量评分较低，则可以推测这些位置的N是由于碱基组成偏差导致的。\n",
    "\n",
    "<font size=3 color=red ><b>该N的含量越小越好，为0是最最最理想的。\n",
    "\n",
    "\n",
    "**标准：**\n",
    "\n",
    "- 如果任何一个位置 N 的比例大于 5 % 则报**警告**\n",
    "- 大于 20 % 则报**不合格**。"
   ]
  },
  {
   "attachments": {},
   "cell_type": "markdown",
   "id": "e39b3ed5-759f-41f4-8231-a34629eabdac",
   "metadata": {},
   "source": [
    "### Sequence Length Distribution\n",
    "<font size=3 color=red ><b>质控前：\n",
    "\n",
    "<img src=\"./picture/023.png\" width=\"700\"/>\n",
    "\n",
    "* 该部分是序列长度分布情况，上图例子显示，整个数据序列的长度分布于100~102之间。\n",
    "\n",
    "* 测序仪出来的原始 reads 通常是均一长度的，但经过质控软件等处理过的数据则不然。\n",
    "\n",
    "><font size=3 color=purple><b>接头序列剪切：\n",
    "\n",
    ">>在测序过程中，reads可能包含接头（adapter）序列。如果接头序列没有被完全剪切掉，质控软件会识别并去除这些接头序列。接头序列的去除可能导致reads长度不再一致，特别是在测序片段较短的情况下，去除接头序列后剩余的序列长度会变短。\n",
    "\n",
    "><font size=3 color=purple><b>低质量碱基的剪切：\n",
    "\n",
    ">>质控软件通常会检测并去除reads中质量较低的碱基，尤其是reads的末端。如果某些碱基的质量低于设定的阈值，这些碱基会被剪掉，从而导致reads的长度缩短。由于不同reads的低质量区段长度不同，处理后的reads长度可能会有所差异。\n",
    "\n",
    "><font size=3 color=purple><b>去除污染序列：\n",
    "\n",
    ">>在某些情况下，质控软件可能会识别并去除污染序列或低复杂度序列（如多次重复的碱基）。这些序列的去除同样可能导致reads长度的变化。\n",
    "\n",
    "><font size=3 color=purple><b>质量过滤：\n",
    "\n",
    ">>质控软件可能会完全丢弃一些长度过短或质量过低的reads。这意味着在处理后，剩余的reads可能存在不同的长度，尤其是如果被部分剪切后的reads依然通过了质量过滤。\n",
    "\n",
    "<font size=3 color=red ><b>质控后：\n",
    "\n",
    "<img src=\"./picture/024.png\" width=\"700\"/>\n",
    "\n",
    "\n",
    "\n",
    "\n",
    "**标准：**\n",
    "\n",
    "- 当 reads 长度不一致时报**警告**\n",
    "- 当有长度为 0 的 reads 时则报**不合格**。"
   ]
  },
  {
   "attachments": {},
   "cell_type": "markdown",
   "id": "a294932e-ea49-475d-a46b-bafe675ed6a3",
   "metadata": {},
   "source": [
    "### Sequence Duplication Level\n",
    "<img src=\"./picture/025.png\" width=\"700\"/>\n",
    "\n",
    "- 横坐标为重复（duplication）的次数，纵坐标为reads的数目\n",
    "- 为了减少该模块的内存需求，只分析每个文件中前20万个序列中出现的序列。分析每个文件中的前200,000个序列，但这应该足以对整个文件的重复程度有一个好的印象\n",
    "- **低重复度**：在一个多样性的文库中，大多数序列只会出现一次。这通常意味着测序覆盖度高，即测序数据很好地覆盖了目标序列的不同区域\n",
    "- **高重复度**：如果某些序列多次出现，可能表明数据存在偏差，例如PCR过度扩增。高重复度通常意味着测序过程中对某些序列进行了过度扩增\n",
    "\n",
    "**标准**\n",
    "\n",
    "- 如果非唯一序列占总数的20%以上，该模块将发出经**警告**\n",
    "- 如果非独特的序列占总数的50%以上，该模块将发出一个**不合格**"
   ]
  },
  {
   "cell_type": "markdown",
   "id": "70afcdf7-eaf5-4b78-af96-e34702db70ac",
   "metadata": {},
   "source": [
    "<font size=4 color=red ><b>为什么ChIP-seq中duplication会过多？\n",
    "\n",
    ">在ChIP-seq实验中，样本量通常较少，因此需要进行多轮PCR扩增来生成足够的DNA用于测序\n",
    "\n",
    ">有可能某个转录因子在基因组中的结合位点非常有限，并且这些位点非常集中，那么使用针对该转录因子的抗体进行ChIP-seq实验时，测序结果中会有很多重复的序列"
   ]
  },
  {
   "attachments": {},
   "cell_type": "markdown",
   "id": "fdc810bf-88ca-4e77-a295-6353844d8341",
   "metadata": {},
   "source": [
    "### Overrepresented sequences\n",
    "<img src=\"./picture/026.png\" width=\"800\"/>"
   ]
  },
  {
   "cell_type": "markdown",
   "id": "a0d18431-7bac-4fdd-b829-90a89f0e1617",
   "metadata": {},
   "source": [
    "- 它展示了长度至少20bp，数量占总数0.1%以上的reads碱基组成，它可以帮助判断污染(比如：载体、接头序列)。\n",
    "- 一个正常的高通量文库将包含一组不同的序列，没有单个序列占整体的一小部分。发现单个序列在集合中被过度代表，要么意味着它具有高度的生物学意义，要么表明文库被污染了\n",
    "\n",
    ">对于每一个过度代表的序列，程序将在一个常见污染物的数据库或接头数据库中寻找匹配，并报告它找到的最佳匹配\n",
    "\n",
    ">如果不是，可以复制序列去blast\n",
    "\n",
    "- 为了节省内存，只有出现在前200,000个序列中的序列才被跟踪到文件的末尾。因此，由于某种原因，该模块可能会错过一个被过度表示但未出现在文件开头的序列。\n",
    "\n",
    "- 由于重复检测需要在序列的整个长度上进行精确的序列匹配，因此任何**长度超过75bp的读取都被截断为50bp**\n",
    "\n",
    "**标准**\n",
    "\n",
    "- 当发现超过总reads数0.1%的reads时报**WARN**\n",
    "- 当发现超过总reads数1%的reads时报**FALL**"
   ]
  },
  {
   "attachments": {},
   "cell_type": "markdown",
   "id": "206378ec-feb6-4b80-ab68-6676b2adc8bf",
   "metadata": {},
   "source": [
    "### Adapter Content\n",
    "<font size=4 color=red ><b>没去除接头\n",
    "\n",
    "<img src=\"./picture/027.png\" width=\"700\"/>\n",
    "\n",
    "- 上图中adapter没有去除，在后续分析的时候需要先使用去接头软件进行去接头。\n",
    "\n",
    "<font size=4 color=red ><b>去除接头后\n",
    "\n",
    "<img src=\"./picture/028.png\" width=\"700\"/>\n",
    "\n",
    "- 当时fastqc分析的时候 **-a** 选项没有内容，则默认使用图例中的四种通用adapter序列进行统计\n"
   ]
  },
  {
   "attachments": {},
   "cell_type": "markdown",
   "id": "58d67938-18b5-4a85-9ce6-c0b7ee0c6bcf",
   "metadata": {},
   "source": [
    "### Overrepresented Kmers\n",
    "<img src=\"./picture/029.png\" width=\"700\"/>\n",
    "\n",
    "- k个bp的短序列在reads中大量出现，其频率高于统计期望的话，fastqc将其记为over-represented k-mer。默认的k = 5\n",
    "- **-k**可以指定Kmer内容模块中要查找的Kmer长度。指定的Kmer长度必须在2到10之间\n",
    "- 出现频率总体上3倍于期望或是在某位置上5倍于期望的k-mer被认为是over-represented\n",
    "\n",
    "<font size=3 color=red ><b>过度代表的K-MERs有可能是污染，也可能是与转录因子的 DNA 结合位点相关\n",
    "\n",
    "**标准**\n",
    "- 当有出现频率总体上3倍于期望或是在某位置上5倍于期望的k-mer时，报**WARN**\n",
    "- 当有出现频率在某位置上10倍于期望的k-mer时报**FAIL**\n",
    "\n",
    "<font size=4 color=purple ><b>chip-seq 中的Kmers\n",
    "\n",
    "<img src=\"./picture/030.png\" width=\"700\"/>\n",
    "\n",
    "* 对于 ChIP-seq 数据来说，这一指标出现**FAIL**是意料之中的，而且实际上是数据中信号良好的标志"
   ]
  },
  {
   "cell_type": "markdown",
   "id": "7efc1c42-7f82-4d17-b9d7-57458b31fda9",
   "metadata": {},
   "source": [
    "## QC report reference in CUT&Tag\n",
    "\n",
    "* [QC report reference in CUT&Tag](https://www.bioinformatics.babraham.ac.uk/projects/fastqc/bad_sequence_fastqc.html)"
   ]
  },
  {
   "cell_type": "markdown",
   "id": "d61c94c5-41d7-4412-88db-b60495fb8610",
   "metadata": {},
   "source": [
    "## Data cleaning——cutadapt\n",
    "\n",
    "### Theory\n",
    "\n",
    "* [cutadapt](https://github.com/FelixKrueger/TrimGalore/blob/master/Docs/Trim_Galore_User_Guide.md)\n",
    "* Step 1: Quality Trimming——去除reads 3’端的低质量碱基\n",
    "\n",
    "  illumina平台的测序数据，通常3’端质量较差。trim_galore首先会过滤掉3”端的低质量碱基.\n",
    "\n",
    "* Step 2: Adapter Trimming——去除adapter序列\n",
    "* Step 3: Removing Short Sequences——去除长度太短的序列。默认情况下，如果序列长度少于20bp,这条序列会被丢掉。\n",
    "\n",
    "<font size=3 color=red ><b>如果对双端测序中的一个文件单独分析，不建议删除太短的序列\n",
    "\n",
    ">因为这可能会破坏成对序列的顺序，而这种顺序对许多比对软件很重要\n",
    "\n",
    ">Trim Galore对双端测序修剪后验证成对序列的完整性，如果其中一个序列变得太短，整个序列对会被移除\n",
    "\n",
    ">Trim Galore有一个选项(--retain_unpaired)。如果**只有**一个序列合格，这个序列会被保存到单独的文件中以便单端比对。这可以确保你最终使用的数据是高质量的。"
   ]
  },
  {
   "cell_type": "markdown",
   "id": "6c1955a7-4e03-4768-bbe5-85067ab78074",
   "metadata": {},
   "source": [
    "* Step 4: Specialised Trimming 专业修整\n",
    "\n",
    "> Hard-trimming to leave bases at the 5'-end\n",
    "\n",
    ">>--hardtrim5 INT\n",
    "\n",
    ">>这个选项会硬性截短序列，只保留从 5' 端开始的指定数量（INT 个碱基）。也就是说，无论序列原来的长度是多少，只会保留序列最前面的 INT 个碱基，其余部分会被完全删除。生成硬修整 FastQ 文件\n",
    "\n",
    "> Hard-trimming to leave bases at the 3'-end\n",
    "\n",
    ">>--hardtrim3 INT\n",
    "\n",
    ">>这个选项会硬性截短序列，只保留从 3' 端开始的指定数量（INT 个碱基）。也就是说，无论序列原来的长度是多少，只会保留序列最前面的 INT 个碱基，其余部分会被完全删除。并生成硬修整 FastQ 文件\n",
    "\n",
    ">小鼠表观遗传学时钟修整\n",
    "\n",
    ">>--clock\n",
    "\n",
    ">>https://genomebiology.biomedcentral.com/articles/10.1186/s13059-017-1203-5\n",
    "        \n",
    "        \n",
    "        \n",
    "        \n",
    "        \n",
    "        \n",
    "        \n",
    "        \n",
    "        \n",
    "        \n",
    "        \n",
    "        \n",
    "        \n",
    "        \n",
    "        \n",
    "        \n",
    "        \n",
    "        \n",
    "        \n",
    "        \n",
    "        \n",
    "        \n",
    "        \n",
    "        \n",
    "        \n",
    "        \n",
    "        \n",
    "        \n",
    "        \n",
    "        \n",
    "        \n",
    "        \n",
    "        \n",
    "        \n",
    "        \n",
    "        \n",
    "        \n",
    "        \n",
    "        \n",
    "        \n",
    "        \n",
    "        \n",
    "        \n",
    "        \n",
    "        \n",
    "        \n",
    "        \n",
    "        \n",
    "        \n",
    "        \n",
    "        \n",
    "        \n",
    "        \n",
    "        \n",
    "        \n",
    "        \n",
    "        \n",
    "        \n",
    "        \n",
    "        \n",
    "        \n",
    "        \n",
    "        \n",
    "        \n",
    "        \n",
    "        \n",
    "        \n",
    "        \n",
    "        \n",
    "        \n",
    "        \n",
    "        \n",
    "        \n",
    "        \n",
    "        \n",
    "        \n",
    "        \n",
    "        \n",
    "        \n",
    "        \n",
    "        \n",
    "        \n",
    "        \n",
    "        \n",
    "        \n",
    "        \n",
    "        \n",
    "        \n",
    "        \n",
    "        \n",
    "        \n",
    "        \n",
    "        \n",
    "        \n",
    "        \n",
    "        \n",
    "        \n",
    "        \n",
    "        \n",
    "        \n",
    "        \n",
    "        \n",
    "        \n",
    "        \n",
    "        \n",
    "        \n",
    "        \n",
    "        \n",
    "        \n",
    "        \n",
    "        \n",
    "        \n",
    "        \n",
    "        \n",
    "        \n",
    "        \n",
    "        \n",
    "        \n",
    "        \n",
    "        \n",
    "        \n",
    "        \n",
    "        \n",
    "        \n",
    "        \n",
    "        \n",
    "        \n",
    "        \n",
    "        \n",
    "        \n",
    "        \n",
    "        \n",
    "        \n",
    "        \n",
    "        \n",
    "        \n",
    "        \n",
    "        \n",
    "        \n",
    "        \n",
    "        \n",
    "        \n",
    "        \n",
    "        \n",
    "        \n",
    "        \n",
    "        \n",
    "        \n",
    "        \n",
    "        \n",
    "        \n",
    "        \n",
    "        \n",
    "        \n",
    "        \n",
    "        \n",
    "        \n",
    "        \n",
    "        \n",
    "        \n",
    "        \n",
    "        \n",
    "        \n",
    "        \n",
    "        \n",
    "        \n",
    "        \n",
    "        \n",
    "        \n",
    "        \n",
    "        \n",
    "        \n",
    "        \n",
    "        \n",
    "        \n",
    "        \n",
    "        \n",
    "        \n",
    "        \n",
    "        \n",
    "        \n",
    "        \n",
    "        \n",
    "        \n",
    "        \n",
    "        \n",
    "        \n",
    "        \n",
    "        \n",
    "        \n",
    "        \n",
    "        \n",
    "          \n",
    ">>选项用于处理双-UMI（唯一分子标识符）测序数据，特别是用于鼠类表观遗传钟分析。它会识别并移除序列中的UMI和固定的非测序片段，把这些信息记录到序列的ID中，然后生成修剪后的文件。这些文件随后需要进一步修剪掉尾端的15个碱基，以确保所有UMI和固定序列都被移除。之后，数据可以进行比对和去重，以便于后续的DNA甲基化分析。"
   ]
  },
  {
   "cell_type": "markdown",
   "id": "aa4c585c-a669-4178-87c3-1277df564f63",
   "metadata": {},
   "source": [
    "### parameters"
   ]
  },
  {
   "cell_type": "code",
   "execution_count": null,
   "id": "bd2b49b4-af04-4e71-9e29-26d01e415ca8",
   "metadata": {},
   "outputs": [],
   "source": [
    "    trim_galore  # 输入文件名\n",
    "\n",
    "#输入选项  \n",
    "    --paired \n",
    "      # 用于双端测序数据。需要提供两个文件。\n",
    "      # 对于双端测序结果，一对reads中，如果有一个被剔除，那么另一个会被同样抛弃，而不管是否达到标准\n",
    "\n",
    "    --retain_unpaired\n",
    "      # 如果两个配对端读取中只有一个太短，则较长的读取将写入任一文件或输出文件\n",
    "      # 默认情况下retain_unpaired 是关闭的（OFF）。这意味着如果一对读取中只有一个读取满足长度要求，则整个读取对都会被丢弃\n",
    "      # 当双端测序数据中两个读取的质量差异较大时，其中一个读取可能会由于低质量区域的修剪变得非常短。如果你希望保留较长的那个读取以进行单端分析，可以启用 --retain_unpaired 选项。\n",
    "      \n",
    "    -r1 <INT> # 指保留R1时的最小长度阈值,这个长度是指在经过质量修剪之后，R1 必须达到的最小长度。如果启用了--retain_unpaired，且R1 满足这个长度要求但R2 太短，则R1 会被保留并写入 unpaired_1.fq 文件中。\n",
    "    -r2 <INT> # 指保留R2时的最小长度阈值\n",
    "    \n",
    "    --phred33 # 质量分数为Phred+33编码\n",
    "    --phred66 # 质量分数为Phred+64编码\n",
    "\n",
    "\n",
    "#输出选项\n",
    "    -o # 指定输出目录\n",
    "    --gzip # 输出文件为解压文件\n",
    "    --dont_gzip # 输出文件不为解压文件\n",
    "\n",
    "    --fastqc # 修剪完成后运行fastqc\n",
    "    --fastqc_args \"<ARGS>\" \n",
    "      # 将额外的参数传递给 FastQC\n",
    "      # 例如：--fastqc_args \"--nogroup --outdir /home/\"\n",
    "      # 参数将自动调用 FastQC，因此不必单独指定。--fastqc\n",
    "\n",
    "\n",
    "#性能优化\n",
    "    --cores <int> \n",
    "      # 指定使用的核心数。建议使用 4 核，以达到性能和效率的最佳平衡 \n",
    "      # 只支持python3以上的版本，Python2只能使用单线程\n",
    "\n",
    "\n",
    "#普通修剪选项\n",
    "    -q <int> # 设置修剪低质量碱基的阈值，默认为 20（按默认走就行）\n",
    "\n",
    "    --max_length <int> # 修剪后丢弃长度超过 bp 的读数\n",
    "    --length <int> # 设置最小读段长度，低于此长度的读段将被丢弃（默认20）\n",
    "\n",
    "    --stringency <int>\n",
    "      # 如果在读取序列的末端找到了一个至少具有指定长度的adapte序列重叠部分，则认为该序列包含adapte，并从该位置进行修剪\n",
    "      # 默认为1(非常苛刻)可以适度放宽至3到4，因为后一个adapter几乎不可能被测序仪读到\n",
    "      # 较高的 stringency 值可以减少误匹配的修剪，但可能会导致一些实际包含adapter的序列未被修剪；较低的 stringency 值则相反\n",
    "\n",
    "     -e <int>\n",
    "      # 参数用于设置adapte序列匹配时允许的最大错误率（即错配、插入或删除的比例）\n",
    "      # 错误率越高，匹配adapte的严格性就越低，反之则越严格。\n",
    "      # 默认为0.1\n",
    "    \n",
    "\n",
    "#特定修剪选项\n",
    "    --clip_R1 <int> # 指 单端测序 或 双端测序中的R1 5' 端去除指定数量的碱基\n",
    "    --clip_R2 <int> # 指双端测序中的R2 5' 端去除指定数量的碱基\n",
    "      # 在双端 BS-Seq（双硫化物测序）中，5' 端的碱基可能因为末端修复反应而导致低甲基化偏差。根据M-bias plot section in the Bismark User Guide，适当去除几个位点的碱基\n",
    "\n",
    "    --three_prime_clip_R1 <int> # 指修剪adapter后，单端测序 或 双端测序中的R1 3' 端去除指定数量的碱基\n",
    "    --three_prime_clip_R2 <int> # 指修剪adapter后，双端测序中的R2 3' 端去除指定数量的碱基\n",
    "\n",
    "    --max_n COUNT <int> # 参数用于设置允许序列中最大未确定碱基（N）的数量。如果序列中的未确定碱基数超过了这个指定的阈值，则该序列将被完全过滤掉\n",
    "    --trim-n # 从读取的任一侧删除未确定碱基（N）\n",
    "\n",
    "    --2colour/--nextseq INT\n",
    "      # 在 NextSeq 和 NovaSeq 平台上，G 碱基在没有信号的情况下也可能被标记为高质量，这会导致下游分析中的问题\n",
    "      # 详细见：https://sequencing.qcfail.com/articles/illumina-2-colour-chemistry-can-overcall-high-confidence-g-bases/.\n",
    "\n",
    "\n",
    "#特定adapter选项\n",
    "    -a # 指定特定的adapter\n",
    "    -a2 # 选项用于指定第二条adapte序列。这在双端测序处理中尤其有用"
   ]
  },
  {
   "cell_type": "markdown",
   "id": "81278cd3-1235-44f1-a9b8-1a76eb9c3c9c",
   "metadata": {},
   "source": [
    "<font size=3 color=purple ><b>Example"
   ]
  },
  {
   "cell_type": "code",
   "execution_count": null,
   "id": "a2ce529d-16f1-48cd-8b99-1047dd626bf1",
   "metadata": {},
   "outputs": [],
   "source": [
    "# 单端测序：\n",
    "trim_galore IP_H3K27ac_Vehicle_1.fastq.gz -q 25 --phred33 --length 25 -e 0.1 --stringency 4\n",
    "\n",
    "# 双端测序:\n",
    "trim_galore \\\n",
    "            --paired \\\n",
    "            --phred33 \\\n",
    "            --length 50  \\\n",
    "            --fastqc KChIP2-OE-230929S_230929S_R1.fastq.gz KChIP2-OE-230929S_230929S_R2.fastq.gz \\\n",
    "            --stringency 4 --cores 4 --clip_R1 15 --clip_R2 15 \\\n",
    "            -o trim_galore"
   ]
  },
  {
   "cell_type": "markdown",
   "id": "37699548-e157-4f6f-8c7f-75a034d5a567",
   "metadata": {},
   "source": [
    "# Reads Alignment"
   ]
  },
  {
   "cell_type": "markdown",
   "id": "62d82fd5-e7e7-411e-a5f4-4bc0fce89c3e",
   "metadata": {},
   "source": [
    "## Different of DNAseq alignment and RNAseq alignment\n",
    "\n",
    "* DNAseq：DNAseq的序列通常是连续的，与参考基因组的比对无需考虑剪接事件。\n",
    "\n",
    "* RNAseq：RNAseq比对需要考虑到mRNA的剪接情况，因此需要使用能够处理剪接事件的工具，如 STAR、HISAT2 等。这些工具可以将RNA序列比对到参考基因组的不同外显子上，并处理内含子区域。"
   ]
  },
  {
   "attachments": {},
   "cell_type": "markdown",
   "id": "592eb6ba-15db-41c9-9464-0859309b789c",
   "metadata": {},
   "source": [
    "## Method of DNAseq alignment——seed and extend\n",
    "\n",
    "* [seed-and-extend](https://www.ncbi.nlm.nih.gov/pmc/articles/PMC4695832\n",
    "        \n",
    "        \n",
    "        \n",
    "        \n",
    "        \n",
    "        \n",
    "        \n",
    "        \n",
    "        \n",
    "        \n",
    "        \n",
    "        \n",
    "        \n",
    "        \n",
    "        \n",
    "        \n",
    "        \n",
    "        \n",
    "        \n",
    "        \n",
    "        \n",
    "        \n",
    "        \n",
    "        \n",
    "        \n",
    "        \n",
    "        \n",
    "        \n",
    "        \n",
    "        \n",
    "        \n",
    "        \n",
    "        \n",
    "        \n",
    "        \n",
    "        \n",
    "        \n",
    "        \n",
    "        \n",
    "        \n",
    "        \n",
    "        \n",
    "        \n",
    "        \n",
    "        \n",
    "        \n",
    "        \n",
    "        \n",
    "        \n",
    "        \n",
    "        \n",
    "        \n",
    "        \n",
    "        \n",
    "        \n",
    "        \n",
    "        \n",
    "        \n",
    "        \n",
    "        \n",
    "        \n",
    "        \n",
    "        \n",
    "        \n",
    "        \n",
    "        \n",
    "        \n",
    "        \n",
    "        \n",
    "        \n",
    "        \n",
    "        \n",
    "        \n",
    "        \n",
    "        \n",
    "        \n",
    "        \n",
    "        \n",
    "        \n",
    "        \n",
    "        \n",
    "        \n",
    "        \n",
    "        \n",
    "        \n",
    "        \n",
    "        \n",
    "        \n",
    "        \n",
    "        \n",
    "        \n",
    "        \n",
    "        \n",
    "        \n",
    "        \n",
    "        \n",
    "        \n",
    "        \n",
    "        \n",
    "        \n",
    "        \n",
    "        \n",
    "        \n",
    "        \n",
    "        \n",
    "        \n",
    "        \n",
    "        \n",
    "        \n",
    "        \n",
    "        \n",
    "        \n",
    "        \n",
    "        \n",
    "        \n",
    "        \n",
    "        \n",
    "        \n",
    "        \n",
    "        \n",
    "        \n",
    "        \n",
    "        \n",
    "        \n",
    "        \n",
    "        \n",
    "        \n",
    "        \n",
    "        \n",
    "        \n",
    "        \n",
    "        \n",
    "        \n",
    "        \n",
    "        \n",
    "        )\n",
    "\n",
    "\n",
    "<img src=\"./picture/031.png\" width=\"500\"/>\n",
    "\n",
    "\n",
    "> 1. 通过扫描参考基因组序列，对参考基因组序列建立哈希表，将序列分成一定长度的小片段（k-mer），这种小片段也被称之为**种子**。实施基于Needleman-Wunsch算法或Smith-Waterman算法的标准动态程序来进行seed与index对齐\n",
    "\n",
    "> 2. 在目标序列中查找和种子序列相同的片段并标记，以这些标记点为锚点**向左右最大限度延伸，并且中间不能有gap**\n",
    "\n",
    "> 3. 将不合条件的舍弃，符合条件的结果将输出保存。\n",
    "\n",
    "* 不同软件的算法在比对层面（sensitivity and precision）和运算层面（消耗的时间和内存）各异；并且选择的seed长度不同，比对和运算结果也不同，一般来讲，短的seed可以提高比对的敏感度，而长的seed可以提高比对速度；大部分算法都会给比对结果提供一个质量值（在SAM/BAM的结果有体现） "
   ]
  },
  {
   "attachments": {},
   "cell_type": "markdown",
   "id": "741d24dc-609b-4cf5-a162-aa57df597679",
   "metadata": {},
   "source": [
    "## Different of Signle-read alignment and Paired-End alignment\n",
    "\n",
    "**假设一条DNA序列包含许多重复序列（下图红色）**\n",
    "\n",
    "* 假设单端测序片段为重复序列片段，在比对的时候，有可能映射到多个重复序列，导致结果不准确\n",
    "\n",
    "* 而双端测序，需要2端一起匹配上，才会映射，防止映射到多个重复序列\n",
    "\n",
    "<img src=\"./picture/032.png\" width=\"600\"/>"
   ]
  },
  {
   "cell_type": "markdown",
   "id": "da6ed4b0-3ff8-4ec7-856c-df8475116a41",
   "metadata": {},
   "source": [
    "## Global Alignment and Local Alignment\n",
    "\n",
    "* **全局比对(Global Alignment)**\n",
    "\n",
    " 全局比对是**将整个查询序列与参考序列进行比对，目标是找到两个序列之间的最优匹配**，全局比对适用于具有相对较高的相似性且较长的序列，例如比对整个基因组或全长 cDNA 序列。常用的全局比对算法包括 Needleman-Wunsch 算法和 Smith-Waterman 算法。全局比对会考虑整个序列的匹配、替代和插入/删除信息，但计算成本较高。\n",
    "\n",
    ">优势：能够检测到插入、缺失等复杂变异，适合高质量的读长较长的数据。\n",
    "\n",
    ">劣势：如果读序列中存在低质量区域或adapters等非生物学意义的序列，全局比对可能会产生较低的比对率\n",
    "\n",
    "* **局部比对(Local Alignment)**\n",
    "\n",
    "局部比对是**寻找两个序列中的一个或多个片段的最优匹配**，局部比对适用于具有较小的片段或存在插入/删除的情况。常用的局部比对算法是 Smith-Waterman 算法。\n",
    "\n",
    ">优势：在处理质量较差的数据或序列中存在非生物学意义的片段时，比对率更高，能够处理部分匹配的情况。\n",
    "\n",
    ">劣势：可能会忽略掉一些复杂的结构变异，尤其是当这些变异涉及较长序列的精确比对时。"
   ]
  },
  {
   "cell_type": "markdown",
   "id": "abd79fa4-7fd0-417e-a3c2-7ce8912ecaed",
   "metadata": {},
   "source": [
    "## Software selection of Alignment"
   ]
  },
  {
   "cell_type": "markdown",
   "id": "807b00b6-1c37-4d74-86ca-998e39954b44",
   "metadata": {},
   "source": [
    "* **Bowtie2**\n",
    "\n",
    ">特别适合处理小片段的 DNA 或 RNA 序列,擅长对齐 大约 50 到 100 或 1,000 个字符。适合处理小片段、较短的 RNA-seq 或 ChIP-seq 数据\n",
    "\n",
    ">内存占用小：对于人类 基因组，其内存占用量通常约为 3.2 GB\n",
    "\n",
    ">不擅长处理长的读长或有复杂拼接结构的序列，或具有大量插入或缺失（Indel）的序列。\n",
    "\n",
    "* **STAR**\n",
    "\n",
    ">STAR是ENCODE官方推荐的RNA-seq比对工具，特别适合 RNA-seq 数据的处理，尤其是需要检测可变剪接的研究\n",
    "\n",
    ">速度快，但内存消耗较大\n",
    "\n",
    "* **HISAT2**\n",
    "\n",
    "> HISAT2 是基于 Bowtie2 开发的一款新一代比对工具，特别针对 RNA-seq 数据设计，同时也能有效处理 DNA-seq 数据。\n",
    "\n",
    "> 内存占用少，比 Bowtie2 处理复杂剪接的能力更强"
   ]
  },
  {
   "cell_type": "markdown",
   "id": "a275bb17-5f5e-42ac-898f-81d904f77e9c",
   "metadata": {},
   "source": [
    "## Bowtie2"
   ]
  },
  {
   "cell_type": "markdown",
   "id": "5d1dd59a-d9e0-4d80-b3b5-74ceea5d041f",
   "metadata": {},
   "source": [
    "### Bowtie2 installation"
   ]
  },
  {
   "cell_type": "markdown",
   "id": "b474cd22-c173-44ac-89d5-6ef0ef5183d0",
   "metadata": {},
   "source": [
    "* [Bowtie2 官方网站](https://bowtie-bio.sourceforge.net/bowtie2/index.shtml)\n",
    "**进入网站下载index(基因组)，如ucsc的hg19**\n",
    "\n",
    "* **Software installation**\n",
    "`conda install -c bioconda bowtie2`\n",
    "\n",
    "* **index准备**\n",
    "\n",
    "> 创建一个index文件夹放index，并到其目录下\n",
    "\n",
    "> 安装解压程序`sudo apt-get install unzip`\n",
    "\n",
    "> 解压index文件`unzip hg19.zip`\n",
    "\n",
    "> 查看index路径`pwd`"
   ]
  },
  {
   "cell_type": "markdown",
   "id": "85edc37b-cf89-4f4e-923a-443f0dd02b22",
   "metadata": {},
   "source": [
    "### parameters"
   ]
  },
  {
   "cell_type": "code",
   "execution_count": null,
   "id": "e4f18b10-9fc4-42c5-ab0e-d4a680452930",
   "metadata": {},
   "outputs": [],
   "source": [
    "    bowtie2\n",
    "   \n",
    "    -x <bt2-idx> #指定Bowtie2索引文件的前缀（去掉后缀.bt2）\n",
    "    \n",
    "    -1 <m1> -2 <m2> #指定成对的双端读序列文件\n",
    "    -U <r> #指定单端（未配对）的读序列文件\n",
    "    --interleaved <i> #指定包含双端读序列的交错文件\n",
    "\n",
    "    -b <bam> #指定未比对的BAM文件，这些BAM文件按读序列名称排序\n",
    "\n",
    "    \n",
    "#输入格式\n",
    "    -q #输入文件为FASTQ格式（默认）。\n",
    "    -f #输入文件为FASTA格式。\n",
    "    \n",
    "    -c：<m1>, <m2>, <r> \n",
    "     #当你使用-c时，你不需要指定输入文件，而是将序列直接写在命令中，序列以字符串形式输入\n",
    "    \n",
    "    --phred33 #质量分数为Phred+33编码（默认）。\n",
    "    --phred64 #质量分数为Phred+64编码。\n",
    "\n",
    "    -s/--skip <int> #跳过输入中的前<int>个读取或配对（默认不跳过）。\n",
    "    -u/--upto <int> #在处理前<int>个读取或配对后停止（默认不限制）。\n",
    "    -5/--trim5 <int> #从读取的5'/左端剪切<int>个碱基（默认0）。\n",
    "    -3/--trim3 <int> #从读取的3'/右端剪切<int>个碱基（默认0）。\n",
    "\n",
    "    \n",
    "#比对模式\n",
    "    --end-to-end #要求整个读序列进行比对，不允许部分比对（默认开启）。\n",
    "    --very-fast #对应于-D 5 -R 1 -N 0 -L 22 -i S,0,2.50。速度非常快。\n",
    "    --fast #对应于-D 10 -R 2 -N 0 -L 22 -i S,0,2.50。速度较快。\n",
    "    --sensitive #对应于-D 15 -R 2 -N 0 -L 22 -i S,1,1.15（默认）。灵敏度较高。\n",
    "    --very-sensitive #对应于-D 20 -R 3 -N 0 -L 20 -i S,1,0.50。灵敏度非常高\n",
    "\n",
    "    --local #允许局部比对，序列末端可能被软剪切\n",
    "    --very-fast-local #对应于-D 5 -R 1 -N 0 -L 25 -i S,1,2.00。速度非常快。\n",
    "    --fast-local #对应于-D 10 -R 2 -N 0 -L 22 -i S,1,1.75。速度较快。\n",
    "    --sensitive-local #对应于-D 15 -R 2 -N 0 -L 20 -i S,1,0.75（默认）。灵敏度较高。\n",
    "    --very-sensitive-local #对应于-D 20 -R 3 -N 0 -L 20 -i S,1,0.50。灵敏度非常高。\n",
    "    \n",
    "\n",
    "#比对过程中的特定行为\n",
    "    -D <int>  #设置在延长（扩展）比对时，如果连续遇到int次失败，便会放弃继续延长。\n",
    "    -R <int>  #当遇到重复的种子序列（即多个地方可能与参考序列匹配的种子），它会尝试int组不同的种子（其他位置）来进行比对。\n",
    "    -N <int>  #允许种子比对中最多有int个错配（mismatch）。\n",
    "    -L <int>  #设置种子序列的长度为int个碱基。\n",
    "    -i S,<int1>,<int2> \n",
    "    # 设置种子序列的间隔函数，用于决定种子比对的策略。\n",
    "    # S表示间隔函数类型，这里是线性间隔函数（S for \"Step\" function）。\n",
    "    # int1表示种子序列之间的距离\n",
    "    # int2这是间隔的增长率。这个值决定了种子序列之间的间隔随着比对过程的推进如何增长。\n",
    "    #具体来说，每提取一个新的种子序列，其位置会在之前种子位置的基础上，按照公式 int2 × <current seed length> 向前移动。\n",
    "    #较高的增长率（如 2.50）适用于对速度有较高要求的场景，而较低的增长率（如 0.50）则更适合对准确性要求较高的场合\n",
    "\n",
    "\n",
    "#配对选项\n",
    "    -I/--minins <int> #最小片段长度（默认0）。\n",
    "    -X/--maxins <int> #最大片段长度（默认500）。\n",
    "\n",
    "   \n",
    "#输出\n",
    "    -S <sam> #输出SAM格式的文件。如果未指定，结果输出到标准输出。\n",
    "    --un <path> #将未比对的单端读序列写入指定路径。\n",
    "    --al <path> #将至少比对过一次的单端读序列写入指定路径。\n",
    "    &> #将命令的标准输出和错误输出重定向到指定的日志文件\n",
    "\n",
    "#性能优化\n",
    "    -p/--threads <int> #指定使用多少线程进行比对（默认1）。"
   ]
  },
  {
   "cell_type": "markdown",
   "id": "3ecc7229-eb45-408d-8aeb-c1ec60326be4",
   "metadata": {},
   "source": [
    "<font size=3 color=purple ><b>Example"
   ]
  },
  {
   "cell_type": "code",
   "execution_count": null,
   "id": "35c539d0-df56-4bfd-9382-97027013fc45",
   "metadata": {},
   "outputs": [],
   "source": [
    "# 单端测序\n",
    "bowtie2 \\ \n",
    "        -p 12 \\\n",
    "        -x  /mnt/e/test/index/ucsu.hg19/hg19 \\\n",
    "        -U IP_H3K27ac_Vehicle_1_trimmed.fq.gz \\ \n",
    "        -S IP_H3K27ac_Vehicle.sam\n",
    "\n",
    "# 双端测序\n",
    "bowtie2 \\\n",
    "        -1 trim_galore/KChIP2-230929S_230929S_R1_val_1.fq.gz \\\n",
    "        -2 trim_galore/KChIP2-230929S_230929S_R2_val_2.fq.gz \\\n",
    "        -x  ../index/bowtie2/GRCr8/GRCr8 \\\n",
    "        -p 12 \\\n",
    "        -S bowtie2/KCHIIP2.sam"
   ]
  },
  {
   "cell_type": "markdown",
   "id": "8c8cdb84-5d02-4cb0-9e29-366ee205aaec",
   "metadata": {},
   "source": [
    "<font size=3 color=red ><b>比对率大于75%才比较可以\n",
    "\n",
    "<font size=3 color=red ><b>有时候相同物种不同公司的index其比对率也有很大差别，如果比对率过低建议更换index试一下"
   ]
  },
  {
   "cell_type": "markdown",
   "id": "717494f0-cd97-41be-87b5-e20b58f5b55c",
   "metadata": {},
   "source": [
    "## Bowtie2 in CUT&Tag"
   ]
  },
  {
   "attachments": {},
   "cell_type": "markdown",
   "id": "050dee2d-7e61-4dd2-86c0-d4723344c5ee",
   "metadata": {},
   "source": [
    "### Adapters and primers\n",
    "\n",
    "* The structure of CUT&Tag insert libraries with Tn5 adapters and barcoded PCR primers  is shown below:\n",
    "\n",
    "<img src=\"./picture/033.png\">"
   ]
  },
  {
   "cell_type": "markdown",
   "id": "2ed63e1b-f43d-4699-a348-82e763a040ef",
   "metadata": {},
   "source": [
    "### Trim Adapter and alignment?\n",
    "\n",
    "* **不需要trim Adapter：**\n",
    "\n",
    "对于25x25 PE测序，由于每个读段长度为25 bp，在这种情况下，适配子序列不会出现在读段中，因为测序长度不足以覆盖整个插入片段并延伸到适配子。因此，适配子序列不会成为问题，也就不需要进行读段修剪。\n",
    "\n",
    "* **需要trim Adapter：**\n",
    "\n",
    "对于更长的读段测序（例如100 bp或更长），测序的读段长度可能接近或超过插入片段的长度。这意味着适配子序列可能出现在读段的末端，可能会干扰比对和后续分析。因此，需要使用Cutadapt修剪掉这些适配子序列，确保后续分析只基于高质量的序列数据。\n",
    "\n",
    "* **使用--local模式进行比对：**\n",
    "\n",
    "对于经过修剪的读段，建议使用--local。--local模式允许比对器在读段的一部分上寻找匹配，而不要求整个读段都参与比对。这非常适合修剪后的读段，因为修剪可能会导致读段长度不一致或出现截断"
   ]
  },
  {
   "cell_type": "markdown",
   "id": "b4de1497-1a1e-4791-9504-5cff52b92183",
   "metadata": {},
   "source": [
    "### Code"
   ]
  },
  {
   "cell_type": "code",
   "execution_count": null,
   "id": "2032590d-6968-4b96-bb6e-f34291274eae",
   "metadata": {},
   "outputs": [],
   "source": [
    "bowtie2 \n",
    "       --end-to-end          #全局比对模式\n",
    "       --local               #局部比对模式\n",
    "\n",
    "       --very-sensitive      #启用非常灵敏的参数设置\n",
    "\n",
    "       --no-mixed            #paired-end reads必须同时成功比对，否则丢弃该对读段\n",
    "       --no-discordant       #paired-end reads必须在合理的距离和并且方向一致内比对，否则丢弃该对读段\n",
    "\n",
    "       --phred33             #指定质量得分的编码格式为Phred+33\n",
    "    \n",
    "       -I 10                 #设置paired-end reads之间的最小插入片段长度为10 bp\n",
    "       -X 700                #设置paired-end reads之间的最大插入片段长度为700 bp\n",
    "\n",
    "       -p <int>              #核心数\n",
    "       -x <index> \n",
    "       -1 <R1.fastq.gz> \n",
    "       -2 <R2.fastq.gz> \n",
    "       -S                    #指定输出SAM文件的路径 \n",
    "       &>                    #将命令的标准输出和错误输出重定向到指定的日志文件"
   ]
  },
  {
   "cell_type": "markdown",
   "id": "6897bbd5-8a22-42f9-8c20-a5645da6d663",
   "metadata": {},
   "source": [
    "<font size=3 color=red ><b>插入片段长度？\n",
    "\n",
    "* **背景** 在paired-end 中，每个paired-end reads来自同一个DNA片段的两端。理论上，这两个读段在参考基因组上比对的位置应该有一个合理的间隔，称为插入片段长度\n",
    "\n",
    "* **实际应用**\n",
    "\n",
    ">选择适当的最小插入片段长度可以帮助排除那些可能由于测序或库构建过程中产生的异常情况。例如，在DNA片段化过程中，有时可能会产生非常短的片段，而这些片段可能导致两个读段之间的间隔太小\n",
    "\n",
    ">选择适当的最大插入片段长度可以帮助排除那些比对到不合理远的区域的读段。例如，如果成对读段的间隔过大，这可能表明这些读段并非来自同一片段，而是由于重复序列或其他原因错误地配对在一起"
   ]
  },
  {
   "cell_type": "markdown",
   "id": "1fa00214-0822-4806-bbc2-42e3aeb65af9",
   "metadata": {},
   "source": [
    "<font size=3 color=purple ><b>Example"
   ]
  },
  {
   "cell_type": "code",
   "execution_count": null,
   "id": "9ddf98fb-55dc-4eba-b86c-d5d131583d1e",
   "metadata": {},
   "outputs": [],
   "source": [
    "bowtie2 \\\n",
    "        -1 trim_galore/KChIP2-230929S_230929S_R1_val_1.fq.gz -2 trim_galore/KChIP2-230929S_230929S_R2_val_2.fq.gz\\\n",
    "        -x  ../index/bowtie2/Rnor_6.0/Rnor_6.0\\\n",
    "        -p 10 \\\n",
    "        -S bowtie2/KCHIIP2.sam \\\n",
    "        --local \\\n",
    "        --very-sensitive \\\n",
    "        --no-mixed \\\n",
    "        --no-discordant \\\n",
    "        --phred33 \\\n",
    "        -I 10 \\\n",
    "        -X 700"
   ]
  },
  {
   "cell_type": "markdown",
   "id": "f5d88649-1798-442b-9e3a-1568c1271223",
   "metadata": {},
   "source": [
    "## Use the E.coli genome to normalize data (optional/recommended)(step1)"
   ]
  },
  {
   "cell_type": "markdown",
   "id": "6f255333-a39e-42da-97de-2ae9b122153f",
   "metadata": {},
   "source": [
    "**背景**\n",
    "\n",
    "* 在CUT&Tag实验中，A-Tn5的转座酶复合物带有细菌来源的DNA（如E.coli的DNA），由于pA-Tn5转座酶通常是在细菌（如E.coli）中表达和纯化的。在这个过程中，不可避免地会有一部分细菌的DNA残留\n",
    "\n",
    "**非特异性标签化**\n",
    "\n",
    "* 在实验中，pA-Tn5蛋白带有的E.coli DNA可能会被非特异性地标签化。因此，在测序数据中可能会发现一部分读段是与E. coli基因组比对的，而不是与目标基因组比对的。\n",
    "\n",
    "**恒定的E.coli DNA量**\n",
    "\n",
    "* 由于在实验中加入的pA-Tn5蛋白的量是恒定的，因此每个反应中的E. coli DNA量也是固定的。这意味着E. coli读段可以作为一个内参（spike-in control）来进行数据的标准化处理。"
   ]
  },
  {
   "cell_type": "markdown",
   "id": "94f40bd2-0255-4c95-9b76-fba7bb3054ed",
   "metadata": {},
   "source": [
    "<font size=4 color=black ><b>Step1 比对E.coli Index \n",
    "\n",
    "<b>1.下载对应版本的E.coli 的fasta文件 \n",
    "\n",
    "https://www.ncbi.nlm.nih.gov/datasets/genome/?taxon=562\n",
    "\n",
    "><font size=2 color=red ><b> 如果不确定版本，可以下载前两个\n",
    "\n",
    "<b>2.将fasta文件转换成index\n",
    "\n",
    "`bowtie2-build Ecoil-ASM584v2.fasta Ecoil-ASM584v2/genome`\n"
   ]
  },
  {
   "cell_type": "markdown",
   "id": "ff70024c-2b1b-4722-8b93-6f938d81a62e",
   "metadata": {},
   "source": [
    "<b>3. 比对E.coli Index\n",
    "\n",
    "* <b>Code"
   ]
  },
  {
   "cell_type": "code",
   "execution_count": null,
   "id": "502ec7a8-ed2b-499b-90ab-2626ea851b8b",
   "metadata": {},
   "outputs": [],
   "source": [
    "bowtie2 \n",
    "       --end-to-end          #全局比对模式\n",
    "       --local               #局部比对模式\n",
    "\n",
    "       --very-sensitive      #启用非常灵敏的参数设置\n",
    "\n",
    "       --no-mixed            #paired-end reads必须同时成功比对，否则丢弃该对读段\n",
    "       --no-discordant       #paired-end reads必须在合理的距离和并且方向一致内比对，否则丢弃该对读段\n",
    "\n",
    "       --phred33             #指定质量得分的编码格式为Phred+33\n",
    "    \n",
    "       -I 10                 #设置paired-end reads之间的最小插入片段长度为10 bp\n",
    "       -X 700                #设置paired-end reads之间的最大插入片段长度为700 bp\n",
    "\n",
    "       -p <int>              #核心数\n",
    "       -x <Ecoil-index> \n",
    "       -1 <R1.fastq.gz> \n",
    "       -2 <R2.fastq.gz> \n",
    "       -S                    #指定输出比对Ecoil的SAM文件的路径 \n",
    "       &>                    #将命令的标准输出和错误输出重定向到指定的日志文件\n",
    "\n",
    "# 在与E.coil比对时候加上以上2种参数，提供了额外的限制条件，确保了比对的准确性。\n",
    "       --no-overlap          #防止paired-end reads比对到重叠的位置\n",
    "       --no-dovetail         #防止paired-end reads在比对时出现交叉现象"
   ]
  },
  {
   "cell_type": "markdown",
   "id": "d68e74fb-8aa0-462e-bd47-d038f496f622",
   "metadata": {},
   "source": [
    "* <b>Example"
   ]
  },
  {
   "cell_type": "code",
   "execution_count": null,
   "id": "e9a4580a-d19b-4de8-a540-7a1570700295",
   "metadata": {},
   "outputs": [],
   "source": [
    "bowtie2 \\\n",
    "        -1 trim_galore/KChIP2-230929S_230929S_R1_val_1.fq.gz -2 trim_galore/KChIP2-230929S_230929S_R2_val_2.fq.gz\\\n",
    "        -x  ../index/bowtie2/Ecoil-ASM584v2/genome\\\n",
    "        -p 10 \\\n",
    "        -S bowtie2/Ecoil/KCHIIP2.sam \\\n",
    "        --local \\\n",
    "        --very-sensitive \\\n",
    "        --no-mixed \\\n",
    "        --no-discordant \\\n",
    "        --phred33 \\\n",
    "        -I 10 \\\n",
    "        -X 700 \\\n",
    "        --no-overlap\\\n",
    "        --no-dovetail "
   ]
  },
  {
   "cell_type": "markdown",
   "id": "5c7b5d58-32e6-4988-afe6-c15716d48fcd",
   "metadata": {},
   "source": [
    "[Click here to view step 2](#Use-the-E.coli-genome-to-normalize-data-(optional/recommended)(step2))"
   ]
  },
  {
   "cell_type": "markdown",
   "id": "4d72d59e-285d-419b-bbe3-cbcf20a23fb6",
   "metadata": {},
   "source": [
    "# Samtools"
   ]
  },
  {
   "cell_type": "markdown",
   "id": "820ee814-9f7e-4764-85e8-1193f0491e30",
   "metadata": {},
   "source": [
    "* samtools是一个用于操作sam和bam文件的工具合集。能够实现二进制查看、格式转换、排序及合并等功能，结合sam格式中的flag、tag等信息，还可以完成比对结果的统计汇总\n",
    "\n",
    "* Software installation: `conda install -c bioconda samtools`"
   ]
  },
  {
   "cell_type": "code",
   "execution_count": null,
   "id": "07ad1f9d-d684-4d6b-b6ff-c76399d7a358",
   "metadata": {},
   "outputs": [],
   "source": []
  },
  {
   "cell_type": "markdown",
   "id": "7c2c78f4-2d42-458c-8a6d-c50228be943c",
   "metadata": {},
   "source": [
    "## Samtools sort\n",
    "\n",
    "* **samtools sort**可以将sam转化为BAM或CRAM，并进行排序\n",
    "\n",
    "* **samtools sort**可以对文件就行自定义排序\n",
    "\n",
    "* [samtools sort](https://www.htslib.org/doc/1.14/samtools-sort.html)"
   ]
  },
  {
   "cell_type": "markdown",
   "id": "2b00e829-1a2f-4e87-907f-9313ff408f7f",
   "metadata": {},
   "source": [
    "<font size=4 color=black ><b>parameters"
   ]
  },
  {
   "cell_type": "code",
   "execution_count": null,
   "id": "e01ea2dd-94c6-48bb-b6a3-0af1cda186fd",
   "metadata": {},
   "outputs": [],
   "source": [
    "    samtools sort #输入文件名\n",
    "\n",
    "\n",
    "#输出选项\n",
    "    -o #指定输出文件的名称\n",
    "    \n",
    "    -O #指定输出文件的格式，如 SAM、BAM 或 CRAM\n",
    "    \n",
    "    -l <int>\n",
    "    #设置输出文件的压缩级别，范围从 0 到 9。\n",
    "    #0 表示不压缩，9 表示最高压缩级别。压缩级别越高，输出文件的大小越小，但压缩所需时间更长\n",
    "\n",
    "\n",
    "#排序选项，默认使用的是按参考基因组位置（coordinate）进行排序\n",
    "    -n  #按读取名称对文件进行排序\n",
    "\n",
    "    -t <TAG>\n",
    "    # 根据指定的 TAG 字段的值对文件进行排序。使用位置作为次级排序标准，如果设置了 -n，则使用读取名称作为次级标准。\n",
    "    # 例如，-t NM 可以根据比对不匹配数 (NM tag) 排序。\n",
    "\n",
    "   -T <PREFIX>\n",
    "   #指定排序过程中使用的临时文件的前缀，临时文件会命名为 PREFIX.nnnn.bam。排序完成后，这些临时文件会被自动删除\n",
    "\n",
    "   --reference\n",
    "   #指定参考序列的 FASTA 文件。\n",
    "   #如果你在输出 CRAM 文件时没有指定参考序列，某些操作可能会失败或输出数据不完整。\n",
    "\n",
    "\n",
    "#性能优化\n",
    "    -m <int>\n",
    "    #设置每个线程可使用的最大内存量，默认为 768MB。\n",
    "    #支持使用 K（千字节）、M（兆字节）、G（千兆字节）作为后缀。例如，-m 2G \n",
    "\n",
    "    -@ <int> #指定使用的线程数量,默认值为 1，即只使用一个线程"
   ]
  },
  {
   "cell_type": "markdown",
   "id": "9cf0f809-3c0c-4b32-be90-84f92808de32",
   "metadata": {},
   "source": [
    "<font size=4 color=black ><b>Example"
   ]
  },
  {
   "cell_type": "code",
   "execution_count": null,
   "id": "c845cb4a-c215-46bf-a171-6006c412c070",
   "metadata": {},
   "outputs": [],
   "source": [
    "samtools sort  Input_H3K27ac_XY108.sam \\\n",
    "               -O bam \\\n",
    "               -@ 10 \\\n",
    "               -o Input_H3K27ac_XY108.bam"
   ]
  },
  {
   "cell_type": "markdown",
   "id": "3f1ed49e-c87d-4ac6-89cb-10a8d7b9d1df",
   "metadata": {},
   "source": [
    "## Samtools idxstats——view the alignment with chromosome\n",
    "\n",
    "samtools idxstats 命令可以显示 BAM 文件中所有染色体（参考序列）的名称、长度，以及每个染色体上比对的片段数量。\n",
    "\n",
    "* 首先，需要确保 BAM 文件已经建立了索引文件（.bai），如果没有，可以先生成索引"
   ]
  },
  {
   "cell_type": "code",
   "execution_count": null,
   "id": "afaeb762-8dbb-45f3-b0b5-99404fec4b48",
   "metadata": {},
   "outputs": [],
   "source": [
    "samtools index <in.bam/sam/cram>  "
   ]
  },
  {
   "cell_type": "markdown",
   "id": "227b5064-b697-48be-8ed4-6ddb65f1cd79",
   "metadata": {},
   "source": [
    "* 然后使用以下命令查看染色体信息"
   ]
  },
  {
   "cell_type": "code",
   "execution_count": null,
   "id": "12233ea3-75de-4090-9d89-8e787107702b",
   "metadata": {},
   "outputs": [],
   "source": [
    "samtools idxstats <in.bam/sam/cram> "
   ]
  },
  {
   "cell_type": "markdown",
   "id": "0a95a295-97f6-4be1-ac94-83f7ba115666",
   "metadata": {},
   "source": [
    "* 输出将类似如下内容：\n",
    "\n",
    "| Chromosome | Length    | Mapped Reads | Unmapped Reads |\r\n",
    "|------------|-----------|--------------|----------------|\r\n",
    "| chr1       | 248956422 | 10000        | 200            |\r\n",
    "| chr2       | 242193529 | 8000         | 150            |\r\n",
    "| chrX       | 156040895 | 5000         | 100            |\r\n",
    "| chrM       | 16569     | 200          | 50             |\r\n",
    "| *          | 0         | 0            | 0              |\r\n"
   ]
  },
  {
   "cell_type": "markdown",
   "id": "e032f71a-5373-4f43-9e0a-10381ad3ea0b",
   "metadata": {},
   "source": [
    "* **Chromosome**：染色体名称\n",
    "* **Length**：染色体长度\n",
    "* **Mapped Reads**：比对到该染色体的已比对序列数量\n",
    "* **Unmapped Reads**：表示这些序列在比对时没有成功比对到该染色体，但可能被比对到其他染色体\n",
    "* **\\*行**：在比对过程中没有成功比对到参考基因组的任何染色体或，contig或scaffold的reads总数"
   ]
  },
  {
   "cell_type": "markdown",
   "id": "4e3b2ba6-cf55-420a-9851-b505cf0e683b",
   "metadata": {},
   "source": [
    "## Samtools flagstat——view the alignment results\n",
    "\n",
    "* 比对结束后，需要了解比对结果的情况，可以采用**samtools flagstat**"
   ]
  },
  {
   "cell_type": "markdown",
   "id": "015b462f-46e6-4368-a314-5b077ffb64ab",
   "metadata": {},
   "source": [
    "<font size=4 color=black ><b> code"
   ]
  },
  {
   "cell_type": "code",
   "execution_count": null,
   "id": "1bdf56ad-e187-43ad-b5d1-54823a11db0c",
   "metadata": {},
   "outputs": [],
   "source": [
    "samtools flagstat <in.bam> |<in.sam> | <in.cram> >> historydata.txt"
   ]
  },
  {
   "cell_type": "markdown",
   "id": "356b8af0-c1f9-47e2-bd72-0f209154e68f",
   "metadata": {},
   "source": [
    "<font size=4 color=black ><b> The explanation of alignment results"
   ]
  },
  {
   "cell_type": "code",
   "execution_count": null,
   "id": "04cdaa1a-8901-4d42-8881-8cdfc53978fc",
   "metadata": {},
   "outputs": [],
   "source": [
    "14608455 + 0 in total (QC-passed reads + QC-failed reads)     ## reads总数\n",
    "37967 + 0 secondary                                           ##出现比对到参考基因组多个位置的reads数\n",
    "0 + 0 supplementary                                           ##可能存在嵌合的reads数\n",
    "0 + 0 duplicates                                              ##重复的reads数\n",
    "14590894 + 0 mapped (99.88% : N/A)                            ##比对到参考基因组上的reads数\n",
    "14570488 + 0 paired in sequencing                             ##属于PE read的reads总数。\n",
    "7285244 + 0 read1                                             ##PE read中Read 1 的reads 总数。\n",
    "7285244 + 0 read2                                             ##PE read中Read 2 的reads 总数。\n",
    "14507068 + 0 properly paired (99.56% : N/A)                   ##完美比对的reads总数。PE两端reads比对到同一条序列，且根据比对结果推断的插入片段大小符合设置的阈值。\n",
    "14551500 + 0 with itself and mate mapped                      ##PE两端reads都比对上参考序列的reads总数。\n",
    "1427 + 0 singletons (0.01% : N/A)                             ##PE两端reads，其中一端比上，另一端没比上的reads总数。\n",
    "26260 + 0 with mate mapped to a different chr                 ##PE read中，两端分别比对到两条不同的序列的reads总数。\n",
    "17346 + 0 with mate mapped to a different chr (mapQ>=5)       ##PE read中，两端分别比对到两条不同的序列，且mapQ>=5的reads总数。"
   ]
  },
  {
   "cell_type": "markdown",
   "id": "ec6b22f1-7b0c-4b1f-a915-f690649c2ea8",
   "metadata": {},
   "source": [
    "* **测序深度 = reads总数**\n",
    "\n",
    "*  +0 表示没有任何reads因相关原因而被标记为未通过质量控制（QC）的reads"
   ]
  },
  {
   "cell_type": "markdown",
   "id": "0086c8e1-e5c0-49af-826c-c0269d5e4814",
   "metadata": {},
   "source": [
    "# Convert SAM to BAM/CRAM"
   ]
  },
  {
   "cell_type": "markdown",
   "id": "dada7bf1-07f8-49c3-9c91-88c6b9e8127a",
   "metadata": {},
   "source": [
    "We use [Samtools sort](#Samtools-sort) to convert SAM file to BAM/CRAM file ,and sort the file by coordinate."
   ]
  },
  {
   "cell_type": "code",
   "execution_count": null,
   "id": "93d18815-9674-44d6-b5a5-610b7b769c81",
   "metadata": {},
   "outputs": [],
   "source": [
    "samtools sort  Input_H3K27ac_XY108.sam \\\n",
    "               -O bam \\\n",
    "               -@ 10 \\\n",
    "               -o Input_H3K27ac_XY108.bam"
   ]
  },
  {
   "cell_type": "markdown",
   "id": "85c246d4-2176-4246-b95f-5f49cdb2e201",
   "metadata": {},
   "source": [
    "<font size=3 color=red ><b>建议按coordinate进行排序，在remove duplicates 中的Picard MarkDuplicates需要按照coordinate排序bam文件"
   ]
  },
  {
   "cell_type": "markdown",
   "id": "1bc352aa-fc07-4dcf-a9eb-f6e9afa8aed5",
   "metadata": {},
   "source": [
    "## Structure of SAM"
   ]
  },
  {
   "cell_type": "markdown",
   "id": "0f006da2-b7ae-4e32-be20-aa50188d9c58",
   "metadata": {},
   "source": [
    " * [SAM文件详细指南](https://samtools.github.io/hts-specs/SAMtags.pdf)"
   ]
  },
  {
   "cell_type": "markdown",
   "id": "aa6991c0-e203-40ad-aa29-c6eca68fa9f1",
   "metadata": {},
   "source": [
    "**sam** 文件是 Sequence Alignment/Map 格式的简称，从名字就可以看出，该文件格式设计初衷就是为了记录比对结果的。 但是由于其在记录的比对结果的同时，其实也记录了序列本身，因此也可以作为测序数据的存储格式。上面提到过，**sam**文件是一种平面文件，也就是没有经过压缩，因此一般占用的存储空间相对较大。因此实际工作中，一般不以**sam**文件格式作为存储形式，而是采用其压缩格式**bam**形式。"
   ]
  },
  {
   "cell_type": "markdown",
   "id": "44f14723-9a7c-4f85-9f08-1113154348a0",
   "metadata": {},
   "source": [
    "<font size=3 color=black ><b>SAM 文件头部\n",
    "\n",
    "**sam** 文件头部信息以@ 作为开头，对比对结果的meta信息进行记录，主要涵盖了文件标准格式版本（VN）、比对中使用的参考序列信息（SQ）、测序数据分组信息（RG）、比对或后期处理使用的程序信息（PG）等。上述内容是**sam**文件标准规定的，因此一般**sam**文件中必须存在。 不仅如此，用户也可以根据后期分析需要自定义一系列自定义的信息"
   ]
  },
  {
   "attachments": {},
   "cell_type": "markdown",
   "id": "96f67666-b154-4b7a-8254-be463085ded7",
   "metadata": {},
   "source": [
    "<font size=3 color=black ><b>SAM 文件中比对信息\n",
    "\n",
    "**sam**文件的比对信息中，每一行是由固定的11列的组成的。其信息内容见下表：\n",
    "\n",
    "<img src=\"./picture/034.png\" width=\"900\"/>"
   ]
  },
  {
   "attachments": {},
   "cell_type": "markdown",
   "id": "72e43c6d-18e1-44ce-9762-76302501ece0",
   "metadata": {},
   "source": [
    "<img src=\"./picture/035.png\" width=\"900\"/>"
   ]
  },
  {
   "cell_type": "markdown",
   "id": "f32617c1-04cb-4ce9-8406-e807b75903b0",
   "metadata": {},
   "source": [
    "除此之外，每行可以追加可选信息。该部分信息以**TAG:TYPE:VALUE** 形式存储。值得注意的是，追加信息标签（TAG）的标准定义是一直在不断更新的，基本上每年都会有新增标签加入"
   ]
  },
  {
   "cell_type": "markdown",
   "id": "78d88248-7f0d-4323-8d2d-3de97118cba8",
   "metadata": {},
   "source": [
    "## Structure of BAM"
   ]
  },
  {
   "cell_type": "markdown",
   "id": "5a91e0a6-01a6-46aa-8802-fa9719bb1d92",
   "metadata": {},
   "source": [
    "**bam** 文件是通过 bgzip压缩过的**sam**文件。因此二者记录的信息本质是一样的。bgzip 对文件的压缩，其实是使用的gzip的方式，其结果使文件被压缩成了一系列的'BGZF block'单元，默认情况下，每个单元大小不超过64K。除了节省存储空间之外，另一个好处就是可以通过建立索引加速查询"
   ]
  },
  {
   "attachments": {},
   "cell_type": "markdown",
   "id": "3ecbd0a8-de06-4fc2-85b1-83271ee4f774",
   "metadata": {},
   "source": [
    "<img src=\"./picture/036.png\" width=\"600\"/>"
   ]
  },
  {
   "cell_type": "markdown",
   "id": "34cad75b-f5fa-4e3f-9fc5-03ae89e2c74f",
   "metadata": {},
   "source": [
    "上述表格中基本信息与**sam**文件的内容存在对应关系，但其每个记录的类型存在转化关系，以seq信息为例，在**sam**文件中是以字符串形式存储的，在**bam**文件中，该项则是将字符串集转化为了[0,15]的整数进行存储。"
   ]
  },
  {
   "cell_type": "markdown",
   "id": "ff81234f-f387-4fe0-9750-ca8297ed85ca",
   "metadata": {},
   "source": [
    "## Structue of CRAM"
   ]
  },
  {
   "attachments": {},
   "cell_type": "markdown",
   "id": "aee39cc3-4b0e-4eaa-a2e2-2d3f942c4246",
   "metadata": {},
   "source": [
    "* CRAM 文件是一种用于存储 DNA 序列比对数据的压缩格式，类似于 BAM 文件，为BAM的高压缩格式，使得文件体积更小，从而节省存储空间和传输时间\n",
    "\n",
    "* CRAM一定会取代BAM。我想这必将很大程度上解决NGS(Next-Generation Sequencing)数据存储的问题\n",
    "\n",
    "<font size=3 color=black ><b>CRAM大小：\n",
    "<img src=\"./picture/037.png\">\n",
    "\n",
    "* CRAM 格式**依赖参考序列进行压缩和解压缩**，进行转换时要**指定参考序列文件**"
   ]
  },
  {
   "cell_type": "markdown",
   "id": "628eec95-62a8-4911-b162-87526221149d",
   "metadata": {},
   "source": [
    "# Remove duplicates"
   ]
  },
  {
   "attachments": {},
   "cell_type": "markdown",
   "id": "75a33c2c-2e9e-4135-b377-07f24602c0eb",
   "metadata": {},
   "source": [
    "* **PCR duplicates**，不同的序列在进行PCR扩增时，扩增的倍数应该是相同的。但是由于聚合酶的偏好性，PCR扩增次数过多的情况下，会导致一些序列持续扩增，而另一些序列扩增到一定程度后便不再进行，也就是我们常说的PCR偏好性。\n",
    "\n",
    "* **Optical duplicates**,测序仪的光学传感器错误地将单个扩增的簇检测为多个簇。\n",
    "\n",
    "* **PCR duplicates**的比例会因测序量的增加而增加，**Optical duplicates**是随机分布的。\n",
    "\n",
    "<img src=\"./picture/038.png\"  width=\"600\"/>\n",
    "\n",
    "<img src=\"./picture/039.png\"  width=\"600\"/>"
   ]
  },
  {
   "cell_type": "markdown",
   "id": "e9e6c473-86fb-46a9-8251-4830f5fdc0bd",
   "metadata": {},
   "source": [
    "<font size=4 color=black ><b>Should we remove duplicates?\n",
    "\n",
    "* **RNA-seq**时，我们所得到的reads覆盖度通常是不均匀的（由于不同的基因表达水平不同），如果我们不加考虑的直接remove duplicate，将会导致许多重要信息的丢失。**RNA-seq**由于其建库起始量一般都很高所以不需要去除重复，而且**RNA-seq**数据中经常会出现某些基因的表达量十分高，这就导致这些基因打断的reads的比对情况有很大概率是一致的。\n",
    "\n",
    "* **ChIP-seq**中，由于起始量不高，且没有那种富集程度很高的位点，因此通常需要考虑去除PCR重复。\n",
    "\n",
    "* **call SNP**中，起始量一般都高（因为要保证测序深度），此外由于PCR扩增会导致一些序列复制错误，这将严重影响SNP位点识别的置信度。因此一般需要去重复。\n",
    "\n",
    "* 利用**reads mapping的均匀程度**判断是否具有重复。若富集位点周围的reads均匀覆盖，那么没有重复；若富集位点周围覆盖度不均匀，某些区域猛然升高，那么很有可能需要进行PCR去重复"
   ]
  },
  {
   "cell_type": "markdown",
   "id": "6efc01cc-cea7-4c3e-b90f-caf4349e772e",
   "metadata": {},
   "source": [
    "<font size=4 color=black ><b>Key point\n",
    "\n",
    "* 起始量很多时，不需要去重复\n",
    "\n",
    "* 扩增数很少时，15个cycle以内，不需要去重复\n",
    "\n",
    "* 双端测序由于其两个reads的位置矫正，有助于去除PCR重复\n",
    "\n",
    "* reads长度越长，越容易识别真正的PCR重复"
   ]
  },
  {
   "cell_type": "markdown",
   "id": "e0d06dbb-3ea5-4878-82fc-64b53975c865",
   "metadata": {},
   "source": [
    "<font size=4 color=black ><b>Theory\n",
    "\n",
    "* 测序所得到的reads是由于超声波或者酶切断裂得到的，因此这些reads比对到基因组上的位置是完全随机的。那么两个reads比对到相同位置的概率是非常低的。如果两个reads比对情况相同或者极其相似，则很有可能是由于PCR重复所导致的"
   ]
  },
  {
   "cell_type": "markdown",
   "id": "e2aac7dd-09df-41e1-9f52-84387f62f9d4",
   "metadata": {},
   "source": [
    "## Patterned Flowcell?\n",
    "\n",
    "<font size=3 color=black ><b>传统未图案化流动池(Non-Patterned Flowcell)\n",
    "\n",
    "* 在**Non-Patterned Flowcell**中，DNA 片段随机地附着在流动池的表面上，并形成测序簇。这种随机分布可能导致一些区域的簇密度过高，而其他区域的密度过低，从而影响测序的均匀性和数据产出\n",
    "\n",
    "<font size=3 color=black ><b>图案化流动池(Patterned Flowcell)\n",
    "\n",
    "* **Patterned Flowcell**的表面覆盖着一层规则排列的纳米井（nanowells），这些nanowells的作用是控制 DNA 簇的生长位置。每个nanowells只能容纳一个测序簇，因此簇的分布更加均匀。\n",
    "\n",
    "* 由于每个nanowells都可以独立形成一个测序簇，这种设计大大增加了流动池上的有效簇数，显著提高了测序的通量。\n",
    "\n",
    "* **Patterned Flowcell**的设计减少了簇之间的相互干扰（簇间竞争和簇重叠），从而提高了数据的准确性和质量。"
   ]
  },
  {
   "attachments": {},
   "cell_type": "markdown",
   "id": "044041cb-9931-4ae7-abba-de0eed39ad98",
   "metadata": {},
   "source": [
    "<img src=\"./picture/040.png\"  width=\"600\"/>\n",
    "<img src=\"./picture/041.png\"  width=\"600\"/>"
   ]
  },
  {
   "cell_type": "markdown",
   "id": "8f1dfa6c-6598-4f05-ae29-dd87d42c07cc",
   "metadata": {},
   "source": [
    "<font size=3 color=black ><b>与光学重复检测的关系\n",
    "\n",
    "* 由于**Patterned Flowcell**中的测序簇位置是预先确定的，因此光学重复（optical duplicates）在这种设计下变得更容易识别和控制。Optical Duplicate Pixel Distance 的默认值在图案化流动池中通常设置得更高（如 2500），以适应这种新型设计"
   ]
  },
  {
   "attachments": {},
   "cell_type": "markdown",
   "id": "b2c7cf13-7871-400d-8d01-9ca29552f2cc",
   "metadata": {},
   "source": [
    "<font size=3 color=black ><b>如何查看自己数据是否使用Patterned Flowcell？\n",
    "\n",
    "* **查看FASTQ文件中@行信息来推断** `zcat <xxx.fastq.gz> | grep \"^@\" | head -n 5`\n",
    "\n",
    ">Patterned Flowcell 通常用于 HiSeq X、NovaSeq 系列、以及部分 MiSeq 和 NextSeq 仪器\n",
    "\n",
    ">Tile 编号很大（例如 1101，1201），并且X坐标值也很大，那么有可能使用的是 Patterned Flowcell。\n",
    "\n",
    "<img src=\"./picture/042.png\">"
   ]
  },
  {
   "cell_type": "markdown",
   "id": "7ee96c0b-85c0-4d02-bacc-96a63d649e6f",
   "metadata": {},
   "source": [
    "## Software selection of remove duplicates"
   ]
  },
  {
   "cell_type": "markdown",
   "id": "3adbda73-500f-4d4e-9f23-07530d430607",
   "metadata": {},
   "source": [
    "<font size=4 color=black ><b>samtools rmdup\n",
    "\n",
    "* 如果多个reads具有相同的比对位置时，rmdup将它们标记为duplicates，然后去除重复，通常只保留第一个识别到的reads。\n",
    "\n",
    "* <b>该方法对于以下两种情况，有很好的去除效果：\n",
    "\n",
    "><font size=2 color=purple ><b>一些reads由于测序错误导致其不完全相同\n",
    "\n",
    "><font size=2 color=purple ><b>比对错误导致不同的序列比对到相同的位置（可能性不大）\n",
    "\n",
    "* <b>Shortcoming\n",
    "\n",
    "><font size=2 color=purple ><b>由于samtools去重只考虑reads比对上的起始终止位置，不考虑比对情况，这种去重有时会导致测序信息的丢失。"
   ]
  },
  {
   "cell_type": "markdown",
   "id": "d6ad7f98-c369-4504-aff0-7feb85e3d0e5",
   "metadata": {},
   "source": [
    "<font size=4 color=black ><b>Picard MarkDuplicates\n",
    "\n",
    "* 与samtools不同的是，该工具仅仅是对duplicates做一个标记，只在需要的时候对reads进行去重。而samtools的rmdup则是直接将其识别出来的重复reads去掉。\n",
    "\n",
    "* 该工具的另一个不同之处在于它不仅考虑reads的比对位置，还会考虑其中的插入错配等情况（即会利用sam/bam文件中的CIGAR值），甚至reads的tail，lane以及flowcell。\n",
    "\n",
    "* Picard主要考虑reads的5'端的比对位置，其可以从一定程度上认为，5'端的位置，方向，以及碱基比对情况相同，Picard就将这些reads中碱基比对值Q>15的看作是best pair而其他的reads则当作是duplicate reads。甚至当reads的长度不同时，Picard依然利用上述原理进行去重。\n",
    "\n",
    " ><font size=2 color=purple ><b>In Picard，reads的5'端信息更为重要.若duplicates是PCR重复，那么它们的序列不一定完全相同。但是由于PCR扩增时，酶的前进方向是5'——3'方向，PCR重复序列中5'端的部分相似的可能性更高。  "
   ]
  },
  {
   "cell_type": "markdown",
   "id": "8738c97d-365f-47b5-a1c0-beea1f8c2f77",
   "metadata": {},
   "source": [
    "## Picard MarkDuplicates"
   ]
  },
  {
   "cell_type": "markdown",
   "id": "2a8f2acb-5519-4e56-9b16-33de15249a23",
   "metadata": {},
   "source": [
    "* [Picard MarkDuplicates](https://gatk.broadinstitute.org/hc/en-us/articles/360037052812-MarkDuplicates-Picard)\n",
    "\n",
    "* **Software installation** `conda install -c bioconda picard`\n",
    "\n",
    "* **需要准备按基因组位置（coordinate）进行排序的Bam file**"
   ]
  },
  {
   "cell_type": "markdown",
   "id": "95f6b2db-5382-4532-a3bf-4ced66919d95",
   "metadata": {},
   "source": [
    "<font size=4 color=black ><b>parameters"
   ]
  },
  {
   "cell_type": "code",
   "execution_count": null,
   "id": "2e4c667a-6ee0-4ceb-9581-ef19b4a98e9c",
   "metadata": {},
   "outputs": [],
   "source": [
    "picard MarkDuplicates\n",
    "\n",
    "#基本设置\n",
    "    I=                         # 输入一个或多个（排序后）SAM 或 BAM 文件\n",
    "    O=                         # 输出文件（去除重复后的 BAM 文件）\n",
    "    M=                         # 输出的度量文件（报告重复情况）\n",
    "    REMOVE_DUPLICATES=true     # 如果设置为 true，会完全移除重复的 reads\n",
    "\n",
    "\n",
    "#特殊设置\n",
    "    TAG_DUPLICATE_SET_MEMBERS=  \n",
    "    #如果读取属于重复集，则添加两个标签。第一个标签 DS 表示重复集的大小。最小的 DS 值为 2，表示两个读取映射到参考基因组的相同位置，其中一个被标记为重复。\n",
    "    #第二个标签 DI 表示重复集的唯一标识符。\n",
    "    #默认值: false\n",
    "\n",
    "    REMOVE_SEQUENCING_DUPLICATES=\n",
    "    #如果设置为 true，则删除“光学”重复和其他看起来由测序过程而非库制备过程引起的重复。\n",
    "\n",
    "    TAGGING_POLICY=\n",
    "    #决定如何在 DT 可选属性中记录重复类型。\n",
    "    #可选值有：DontTag（不标记）、OpticalOnly（仅标记光学重复）、All（标记所有重复）\n",
    "\n",
    "    CLEAR_DT=                  #从输入的 SAM 记录中清除 DT 标签。默认值: true\n",
    "\n",
    "    DUPLEX_UMI=\n",
    "    #双链 UMI 通常由两个相等长度的字符串组成，这两个字符串由一个连字符（例如 \"ATC-GTC\"）分隔\n",
    "    #双链 UMI 的设计是为了更好地识别双链 DNA 分子中来自不同链的重复，从而提高重复检测的准确性\n",
    "    #启用后，工具会根据双链 UMI 来区分重复读取。\n",
    "\n",
    "\n",
    "#光学重复检测选项\n",
    "    READ_NAME_REGEX=\n",
    "    #MarkDuplicates 可以使用图像和簇的位置来估计光学重复率以及 PCR 产生的重复，以提供更准确的库大小估计。\n",
    "    #默认情况下，使用冒号分隔的最后三个字段作为数值作为这些坐标。\n",
    "\n",
    "    OPTICAL_DUPLICATE_PIXEL_DISTANCE=\n",
    "    #选项定义了2个clusters之间的最大偏移量（以像素为单位），超过此距离的簇将不被视为光学重复。\n",
    "    #对于未设计过的 Illumina flowcell（例如早期版本的平台），默认值 100 是适用的。\n",
    "    #新的设计过的 Illumina flowcell——Patterned Flowcell，光学重复的检测要求更高，因此建议将此值设置为 2500\n",
    "\n",
    "   MAX_OPTICAL_DUPLICATE_SET_SIZE=\n",
    "   #尝试确定光学重复的重复读取集的最大大小。请注意，如果设置值过高且确实遇到非常大的重复读取集，它将严重影响工具的运行时间。要完全禁用此检查，请将值设置为 -1。\n",
    "   #默认值: 300000\n",
    "\n",
    "\n",
    "#条形码的 SAM 标签\n",
    "#SAM/BAM 文件中可能包含用于标识不同样本或分子库的条形码信息。条形码通常会在测序过程中被添加到每个 DNA 片段的两端，允许区分不同样本或分子。\n",
    "    BARCODE_TAG=              #指定条形码的 SAM 标签（例如 10X Genomics 中的 BC 标签）,默认null\n",
    "    READ_ONE_BARCODE_TAG=     #为第一条读取指定条形码的 SAM 标签（例如 10X Genomics 中的 BX 标签）,默认null\n",
    "    READ_TWO_BARCODE_TAG=     #为第二条读取指定条形码的 SAM 标签（例如 10X Genomics 中的 BX 标签）,默认null\n",
    "    MOLECULAR_IDENTIFIER_TAG= #用于唯一标识读取来源分子的 SAM 标签。使用此选项时，必须将 BARCODE_TAG 选项设置为非空值,默认null"
   ]
  },
  {
   "cell_type": "markdown",
   "id": "f6865413-5275-4bc0-a4fc-cad3ec0cc404",
   "metadata": {},
   "source": [
    "<font size=3 color=purple ><b>Example"
   ]
  },
  {
   "cell_type": "code",
   "execution_count": null,
   "id": "4f4daaa9-c6f2-43a9-baad-9ce023651867",
   "metadata": {},
   "outputs": [],
   "source": [
    "picard MarkDuplicates \\\n",
    "    I=sorted_input.bam \\\n",
    "    O=deduplicated_output.bam \\\n",
    "    M=output.metrics.txt \\\n",
    "    REMOVE_DUPLICATES=true \\\n",
    "    OPTICAL_DUPLICATE_PIXEL_DISTANCE=2500"
   ]
  },
  {
   "cell_type": "markdown",
   "id": "b7a26d8f-18b8-44cc-ab22-fe5da096e09c",
   "metadata": {},
   "source": [
    "## Remove duplicates in CUT&Tag"
   ]
  },
  {
   "cell_type": "markdown",
   "id": "c92d208d-bd8f-4015-a61f-7bedbffad581",
   "metadata": {},
   "source": [
    "* CUT&Tag 将适配体整合到抗体连接的 pA-Tn5 附近的 DNA 中，而整合的确切位置会受到周围 DNA 可及性的影响。 因此，具有相同起始和终止位置的片段很常见，而这种 \"重复 \"可能不是由于 PCR 过程中的重复。\n",
    "\n",
    "* 在实践中，我们发现高质量的 CUT&Tag 数据集的明显重复率很低，即使是明显的 \"重复 \"片段也可能是真实的片段。 因此，我们不建议删除重复片段。"
   ]
  },
  {
   "cell_type": "markdown",
   "id": "c283a6fe-d78e-4a93-9037-52e81e60fffe",
   "metadata": {},
   "source": [
    "<font size=4 color=blackgreen ><b>1.Check the duplicates"
   ]
  },
  {
   "cell_type": "code",
   "execution_count": null,
   "id": "273cee91-01aa-48e4-a7d3-4cf917d965a9",
   "metadata": {},
   "outputs": [],
   "source": [
    "picard MarkDuplicates \\\n",
    "    I=sorted_input.bam \\\n",
    "    O=dupMarked_output.bam \\\n",
    "    M=output.metrics.txt \\\n",
    "    REMOVE_DUPLICATES=Flase \\\n",
    "    OPTICAL_DUPLICATE_PIXEL_DISTANCE=2500"
   ]
  },
  {
   "cell_type": "markdown",
   "id": "f852c301-141c-4a50-9133-fb1e390ff86e",
   "metadata": {},
   "source": [
    "<font size=4 color=blackgreen ><b>2.Check the output.metrics.txt"
   ]
  },
  {
   "cell_type": "markdown",
   "id": "0b9e1c1e-df80-4007-9707-7f383223ff66",
   "metadata": {},
   "source": [
    "| LIBRARY         | UNPAIRED_READS_EXAMINED | READ_PAIRS_EXAMINED | SECONDARY_OR_SUPPLEMENTARY_RDS | UNMAPPED_READS | UNPAIRED_READ_DUPLICATES | READ_PAIR_DUPLICATES | READ_PAIR_OPTICAL_DUPLICATES | PERCENT_DUPLICATION | ESTIMATED_LIBRARY_SIZE |\r\n",
    "|-----------------|-------------------------|---------------------|-------------------------------|----------------|---------------------------|----------------------|-----------------------------|---------------------|------------------------|\r\n",
    "| Unknown Library | 0                       | 64747726            | 0                             | 4910198        | 0                         | 62515854             | 2919405                     | 0.96553             | 2231872                |\r\n"
   ]
  },
  {
   "cell_type": "markdown",
   "id": "67bd50d0-9993-4270-b399-ac009346b954",
   "metadata": {},
   "source": [
    "- **LIBRARY**：文库的名称。\n",
    "  \n",
    "- **UNPAIRED_READS_EXAMINED**：检查的单端（unpaired）reads数量。在这个例子中，这个值是 0，表示所有reads都是paired-end reads。\n",
    "  \n",
    "- **READ_PAIRS_EXAMINED**：检查paired-end reads的数量。\n",
    "  \n",
    "- **SECONDARY_OR_SUPPLEMENTARY_RDS**：二次或补充（secondary or supplementary）reads的数量。这些reads通常不用于重复率计算。\n",
    "\n",
    "><font size=2 color=purple >**Secondary Reads**：是指在比对过程中，一个reads可能比对到多个位置（即存在多重比对）。在这种情况下，比对工具会选择一个主要的比对位置（通常是得分最高的那个），并将其他位置标记为次要比对（secondary alignment）。这些次要比对位置的reads就被称为 Secondary Reads\n",
    "\n",
    "><font size=2 color=purple >**Supplementary Reads**：是指在比对过程中，一个长的reads（或 read pair）由于结构变异或其他复杂原因，比对到多个不连续的位置。为了完整描述这种情况，原始的读数会被拆分成几段，每段的比对结果都保留，并被标记为 Supplementary Reads。\n",
    "  \n",
    "- **UNMAPPED_READS**：未比对的reads数量。\n",
    "  \n",
    "- **UNPAIRED_READ_DUPLICATES**：单端（unpaired）reads中的重复读数数量。\n",
    "  \n",
    "- **READ_PAIR_DUPLICATES**：paired-end reads中的重复reads数量。\n",
    "  \n",
    "- **READ_PAIR_OPTICAL_DUPLICATES**：由于光学效应（例如簇识别错误）导致的重复配对reads数量。\n",
    "  \n",
    "- **PERCENT_DUPLICATION**：重复reads所占的百分比。\n",
    "  \n",
    "- **ESTIMATED_LIBRARY_SIZE**：估计的文库大小，即根据观察到的重复率估算的原始分子数目。"
   ]
  },
  {
   "cell_type": "markdown",
   "id": "16b5a328-e22a-49d8-8ea3-1fc26bf08441",
   "metadata": {},
   "source": [
    "<font size=3 color=red ><b> Estimated library size ???\n",
    "\n",
    "* Estimated Library Size 是根据重复读数的比例估算的原始分子数目。常见的估算公式如下：\n",
    "\n",
    "* $\n",
    "\\text{Estimated Library Size} = \\frac{C_1 \\times C_0}{C_1 - C_{opt}}\n",
    "$\n",
    "\n",
    "> <font size=2 color=purple ><b>$ C_1 $ 是所有配对读数的总数（包括重复的）。\n",
    "\n",
    "> <font size=2 color=purple ><b>$ C_0 $ 是唯一的配对读数数目（非重复的）。\n",
    "\n",
    "> <font size=2 color=purple ><b>$ C_{opt} $ 是光学重复的读数数目。\n",
    "\n",
    "* The estimated library sizes are proportional to the abundance of the targeted epitope and to the quality of the antibody used\n",
    "\n",
    "* The estimated library sizes of IgG samples are expected to be very low."
   ]
  },
  {
   "cell_type": "markdown",
   "id": "f2241e8a-7868-4ef6-804d-826dda4693b7",
   "metadata": {},
   "source": [
    "<font size=3 color=red ><b>Sometimes the duplicates rate of IgG is relatively high ???\n",
    "\n",
    "* 因为IgG 是一种非特异性的抗体，在实验中不与目标蛋白或特定的 DNA 片段结合。\n",
    "\n",
    "* 因此，IgG 对照样本中大部分的测序读段是由非特异性结合引起的\n",
    "\n",
    "* 在下游分析之前，从 IgG 数据集中移除重复样本是合适的。"
   ]
  },
  {
   "cell_type": "markdown",
   "id": "43426a02-4552-4c93-a56a-82e2a4a404fd",
   "metadata": {},
   "source": [
    "<font size=3 color=red ><b>Should duplicate reads been removed in CUT&Run data ???\n",
    "\n",
    "* 如果重复率很低，比如20-30%，则不需要删除它们。\n",
    "\n",
    "* 然而，如果这个比率很高，大约有80-100%。您需要检查是否在实验阶段过度测序，或者是否有其他潜在问题导致实验失败。\n",
    "\n",
    "* 如果一切看起来都很好，在继续下游分析之前，您应该考虑remove duplicates"
   ]
  },
  {
   "cell_type": "markdown",
   "id": "3a756d91-71a8-4948-b6a0-08c5687e9ed4",
   "metadata": {},
   "source": [
    "<font size=4 color=blackgreen ><b>3.Remove duplicates when we need"
   ]
  },
  {
   "cell_type": "code",
   "execution_count": null,
   "id": "c6d48bc2-354c-42b9-8d05-90c5d8fdaad9",
   "metadata": {},
   "outputs": [],
   "source": [
    "picard MarkDuplicates \\\n",
    "    I=dupMarked_output.bam \\\n",
    "    O=deduplicated_output.bam \\\n",
    "    M=output.metrics.txt \\\n",
    "    REMOVE_DUPLICATES=true \\\n",
    "    OPTICAL_DUPLICATE_PIXEL_DISTANCE=2500"
   ]
  },
  {
   "cell_type": "markdown",
   "id": "2deb6674-a4c2-4943-b596-d8efc51f2527",
   "metadata": {},
   "source": [
    "# Assess mapped fragment size distribution in CUT&Tag(optial)"
   ]
  },
  {
   "cell_type": "markdown",
   "id": "97bbe47b-c8ec-48a9-bb8f-c1b8a15f6644",
   "metadata": {},
   "source": [
    "* 以**组蛋白修饰为靶标**的 CUT&Tag 反应主要产生核**糖体长度（约 180 bp）**或**该长度倍数**的片段\n",
    "\n",
    "* 以**转录因子为靶标**的 CUT&Tag 反应主要产生**核糖体大小的片段**和**数量不等的较短片段**，分别来自邻近的核糖体和因子结合位点"
   ]
  },
  {
   "attachments": {},
   "cell_type": "markdown",
   "id": "aebf9d9f-46bf-48da-b904-009ec7aa07c0",
   "metadata": {},
   "source": [
    "<img src=\"./picture/044.png\">"
   ]
  },
  {
   "cell_type": "markdown",
   "id": "bb14748f-d4be-489a-88ad-eb26149f43aa",
   "metadata": {},
   "source": [
    "*  **10-bp sawtooth periodicity**\n",
    "\n",
    ">核小体上的 DNA 是以约10个碱基对为一组的周期性缠绕在组蛋白上的。由于核小体结构的这种规律性，Tn5 转座酶在核小体表面切割 DNA 时，会产生一种锯齿状周期性（Sawtooth Periodicity）现象\n",
    "\n",
    ">><font size=3 color=red ><b>$147/1.75/8=10base$\n",
    "\n",
    ">>$1.75$：DNA绕核小体1.75圈\n",
    "\n",
    ">>$8$：每个核小体由8个组蛋白组成\n",
    "\n",
    ">在片段长度的绘图中，随着片段长度的增加，可以看到大约每隔10 bp 就有一个小峰值。这种锯齿状模式是成功的 CUT&Tag 实验的特征之一，表明 Tn5 转座酶切割主要发生在核小体表面，并且具有高度的结构依赖性。"
   ]
  },
  {
   "attachments": {},
   "cell_type": "markdown",
   "id": "a3d26644-e164-4c72-aaa8-2080e7c5df9e",
   "metadata": {},
   "source": [
    "<img src=\"./picture/045.png\" width=\"700\"/>"
   ]
  },
  {
   "cell_type": "markdown",
   "id": "56780093-d5ce-4615-98cc-c736fe8fd3cd",
   "metadata": {},
   "source": [
    "* <b>The smaller fragments (50-100 bp)\n",
    "\n",
    ">Tn5它也可以在核小体表面暴露的 DNA 上进行和核小体之间的链接区域切割。这可能会产生较小的 DNA 片段。\n",
    "\n",
    ">这些**小DNA 片段可能不是背景**。"
   ]
  },
  {
   "cell_type": "markdown",
   "id": "402cca51-63e8-40fc-b7c3-33415d383874",
   "metadata": {},
   "source": [
    "## Extract segment length and count"
   ]
  },
  {
   "cell_type": "markdown",
   "id": "7491a1fb-b6dd-4bec-992e-ed96ba417bff",
   "metadata": {},
   "source": [
    "<font size=3 color=black><b>code"
   ]
  },
  {
   "cell_type": "code",
   "execution_count": null,
   "id": "260e271b-1e2b-4d9f-9912-6a9a38a9971f",
   "metadata": {},
   "outputs": [],
   "source": [
    "samtools view -F 0x04 <in.bam/sam/cram>| \\\n",
    "# -F 0x04参数过滤掉未比对的读段。0x04 表示未比对的标记\n",
    "\n",
    "awk -F'\\t' 'function abs(x){return ((x < 0.0) ? -x : x)} {print abs($9)}'| \\\n",
    "# 使用 awk 工具处理输出，以制表符（\\t）为字段分隔符\n",
    "# 定义了一个 abs 函数，用于计算绝对值。这里主要是提取第9列（片段长度），并取其绝对值\n",
    "\n",
    "sort | uniq -c | \\\n",
    "# 将片段长度的输出排序，然后使用 uniq -c 统计每个唯一片段长度出现的次数\n",
    "\n",
    "awk -v OFS=\"\\t\" '{print $2, $1/2}' > fragmentLen.txt\n",
    "# 再次使用 awk，将输出格式化为制表符分隔的格式。$2 是片段长度\n",
    "# $1 是该长度出现的次数。这里将出现次数除以2（通常在某些情况下，双端测序会导致片段长度统计的重复）"
   ]
  },
  {
   "cell_type": "markdown",
   "id": "67a27551-93c7-41c2-98bf-cca709f95e33",
   "metadata": {},
   "source": [
    "<font size=3 color=black><b> Draw picture(python)"
   ]
  },
  {
   "cell_type": "code",
   "execution_count": 7,
   "id": "c065e9ba-a3ff-461d-a777-6c6e925d8f40",
   "metadata": {},
   "outputs": [
    {
     "data": {
      "image/png": "[encoded data removed]",
      "text/plain": [
       "<Figure size 1200x400 with 2 Axes>"
      ]
     },
     "metadata": {},
     "output_type": "display_data"
    }
   ],
   "source": [
    "import pandas as pd\n",
    "import matplotlib.pyplot as plt\n",
    "from matplotlib.font_manager import FontProperties\n",
    "\n",
    "# 设置字体属性（假设你使用的是 Windows 系统）\n",
    "font = FontProperties(fname='C:/Windows/Fonts/simhei.ttf')  # 黑体\n",
    "\n",
    "# 读取数据\n",
    "df = pd.read_csv('fragmentLen.txt', sep='\\t', header=None, names=['Fragment_Length', 'Frequency'])\n",
    "\n",
    "# 使用数据频数扩展为实际数据点\n",
    "data = df.loc[df.index.repeat(df['Frequency'])]['Fragment_Length']\n",
    "\n",
    "# 创建子图\n",
    "fig, axs = plt.subplots(1, 2, figsize=(12, 4))  # 1行 2列的子图\n",
    "\n",
    "\n",
    "# 绘制片段长度频数图\n",
    "axs[0].bar(df['Fragment_Length'], df['Frequency'], color='skyblue', width=0.8)\n",
    "axs[0].set_xlabel('片段长度', fontproperties=font)\n",
    "axs[0].set_ylabel('频数', fontproperties=font)\n",
    "axs[0].set_title('片段片段长度频数图', fontproperties=font)\n",
    "axs[0].grid(True)\n",
    "\n",
    "## 缩窄 x 和 y 轴的范围\n",
    "axs[0].set_xlim(df['Fragment_Length'].min() - 10, df['Fragment_Length'].max() + 10)\n",
    "axs[0].set_ylim(0, df['Frequency'].max() * 1.1)\n",
    "\n",
    "\n",
    "\n",
    "# 绘制频数分布图（直方图）\n",
    "axs[1].hist(data, bins=30, color='skyblue', edgecolor='black')\n",
    "axs[1].set_xlabel('片段长度', fontproperties=font)\n",
    "axs[1].set_ylabel('频数', fontproperties=font)\n",
    "axs[1].set_title('片段长度频数分布图', fontproperties=font)\n",
    "axs[1].grid(True) # 启用网格\n",
    "\n",
    "# 调整子图布局\n",
    "plt.tight_layout()\n",
    "plt.show()"
   ]
  },
  {
   "cell_type": "markdown",
   "id": "3fa768ca-932c-44c7-9bca-9a254392dfe5",
   "metadata": {},
   "source": [
    "# Alignment filtering with MAPQ (optinal)"
   ]
  },
  {
   "cell_type": "markdown",
   "id": "8c92cc47-7e36-4540-a246-c455e2ac336b",
   "metadata": {},
   "source": [
    "<font size=4 color=black><b>Some projects may require more stringent filtering on the alignment quality score\n",
    "\n",
    "## Mapping Quality\n",
    "\n",
    "MAPQ（Mapping Quality）是衡量比对质量的分数，表示某个比对结果被错误映射的概率。计算公式为：\n",
    "\n",
    "* $MAPQ(x) = -10 \\times \\log_{10}\\left(P(x \\text{ is mapped wrongly})\\right) = -10 \\times \\log_{10}(p)$\n",
    "\n",
    "* MAPQ 值通常范围在 0 到 37、40 或 42 之间，这取决于所使用的比对工具。值越高，表示比对的置信度越高\n"
   ]
  },
  {
   "cell_type": "markdown",
   "id": "128b08b2-9075-443c-8587-356a6e209413",
   "metadata": {},
   "source": [
    "## Filter minQualityScore"
   ]
  },
  {
   "cell_type": "code",
   "execution_count": null,
   "id": "679aec90-e62c-4dec-bbea-3cf3313789d5",
   "metadata": {},
   "outputs": [],
   "source": [
    "samtools view -q <int> <before.bam/sam/cram> -o <after.bam/sam/cram>\n",
    "# int为minQualityScore\n",
    "# 推荐为2，将比对质量分数小于 2 的比对结果过滤掉"
   ]
  },
  {
   "cell_type": "markdown",
   "id": "cd33721d-4270-4ab3-ba33-e91dbae0db2c",
   "metadata": {},
   "source": [
    "## View the reads before and after filtering"
   ]
  },
  {
   "cell_type": "code",
   "execution_count": null,
   "id": "ad8d9fb6-d0e1-4d8a-86f6-522fe42207fc",
   "metadata": {},
   "outputs": [],
   "source": [
    "# 创建一个bashrc脚本\n",
    "vim filter_contrast.bashrc"
   ]
  },
  {
   "cell_type": "code",
   "execution_count": null,
   "id": "c1000488-d3a1-40c6-9c5f-7874cfd6470e",
   "metadata": {},
   "outputs": [],
   "source": [
    "#在bashrc配置脚本中复制粘贴\n",
    "#定义一个函数\n",
    "filter_contrast() {\n",
    "    before=$1\n",
    "    after=$2\n",
    "    output_file=$3\n",
    "\n",
    "    echo \"$before\" >> \"$output_file\"\n",
    "    samtools flagstat \"$before\" >> \"$output_file\"\n",
    "    echo \"--------------------\" >> \"$output_file\"\n",
    "    echo \"reads with chromosome:$before\" >> \"$output_file\"\n",
    "    # samtools idxstats用于查看每条染色体的read数    \n",
    "    samtools idxstats \"$before\" >> \"$output_file\"\n",
    "    echo \"--------------------\" >> \"$output_file\"\n",
    "\n",
    "    \n",
    "    echo \"$after\" >> \"$output_file\"\n",
    "    samtools flagstat \"$after\" >> \"$output_file\"\n",
    "    echo \"--------------------\" >> \"$output_file\"\n",
    "    echo \"reads with chromosome:$after\" >> \"$output_file\"\n",
    "    samtools idxstats \"$after\" >> \"$output_file\"\n",
    "    echo \"--------------------\" >> \"$output_file\"\n",
    "}"
   ]
  },
  {
   "cell_type": "code",
   "execution_count": null,
   "id": "5e6e5173-78ef-4840-98e6-ab0adb242826",
   "metadata": {},
   "outputs": [],
   "source": [
    "#在终端使配置脚本生效\n",
    "source filter_contrast.bashrc\n",
    "\n",
    "#在终端运行函数\n",
    "filter_contrast <before.bam/sam/cram> <after.bam/sam/cram> <output_file.txt>"
   ]
  },
  {
   "cell_type": "markdown",
   "id": "0d168964-1c15-485f-b2a2-bcee83f023e9",
   "metadata": {},
   "source": [
    "# Alignment filtering with Mapped Read Pairs"
   ]
  },
  {
   "cell_type": "markdown",
   "id": "f11a2e82-1879-4396-86a3-eea65977cd2a",
   "metadata": {},
   "source": [
    "<font size=3 color=red ><b>注意： 我们需要过滤掉对未必对的reads。\n",
    "\n",
    "* 否则，在生成的bed文件会出现 **.的染色体条目**（未比对的reads）。\n",
    "\n",
    "* 在将bed文件转换成bedgraph时，因为 **.的染色体条目**与NCBI下载的chrom.sizes里的染色体名称对应不上，会出现报错。\n",
    "\n",
    "* 可以通过bam文件生成的chrom.sizes解决上面的问题，把未必对的reads也输出到bedgraph，[详情点此](#chrom.sizes)"
   ]
  },
  {
   "cell_type": "code",
   "execution_count": null,
   "id": "d5ae3e7f-fdae-4abe-9a38-9cfccc765dad",
   "metadata": {},
   "outputs": [],
   "source": [
    "samtools view -F 0x04 <before.bam/sam/cram> -o <after.bam/sam/cram>\n",
    "# -F 0x04：-F 选项用于排除标志为 0x04 的读取，这表示排除未比对的读取。仅保留那些已成功比对到参考基因组的读取。"
   ]
  },
  {
   "cell_type": "markdown",
   "id": "706c682c-2b74-447c-ba83-b7078d05e701",
   "metadata": {},
   "source": [
    "# Bedtools"
   ]
  },
  {
   "cell_type": "markdown",
   "id": "c0aa06c5-be09-4207-bb58-f65d28b9f9f9",
   "metadata": {},
   "source": [
    "## Bedtools introduction"
   ]
  },
  {
   "attachments": {},
   "cell_type": "markdown",
   "id": "26b54d09-d827-4a68-9647-b2b493d16fb7",
   "metadata": {},
   "source": [
    "<img src=\"./picture/046.png\" width=\"150\"/>\n",
    "\n",
    "**Bedtools** 被誉为基因组分析中的“瑞士军刀”，提供了一系列多功能的工具，用于操作和分析基因组区间。其最广泛使用的工具可以进行**基因组算术**操作，即在基因组上执行集合理论相关的操作。\n",
    "\n",
    "<font size=3 color=BLACK ><b>主要功能\n",
    "\n",
    "- **交集 (Intersect):**\n",
    "> 查找不同基因组数据集之间的重叠区间。\n",
    "  \n",
    "- **合并 (Merge):**\n",
    "> 将重叠的区间合并成单一区间。\n",
    "  \n",
    "- **计数 (Count):**\n",
    "> 统计与其他区间重叠的区间数量。\n",
    "  \n",
    "- **互补 (Complement):**\n",
    "> 识别基因组中不与任何给定数据集的区间重叠的区域。\n",
    "  \n",
    "- **随机打乱 (Shuffle):**\n",
    "> 随机排列基因组上的区间，以创建对照数据集。\n",
    "\n",
    "<font size=3 color=BLACK ><b>支持的文件格式\n",
    "\n",
    "- **BAM**: 用于比对序列的二进制文件格式。\n",
    "- **BED**: 用于注释轨道的文本文件格式。\n",
    "- **GFF/GTF**: 用于基因注释的文件格式。\n",
    "- **VCF**: 用于变异检测数据的文件格式。"
   ]
  },
  {
   "cell_type": "markdown",
   "id": "0db670a6-e9b2-4fbe-aade-3874edb7d85e",
   "metadata": {},
   "source": [
    "## Installing Bedtools"
   ]
  },
  {
   "cell_type": "code",
   "execution_count": null,
   "id": "3ebc0a0e-c143-45f9-8b43-0a07308cf8f0",
   "metadata": {},
   "outputs": [],
   "source": [
    "# 如果使用 conda\n",
    "conda install -c bioconda bedtools\n",
    "\n",
    "# 如果使用 apt-get\n",
    "sudo apt-get install bedtools"
   ]
  },
  {
   "cell_type": "markdown",
   "id": "a7ba1aa3-49a0-41d0-8737-966a19958f82",
   "metadata": {},
   "source": [
    "## Bedtools genomecov\n",
    "\n",
    "* [Bedtools genomecov](https://bedtools.readthedocs.io/en/latest/content/tools/genomecov.html)\n",
    "\n",
    "* 使用bedtools genomecov可以计算基因组水平上的reads **Coverage**，并生成各种各样的文件（包括Bedgraph）\n",
    "\n",
    "<img src=\"./picture/049.png\" width=\"700\"/>"
   ]
  },
  {
   "cell_type": "markdown",
   "id": "6ace68e2-8847-4dc5-aef9-56dbb72632a6",
   "metadata": {},
   "source": [
    "### chrom.sizes\n",
    "\n",
    "使用Bedtools genomecov，如何输入格式为bed文件，则需要提供染色体长度信息文件(**chrom.sizes**)，该文件保存了基因组中的染色体名称已经对应的长度\n",
    "\n",
    "| Chromosome | Size       |\n",
    "|------------|------------|\n",
    "| chr1       | 248956422  |\n",
    "| chr2       | 242193529  |\n",
    "| chrX       | 156040895  |\n",
    "| chrY       | 57227415   |\n",
    "| chrM       | 16569      |"
   ]
  },
  {
   "cell_type": "markdown",
   "id": "e16c4ed1-c5c9-4047-a69c-a3331051ad53",
   "metadata": {},
   "source": [
    "<font size=4 color=black ><b>获取chrom.sizes文件有3种方式"
   ]
  },
  {
   "cell_type": "markdown",
   "id": "a0d61838-e145-40f2-a087-22552c9ab474",
   "metadata": {},
   "source": [
    "<b> 1.通过bam文件获取chrom.sizes(**recommend**)"
   ]
  },
  {
   "cell_type": "code",
   "execution_count": null,
   "id": "18aac344-ad11-4bfd-a902-cc771a630bb5",
   "metadata": {},
   "outputs": [],
   "source": [
    " samtools view -H <bam> |  grep '^@SQ' | awk -F'\\t' '{split($3,a,\":\"); gsub(\"SN:\",\"\",$2); print $2\"\\t\"a[2]}'"
   ]
  },
  {
   "cell_type": "markdown",
   "id": "21d88832-25f6-4183-81cd-5afb9fa914d2",
   "metadata": {},
   "source": [
    "---"
   ]
  },
  {
   "cell_type": "markdown",
   "id": "fadf1bed-562f-4f0d-91e2-f784918b2ffd",
   "metadata": {},
   "source": [
    "<b> 2.从UCSC下载，适用于UCSC数据库中已有的物种\n",
    "\n",
    "  https://hgdownload.soe.ucsc.edu/downloads.html  找到比对时的index对应的chrom.sizes下载\n",
    "\n",
    "<font size=2 color=red ><b>注意：该方法获取的染色体格式可能与bed文件不一样\n",
    "\n",
    "<p>例如：chrom.sizes中：</p>\n",
    "<img src=\"./picture/051.png\" width=\"200\"/>\n",
    "\n",
    "<p>而bed文件中：</p>\n",
    "<img src=\"./picture/052.png\" width=\"200\"/>\n",
    "\n",
    "* 可以发现一个使用的是裸染色体编号（如 1、2），而另一个使用的是带前缀的染色体名称（如 chr1、chr2）。为了使用 bedtools genomecov 正常运行，必须保证 BED 文件和 .chrom.sizes 文件的染色体名称一致。\n",
    "\n",
    "* 可以通过简单的命令修改 .chrom.sizes 文件，将 chr 前缀去掉"
   ]
  },
  {
   "cell_type": "code",
   "execution_count": null,
   "id": "88c17ff5-0359-4fc8-8d17-d03b4d6b6a08",
   "metadata": {},
   "outputs": [],
   "source": [
    "# sed 's/^chr//'：去除每一行开头的 chr 前缀\n",
    "sed 's/^chr//' xxx.chrom.sizes > xxx.fixed.chrom.sizes"
   ]
  },
  {
   "cell_type": "markdown",
   "id": "333ce741-abad-47b1-bebf-dc3e6899fc17",
   "metadata": {},
   "source": [
    "---"
   ]
  },
  {
   "cell_type": "markdown",
   "id": "bf50adc0-70f5-45cf-99aa-8b9dfc636129",
   "metadata": {},
   "source": [
    "<b> 3.利用samtools进行提取\n",
    "\n",
    "* samtools的faidx命令可以获取fasta文件中的序列长度信息，从其生成的后缀为fai的文件中可以获得chrom.sizes文件。"
   ]
  },
  {
   "cell_type": "code",
   "execution_count": null,
   "id": "08154cbd-17d1-448e-8220-9e7be545bb4e",
   "metadata": {},
   "outputs": [],
   "source": [
    "samtools faidx xxx.fa\n",
    "\n",
    "cut -f1,2 xxx.fa.fai > xxx.chrom.sizes"
   ]
  },
  {
   "cell_type": "markdown",
   "id": "ba11566a-e0f7-4cc0-a220-23c06a915869",
   "metadata": {},
   "source": [
    "### Parameters"
   ]
  },
  {
   "cell_type": "code",
   "execution_count": null,
   "id": "51a39575-4b3e-4177-b19c-171381910b17",
   "metadata": {},
   "outputs": [],
   "source": [
    "    bedtools genomecov \n",
    "\n",
    "# 输入选项\n",
    "    -i <bed/gff/vcf>  # 输入文件，注意BED 文件必须按染色体进行排序\n",
    "    -ibam <bam>       # 输入文件是 BAM 格式。注意 BAM 文件必须按照位置排序才能正确处理\n",
    "\n",
    "    -g <genome_file>  # 提供染色体长度信息文件(chrom.sizes)路径，不使用 -ibam 选项时必须提供。\n",
    "\n",
    "\n",
    "# 输出选项\n",
    "    -bg \n",
    "    # 生成BedGraph格式（适用于基因组浏览器等工具）输出\n",
    "    -bga：\n",
    "    # 与-bg相似，但会输出覆盖度为 0的区间。这可以帮助用户快速提取覆盖度为 0 的基因组区域\n",
    "    \n",
    "    -d   \n",
    "    # 报告每个基因组位置的覆盖深度，使用1-based\n",
    "    # 默认情况下，genomecov 报告的是一个覆盖度直方图，而使用 -d 会输出每个位置的详细深度信息\n",
    "    -dz\n",
    "    # 类似于 -d，但使用0-based \n",
    "\n",
    "    -split\n",
    "    # 对BAM 或 BED12 文件中的split区间进行独立处理。\n",
    "    # 在 RNA-Seq 数据中，经常会有 spliced reads（即 read 被分割成多个片段），使用此选项可以分别计算每个片段的覆盖度\n",
    "    # 对于 BAM 文件，它使用 CIGAR 字符串中的 \"N\" 和 \"D\" 操作来推断覆盖区间\n",
    "    # 对于 BED12 文件，它使用 BlockCount、BlockStarts 和 BlockEnds 字段\n",
    "\n",
    "    -max <int>\n",
    "    # 将覆盖度大于等于指定最大值的所有位置合并为一个区间。与 -d 和 -bg 一起使用时无效\n",
    "\n",
    "\n",
    "# 特殊选项\n",
    "    -scale\n",
    "    # 按常数因子缩放覆盖度。每个覆盖度值将乘以此因子。这个选项常用于标准化覆盖度数据。\n",
    "    \n",
    "    -ignoreD\n",
    "    # 在 BAM 文件中忽略局部缺失（CIGAR 字符串中的 \"D\" 操作），计算覆盖度时不会考虑这些删除位点\n",
    "\n",
    "    -strand <+ or ->\n",
    "    # 仅计算特定链上的覆盖度。对于 BED 文件，文件需要至少包含 6 列，链信息位于第 6 列\n",
    "\n",
    "    -pc\n",
    "    # 计算paired-end的覆盖度，仅适用于 BAM 文件\n",
    "\n",
    "    -fs <int>\n",
    "    # 强制使用指定的片段长度而不是 read 长度。仅适用于 BAM 文件\n",
    "\n",
    "    -du\n",
    "    # 对于paired-end，将两个配对的 read 看作是同一条链上的数据（用于链特异性数据分析）。仅适用于 BAM 文件\n",
    "\n",
    "    -5 # 只会统计每个 read 在 5' 端第一个碱基的converage\n",
    "    -3 # 只会统计每个 read 在 3' 端第一个碱基的converage\n",
    "    # 适用于需要关注 read 起点或终点的分析场景，例如转录起始位点 (TSS) 或终止位点 (TES) 的converage\n",
    "\n",
    "\n",
    "# 上传UCSC基因组浏览器选项\n",
    "   -trackline\n",
    "   # 在输出的 BedGraph 文件的第一行添加一个 UCSC 基因组浏览器的 track line 定义，以便将生成的文件直接上传到 UCSC 基因组浏览器作为自定义轨迹\n",
    "   # 注意：如果输出文件中包含了 track line，不能直接将该文件转换为 BigWig 文件，除非手动删除第一行\n",
    " \n",
    "   -trackopts 'name=\"My Track\" visibility=2 color=255,30,30'\n",
    "   # 在第一行输出中添加的 track line参数，用于自定义 UCSC 基因组浏览器的轨迹定义。"
   ]
  },
  {
   "cell_type": "markdown",
   "id": "60760028-0631-4cd6-ba26-8707db2b7e07",
   "metadata": {},
   "source": [
    "<font size=3 color=red ><b>注意事项\n",
    "\n",
    "* 输入的 BED 文件必须按染色体进行排序\n",
    "\n",
    "* 输入的 BAM 文件必须按位置排序\n",
    "\n",
    "* 输入的chrom.sizes文件与BED文件染色体格式必须要"
   ]
  },
  {
   "cell_type": "markdown",
   "id": "ed007a9c-76f4-492e-ae48-b383ff4d1c92",
   "metadata": {},
   "source": [
    "<font size=3 color=purple ><b>Example"
   ]
  },
  {
   "cell_type": "code",
   "execution_count": null,
   "id": "cafa8060-0c8b-4f47-86de-16d5f9b29cec",
   "metadata": {},
   "outputs": [],
   "source": [
    "##== linux bash command ==##\n",
    "#!/bin/bash\n",
    "\n",
    "# 输入样本名\n",
    "sample=\"sample\"\n",
    "\n",
    "# 提供染色体长度信息文件(chrom.sizes)路径。\n",
    "chromSize=\"<xxx.chrom.sizes>\"\n",
    "\n",
    "# 定义比对到主基因组的文件路径\n",
    "primary_alignment=\"${sample}.fragments.bed\"\n",
    "\n",
    "# 将bed转换成bedtools\n",
    "bedtools genomecov -bg  -i $primary_alignment -g $chromSize > ${sample}.fragments.bedgraph"
   ]
  },
  {
   "cell_type": "markdown",
   "id": "47be1f52-0ffb-44ba-8fea-5d027e334c3d",
   "metadata": {},
   "source": [
    "## Bedtools intersect"
   ]
  },
  {
   "cell_type": "markdown",
   "id": "3dd210f7-bbe7-4276-849c-92a5c3c8a3f2",
   "metadata": {},
   "source": [
    "* bedtools intersect: This command is used to find overlapping features between two datasets\n",
    "\n",
    "* [bedtools intersect](https://bedtools.readthedocs.io/en/latest/content/tools/intersect.html)\n",
    "\n",
    "* <font size=3 color=red>if you have large file to intersect ,suggesting you sort your file ,and add `-sorted` option in the bedtools intersect to reduce memory, Otherwise Out of Memory will kill the program.  \n",
    "\n",
    "<img src=\"./picture/054.png\" width=\"900\"/>"
   ]
  },
  {
   "cell_type": "markdown",
   "id": "1f235303-b400-4deb-af03-081c00fac05c",
   "metadata": {},
   "source": [
    "### Parameters"
   ]
  },
  {
   "cell_type": "code",
   "execution_count": null,
   "id": "ed3942a8-d18f-4208-aa35-5318ed3b0448",
   "metadata": {},
   "outputs": [],
   "source": [
    "    bedtools intersect\n",
    "\n",
    "# input option\n",
    "    -a <A>    # Specifies the file \"A\", which could be in BED/BAM/GFF/VCF format. Each feature in A is compared with B to look for overlaps\n",
    "    -b <B>    # Specifies the file \"B\", which can be one or more BED/BAM/GFF/VCF files. You can pass multiple files or use wildcards (e.g., *.bed)\n",
    "    -abam <A> # Specifically for BAM files used as \"A\". It compares BAM alignments in A with the features in B\n",
    "    \n",
    "\n",
    "\n",
    "# output option\n",
    "    -ubam      # Outputs the BAM file as uncompressed. (Default:compressed BAM)\n",
    "    -bed       # When using BAM input for \"A\", this option outputs the results in BED format. (Default:output remains in BAM format if -abam is used)\n",
    "\n",
    "    -header    # Prints the header from the A file before printing the results. Useful for VCF, GFF, or other formats with headers.\n",
    "   \n",
    "    -names     # When using multiple databases (files in -b), this provides an alias for each file instead of printing a file ID.\n",
    "    -filenames # Similar to -names, but shows the complete filename for each database instead of a file ID.\n",
    "\n",
    "    -sortout   # Sorts the output hits from B for each record in A. This can be useful when you're using multiple databases in -b.\n",
    "\n",
    "\n",
    "\n",
    "# Reporting Options\n",
    "    -wa\t # Write the original entry in A for each overlap.\n",
    "    -wa\t # Write the original entry in B for each overlap. (Restricted by -f and -r)\n",
    "\n",
    "    -loj # meaning that each feature in A will be reported with its overlaps in B\n",
    "    \n",
    "    -wo  # Writes the original entries from both A and B plus the number of base pairs of overlap between them. (Restricted by -f and -r)\n",
    "    -wao # Similar to -wo, but also reports A features with no overlap. (Restricted by -f and -r)\n",
    "\n",
    "    -u   # Writes the original entry from A once if any overlap is found with B. (Restricted by -f and -r)\n",
    "    -v   # Only reports those entries in A that have no overlap with B. (This is the opposite of -u)\n",
    "\n",
    "\n",
    "\n",
    "# Counting Options\n",
    "    -c # For each feature in A, reports the number of overlaps found in B. (Restricted -f, -F, -r, and -s)\n",
    "    -C # For each feature in A, it reports the number of overlaps with each B file on separate lines. (Restricted -f, -F, -r, and -s)\n",
    " \n",
    "\n",
    "\n",
    "# Overlap Requirements\n",
    "    -f # Minimum overlap required as a fraction of A. (Default: is 1E-9 (1bp))\n",
    "    -F # Minimum overlap required as a fraction of B. (Default: 1E-9 (1bp))\n",
    "\n",
    "    -r # Requires reciprocal overlap between A and B, meaning that both must satisfy the minimum overlap fractions.\n",
    "       # For example, if -f is 0.90 and -r is used, this requires that B overlaps at least 90% of A and vice versa.\n",
    "\n",
    "    -e # Requires that the overlap fraction be satisfied for A or B \n",
    "       # In other words, if -e is used with -f 0.90 and -F 0.10 this requires that either 90% of A is covered OR 10% of B is covered. \n",
    "       # Without -e, both fractions would have to be satisfied.\n",
    "\n",
    "\n",
    "\n",
    "# Strand-Specific(+-链) Options\n",
    "    -s # Enforces \"strandedness\", meaning that only overlaps on the same strand are considered. (Default: strand is ignored)\n",
    "    -S # Enforces \"opposite strandedness\", meaning only overlaps on the opposite strand are reported.\n",
    "\n",
    "\n",
    "\n",
    "# Special Options for BAM Files\n",
    "    -split # Treat “split” BAM (having an “N” CIGAR(Skipped region)operation) or BED12 entries as distinct BED intervals\n",
    "\n",
    "\n",
    "\n",
    "# performance optimization\n",
    "    -sorted # For very large B files, invokes a \"sweeping\" algorithm that requires the input to be sorted by chromosome and position \n",
    "            # (e.g., sort -k1,1 -k2,2n).\n",
    "            # This reduces memory usage for large files.  \n",
    "   \n",
    "    -g <genome file> # pecifies a genome file that defines the expected chromosome order for use with the -sorted option.\n",
    "\n",
    "    -nobuf # Disables buffered output, meaning each line is printed immediately. \n",
    "           # This can slow down large outputs but is useful when output is processed line-by-line.\n",
    "\n",
    "    -iobuf <size> # Sets the size of the read buffer (in bytes). \n",
    "                  # Supports suffixes like K, M, or G . \n",
    "                  # Currently has no effect with compressed files."
   ]
  },
  {
   "cell_type": "markdown",
   "id": "a09f7ba8-b4f9-4287-8392-bd570c333a70",
   "metadata": {},
   "source": [
    "# Convert BAM to BED"
   ]
  },
  {
   "cell_type": "markdown",
   "id": "8091dbff-ca2b-4057-8b1a-4495c36fcf9b",
   "metadata": {},
   "source": [
    "## 0-base or 1-base？\n",
    "\n",
    "* 在**0-based**坐标系中，坐标的计数从 0 开始。第一个碱基被编号为 0。在这种坐标系中，区间的起始位置包含，而**结束位置为非包含**（半开放区间）\n",
    "\n",
    "    * 例如，在 0-based 坐标系中，区间 1000-1050 表示从第 1001 个碱基开始，到第 1050 个碱基结束（不包含第 1050 个碱基），即 1-based 坐标的 1001-1050。\n",
    "\n",
    "    * 常见使用 0-based 坐标系的文件格式包括**BED**和**BAM**\n",
    "\n",
    "* 在**1-based**坐标系中，坐标的计数从 1 开始。它表示基因组中的位置时，第一个碱基被编号为 1\n",
    "\n",
    "    * 例如，在 1-based 坐标系中，位置 100 表示第 100 个碱基\n",
    "\n",
    "    * 常见使用 1-based 坐标系的文件格式包括**VCF**和**GFF**\n",
    "\n",
    "  "
   ]
  },
  {
   "cell_type": "markdown",
   "id": "9d729c59-75d6-4c55-a458-c41d58dc73d5",
   "metadata": {},
   "source": [
    "## Strcture of BED"
   ]
  },
  {
   "cell_type": "markdown",
   "id": "f0a589c2-9e52-4d17-9a88-9631d10e70fe",
   "metadata": {},
   "source": [
    "### 基本 BED 格式（BED3）"
   ]
  },
  {
   "cell_type": "markdown",
   "id": "ed4ef5ec-aa73-40cc-95e1-2a24a8ac3719",
   "metadata": {},
   "source": [
    "| Chromosome | Start  | End  |\n",
    "|------------|----------------|--------------|\n",
    "| chr1       | 1000           | 1050         |\n",
    "| chr2       | 2000           | 2050         |\n",
    "| chr3       | 3000           | 3050         |"
   ]
  },
  {
   "cell_type": "markdown",
   "id": "f70612d8-69c4-43ae-a193-ebbe97bfaf17",
   "metadata": {},
   "source": [
    "* **chrom**：染色体名称。\n",
    "* **start**：区间的起始位置（0-based）。\n",
    "* **end**：区间的结束位置（0-based）。"
   ]
  },
  {
   "cell_type": "markdown",
   "id": "f1e721e1-836f-4285-8ff7-7465143318f2",
   "metadata": {},
   "source": [
    "### 扩展 BED 格式（BED6）"
   ]
  },
  {
   "cell_type": "markdown",
   "id": "bc91021a-9ce9-4bba-98b0-d35c5bfb4f5e",
   "metadata": {},
   "source": [
    "| Chromosome | Start | End | Name | Score | Strand |\n",
    "|------------|----------------|--------------|------|-------|--------|\n",
    "| chr1       | 1000           | 1050         | gene1| 100   | +      |\n",
    "| chr2       | 2000           | 2050         | gene2| 200   | -      |\n",
    "| chr3       | 3000           | 3050         | gene3| 300   | +      |"
   ]
  },
  {
   "cell_type": "markdown",
   "id": "4525c929-7f36-42e2-b4a9-15619818c61e",
   "metadata": {},
   "source": [
    "* **name**：区间的名称或ID（如基因名称、序列ID等）。\n",
    "* **score**：得分（通常为0-1000之间的整数），可以表示某种权重或置信度。\n",
    "* **strand**：链方向，+ 表示正链，- 表示负链。"
   ]
  },
  {
   "cell_type": "markdown",
   "id": "3b896eb7-f841-40df-bc87-17fddf647295",
   "metadata": {},
   "source": [
    "### 完整 BED 格式（BED12）\n",
    "对于描述更复杂的区间，如包含多个“块”（block）的区间（如跨多个外显子的转录本）"
   ]
  },
  {
   "cell_type": "markdown",
   "id": "290874b8-113a-4f94-9d08-051d69f3d5d7",
   "metadata": {},
   "source": [
    "| Chromosome | Start Position | End Position | Name  | Score | Strand | Thick Start | Thick End | Item RGB | Block Count | Block Sizes | Block Starts |\n",
    "|------------|----------------|--------------|-------|-------|--------|-------------|-----------|----------|-------------|-------------|--------------|\n",
    "| chr1       | 1000           | 1050         | gene1 | 100   | +      | 1000        | 1050      | 255,0,0  | 2           | 50,30       | 0,70         |\n",
    "| chr2       | 2000           | 2100         | gene2 | 200   | -      | 2000        | 2100      | 0,255,0  | 3           | 100,50,30   | 0,100,170    |\n",
    "| chr3       | 3000           | 3150         | gene3 | 300   | +      | 3000        | 3150      | 0,0,255  | 1           | 150         | 0            |\n"
   ]
  },
  {
   "cell_type": "markdown",
   "id": "17ed8cbe-9fa7-479c-9406-56470428a9be",
   "metadata": {},
   "source": [
    "* **thickStart 和 thickEnd**：表示区间中加粗显示的部分（例如 CDS 区间）。\n",
    "* **itemRgb**：表示颜色信息，用于可视化（R,G,B格式）。\n",
    "* **blockCount**：区间中“块”的数量（如外显子数量）。\n",
    "* **blockSizes**：每个“块”的大小，以逗号分隔。\n",
    "* **blockStarts**：指示每个“块”（如外显子）在基因组上的起始位置。"
   ]
  },
  {
   "cell_type": "markdown",
   "id": "e23ad936-8299-40e6-b42d-cfcc7835b813",
   "metadata": {},
   "source": [
    "### BEDPE 格式\n",
    "BEDPE 格式（BED Paired-End）是用来描述paired-end reads在基因组上位置的格式，它包含两个读取对的起始和结束位置等信息。通常用于分析测序数据中成对读取的配对和片段长度等。"
   ]
  },
  {
   "cell_type": "markdown",
   "id": "4d65f45b-fdf2-49f4-bee2-e468c82fafc5",
   "metadata": {},
   "source": [
    "| Chromosome1 | Start1 | End1 | Chromosome2 | Start2 | End2 | Name  | Score | Strand1 | Strand2 |\n",
    "|-------------|--------|------|-------------|--------|------|-------|-------|---------|---------|\n",
    "| chr1        | 1000   | 1050 | chr1        | 2000   | 2050 | gene1 | 100   | +       | -       |\n",
    "| chr2        | 3000   | 3050 | chr2        | 4000   | 4050 | gene2 | 200   | -       | +       |\n",
    "| chr3        | 5000   | 5050 | chr3        | 6000   | 6050 | gene3 | 300   | +       | -       |\n"
   ]
  },
  {
   "cell_type": "markdown",
   "id": "e310c6ac-4a3b-4c09-b35f-c63303d5fb7b",
   "metadata": {},
   "source": [
    "* <b>得分列默认使用两端比对质量的最小值"
   ]
  },
  {
   "cell_type": "markdown",
   "id": "5ad03f69-bf1e-462c-ae34-21b4a0bfcbdf",
   "metadata": {},
   "source": [
    "### CIGAR 字符串\n",
    "有些BED 文件的第七列会纯在一个CIGAR（Compact Idiosyncratic Gapped Alignment Report） 字符串，是一种用于描述比对过程中序列与参考基因组之间关系的格式。CIGAR 字符串以紧凑的方式表示了每个比对中存在的匹配、缺失、插入等操作\n",
    "<br>\n",
    "<br>\n",
    "\n",
    "- **M**: 匹配（Match）。表示序列和参考序列在这一段上的匹配或者不匹配碱基。通常在 DNA-seq 中仅表示匹配碱基，而在 RNA-seq 中可能还表示不匹配。\r\n",
    "- **I**: 插入（Insertion）。表示序列相对于参考基因组有插入碱基。\r\n",
    "- **D**: 缺失（Deletion）。表示序列相对于参考基因组有缺失碱基。\r\n",
    "- **N**: 跳过区域（Skipped region）。通常用于 RNA-seq 数据，表示剪接事件，即读取的序列跳过了参考基因组中的一段内含子。\r\n",
    "- **S**: 软剪切（Soft clipping）。表示读取的序列中有一部分没有比对到参考基因组（这些碱基仍保留在比对的序列中）。\r\n",
    "- **H**: 硬剪切（Hard clipping）。与软剪切类似，但这些碱基在输出文件中被完全删除，不再保留。\r\n",
    "- **P**: 填充（Padding）。用于在某些比对中添加填充符号（一般用于对齐中间的空隙）。\r\n",
    "- **=**: 序列匹配（Sequence match）。表示序列与参考基因组完全匹配的部分。\r\n",
    "- **X**: 序列不匹配（Sequence mismatch）。表示序列与参考基因<br>\n",
    "<br>\n",
    "<font size=4 color=red ><b>例如\n",
    "<br>\n",
    "<font size=3 color=black ><b><div style=\"text-align: center;\">10M1I5M1D4M\n",
    "<br>\n",
    "<br>\n",
    "\n",
    ">M表示前 10 个碱基与参考基因组匹配\n",
    "\n",
    ">1I表示接下来有 1 个碱基是插入的\n",
    "\n",
    ">5M表示接下来的 5 个碱基与参考基因组匹配\n",
    "\n",
    ">1D表示在参考基因组中缺失了 1 个碱基，这个碱基在比对的序列中不存在\n",
    "\n",
    ">4M表示最后的 4 个碱基与参考基因组匹配组不匹配的部分。\r\n"
   ]
  },
  {
   "cell_type": "markdown",
   "id": "384901fe-da62-4fdd-863e-2458f4598ffc",
   "metadata": {},
   "source": [
    "## Convert BAM to BED with bedtools"
   ]
  },
  {
   "cell_type": "markdown",
   "id": "00c00e99-87a8-42b7-9771-77f6228328d1",
   "metadata": {},
   "source": [
    "bedtools bamtobed 用于将 BAM 文件转换为 BED 格式。"
   ]
  },
  {
   "cell_type": "code",
   "execution_count": null,
   "id": "435ed232-3c6a-4148-99af-b657d16b5d6e",
   "metadata": {},
   "outputs": [],
   "source": [
    "bedtools bamtobed -i sample.bam > sample.bed -bedpe"
   ]
  },
  {
   "cell_type": "markdown",
   "id": "18aece89-5cea-4532-96d3-aea79fda7803",
   "metadata": {},
   "source": [
    "* 默认的输出格式为**BED6**格式 ，如果为paired-end reads，则把paired ends 分开几行输出，而不在一行\n",
    "<br>\n",
    "<br>\n",
    "* 如果为paired-end reads，可以选择 **-bedpe**来方便后面的过率，对于生成的 BEDPE 文件。\n",
    "* **-mate1**：当使用 **-bedpe** 时，-mate1 参数确保输出的 BEDPE 条目中的第一对片段（第一个 \"block\"）始终是 read 1\n",
    "* **不使用-mate1**：\n",
    "\n",
    "> **第一个片段（block1)** 通常对应于在基因组中较小的起始位置的片段（即，Start1）\n",
    "\n",
    "> **第二个片段（block2)** 则对应于较大的起始位置的片段（即，Start2）\n",
    "<br>\n",
    "<br>\n",
    "* **-bed12**：输出为BED12格式\n",
    "* **-color**：指定用于 BED12 格式中的颜色，使用 R,G,B 字符串，默认颜色为 (255,0,0)，即红色，在可视化时，此选项可以用来定义显示的颜色\n",
    "<br>\n",
    "<br>\n",
    "* **-cigar**：将 CIGAR 字符串添加为 BED 文件的第七列。\n",
    "<br>\n",
    "<br>\n",
    "* **-split**：如果 BAM 文件中包含有“分割”的比对（例如，跨多个外显子或重复区域的比对），此选项会将这些比对拆分成多个单独的 BED 条目\n",
    "* **-splitD**：用于将 BAM 文件中的比对按照 N 和 D 的 CIGAR 操作符进行拆分，并将每个拆分后的片段作为单独的 BED 记录\n",
    "<br>\n",
    "<br>\n",
    "* **-tag**：使用其他数值类型的 BAM 标签作为 BED 文件中的得分。默认情况下，BED 文件使用比对质量作为得分。不允许与 BEDPE 格式一起使用\n",
    "<br>\n",
    "<br>\n",
    "* **-ed** 参数用于将 BAM 文件中的编辑距离（即 NM 标签）（即比对过程中引入的错配、插入和删除的总数）作为生成的 BED 文件的得分列的值。\n"
   ]
  },
  {
   "cell_type": "markdown",
   "id": "d0017770-d6ec-4ac2-980a-b9b49005943a",
   "metadata": {},
   "source": [
    "## Keep the read pairs that are on the same chromosome and fragment length less than 1000bp（optial）"
   ]
  },
  {
   "cell_type": "markdown",
   "id": "2a8684d2-0da4-46be-b870-d99701c629be",
   "metadata": {},
   "source": [
    "<font size=3 color=red ><b>对于Paired-End\n",
    "\n",
    "需进一步过滤并保留位于相同染色体上且片段长度小于 1000bp 的read pairs"
   ]
  },
  {
   "cell_type": "markdown",
   "id": "9802792c-7601-4e67-b0cc-a7a0af6ff572",
   "metadata": {},
   "source": [
    "<font size=3 color=red ><b>bowtie2设置以下parameter可以逃过此步：\n",
    "\n",
    "--no-discordant together with -I 10 -X 700 ensures that the fragment is 10-700bp long which will also exclude read pairs that are on the different chromosome."
   ]
  },
  {
   "cell_type": "markdown",
   "id": "09b0554a-8612-4161-8be4-6d8871844f14",
   "metadata": {},
   "source": [
    "<font size=3 color=red ><b> Code"
   ]
  },
  {
   "cell_type": "code",
   "execution_count": null,
   "id": "9476e22c-badd-4fe3-9f66-7cd1dbea018f",
   "metadata": {},
   "outputs": [],
   "source": [
    "awk '$1==$4 && $6-$2 < 1000 {print $0}' sample.bed > sample.clean.bed \n",
    "# $1==$4：表示过滤掉那些不在同一染色体上的读取对（即第一列和第四列的染色体名称必须相同）\n",
    "# && 的作用是 仅当前一个命令成功执行（即返回状态码为 0）时，才会执行下一个命令。\n",
    "# $6-$2 < 1000：过滤条件，表示保留片段长度小于 1000bp 的读取对。第六列和第二列分别代表片段末端和起始位置，计算差值即为片段长度。"
   ]
  },
  {
   "cell_type": "markdown",
   "id": "09fca4e8-7f65-428a-99f6-a618c2a53a92",
   "metadata": {},
   "source": [
    "## Extract the fragment related columns"
   ]
  },
  {
   "cell_type": "code",
   "execution_count": null,
   "id": "b3d16db9-bc4c-441a-a76c-4f1e2f18a98b",
   "metadata": {},
   "outputs": [],
   "source": [
    "cut -f 1,2,6 sample.bed | \\\n",
    "# cut 命令用于从文件中提取指定列。\n",
    "# -f 1,2,6 表示提取第 1、2 和 6 列\n",
    "#第 1 列：代表染色体（Chromosome）。\n",
    "#第 2 列：代表较小的起始位置的片段（Start1）。\n",
    "#第 6 列：代表较大的起始位置的片段（End2）\n",
    "\n",
    "\n",
    "sort -k1,1 -k2,2n -k3,3n > sample.fragments.bed\n",
    "#这个命令将对数据进行多级排序：\n",
    "#第一步：按照第 1 列（-k1,1）进行排序。这一步按字母顺序进行。\n",
    "#第二步：在第 1 列相同的情况下，按第 2 列（-k2,2n）进行排序。这一步按数字大小排序，确保数值上较小的排在前面。\n",
    "#第三步：如果第 1 列和第 2 列都相同，再按第 3 列（-k3,3n）进行排序，也按数字大小排序。"
   ]
  },
  {
   "cell_type": "markdown",
   "id": "fa7cd4fa-1865-47dd-b484-0529a513be63",
   "metadata": {},
   "source": [
    "<font size=3 color=red ><b>注意：这里输入的bed格式为bedpe格式，否则第1，2，6列不对应，需要根据情况更改。"
   ]
  },
  {
   "cell_type": "markdown",
   "id": "1a63baf7-95da-4e26-93bf-b8d4a2e9e0ab",
   "metadata": {},
   "source": [
    "## Evaluate the reproducibility of replicate samples(optial)"
   ]
  },
  {
   "cell_type": "markdown",
   "id": "0464745a-80be-4981-815c-9a45eac78582",
   "metadata": {},
   "source": [
    "为了评估不同重复样本之间以及不同条件下的重现性，首先将基因组分成**500 bp** 的窗口（bin），然后计算每个窗口中**read count的 log2 转换值**。接着，计算每对重复样本之间的 **Pearson 相关性**，并通过层次聚类的方式展示。\n",
    "________________"
   ]
  },
  {
   "cell_type": "markdown",
   "id": "69e0319c-32fc-462d-8834-9dcae5633ee7",
   "metadata": {},
   "source": [
    "* **如何计算每个窗口的reads数？**\n",
    "\n",
    "  * 计算每个read中点所在的窗口中心位置\n",
    "     \n",
    "     * 计算每个 Read 的中点\n",
    "   \n",
    "       $\\text{midpoint}_i = \\frac{\\text{start}_i + \\text{end}_i}{2}$\n",
    "\n",
    "     * 计算每个中点所在的窗口索引\n",
    "   \n",
    "       $\\text{window\\_index}_i = \\text{floor}\\left(\\frac{\\text{midpoint}_i}{\\text{binLen}}\\right)$\n",
    "\n",
    "       $\\text{floor}$:向下取整\n",
    "\n",
    "    * 计算该索引窗口的起始位置\n",
    "\n",
    "       $\\text{window\\_start}_i = \\text{window\\_index}_i \\times \\text{binLen}$\n",
    "\n",
    "    * 计算该索引窗口的中心位置\n",
    "   \n",
    "      $\\text{window\\_center}_i = \\text{window\\_start}_i + \\frac{\\text{binLen}}{2}$\n",
    "\n",
    "     * 把上面公式合在一起\n",
    "\n",
    "       $\\begin{align*}\\text{window\\_center}_i & = \\left( \\left\\lfloor \\frac{\\frac{\\text{start}_i + \\text{end}_i}{2}}{\\text{binLen}}\\right\\rfloor \\times \\text{binLen} \\right) + \\frac{\\text{binLen}}{2} \\end{align*}$\n",
    "\n",
    "  * 对同一条染色体上相同的$\\text{window\\_center}_i$ 计数为该窗口的read count\n",
    "_________________"
   ]
  },
  {
   "cell_type": "markdown",
   "id": "d298cc4f-cbe8-4895-af9c-efc656a564ab",
   "metadata": {},
   "source": [
    "- **Pearson 相关性系数**（Pearson Correlation Coefficient, PCC）用于衡量两个变量之间的线性相关性，值的范围在 -1 到 1 之间：\n",
    "\n",
    "   - **1** 表示完全正相关，两个变量同步变化。\n",
    "   - **-1** 表示完全负相关，一个变量增加时，另一个减少。\n",
    "   - **0** 表示无线性相关性。\n",
    "<br>\n",
    "\n",
    "\n",
    "\n",
    "- **Pearson计算公式**\n",
    "\n",
    "$$\n",
    "r = \\frac{{\\sum (X_i - \\overline{X})(Y_i - \\overline{Y})}}{{\\sqrt{\\sum (X_i - \\overline{X})^2} \\cdot \\sqrt{\\sum (Y_i - \\overline{Y})^2}}}\n",
    "$$\n",
    "\n",
    "$ X_i $ 和 $ Y_i $ 是两个变量的值。\n",
    "\n",
    "$ \\overline{X} $ 和 $ \\overline{Y} $ 是两个变量的均值。\n",
    "_________________"
   ]
  },
  {
   "cell_type": "markdown",
   "id": "220a7003-1a30-4a1b-9dda-fe54532e4e2f",
   "metadata": {},
   "source": [
    "<b>1.计算每个窗口的reads数(termnal)"
   ]
  },
  {
   "cell_type": "code",
   "execution_count": null,
   "id": "dacbe025-4091-48d0-b866-21544d7207f6",
   "metadata": {},
   "outputs": [],
   "source": [
    "#定义窗口大小为 500 bp。\n",
    "binLen=500\n",
    "\n",
    "#计算每个read中点所在的窗口中心位置。 $1是染色体位置， $2是片段的起始位置，$3是终止位置。\n",
    "awk -v w=$binLen '{print $1, int(($2 + $3)/(2*w))*w + w/2}' sample.fragments.bed | \\\n",
    "\n",
    "# 对片段的染色体位置（k1）和所在的窗口中心位置（k2）进行排序。\n",
    "sort -k1,1V -k2,2n | \\\n",
    "\n",
    "# 去除重复，并对重复行进行计数（每个窗口中有多少个片段），计数放在第一列\n",
    "uniq -c | \\\n",
    "\n",
    "# 按（\\t）分割输出染色体位置($2),窗口中心位置($3),所在计数($1)\n",
    "awk -v OFS=\"\\t\" '{print $2, $3, $1}'| \\\n",
    "\n",
    "# 对染色体位置(k1)和窗口中心位置(k2)进行排序并输出\n",
    "sort -k1,1V -k2,2n > sample.fragmentsCount.bed"
   ]
  },
  {
   "cell_type": "markdown",
   "id": "b73dcd8e-2cd5-445f-b019-875ed22448b5",
   "metadata": {},
   "source": [
    "<b>2. 热图显示Pearson相关性（python）"
   ]
  },
  {
   "cell_type": "code",
   "execution_count": 2,
   "id": "ca7d54a8-79bd-471c-ad6d-a1071504d6fb",
   "metadata": {},
   "outputs": [
    {
     "data": {
      "text/html": [
       "<div>\n",
       "<style scoped>\n",
       "    .dataframe tbody tr th:only-of-type {\n",
       "        vertical-align: middle;\n",
       "    }\n",
       "\n",
       "    .dataframe tbody tr th {\n",
       "        vertical-align: top;\n",
       "    }\n",
       "\n",
       "    .dataframe thead th {\n",
       "        text-align: right;\n",
       "    }\n",
       "</style>\n",
       "<table border=\"1\" class=\"dataframe\">\n",
       "  <thead>\n",
       "    <tr style=\"text-align: right;\">\n",
       "      <th></th>\n",
       "      <th>chrom</th>\n",
       "      <th>bin</th>\n",
       "      <th>KCHIP2</th>\n",
       "      <th>KCHIP2-OE</th>\n",
       "    </tr>\n",
       "  </thead>\n",
       "  <tbody>\n",
       "    <tr>\n",
       "      <th>0</th>\n",
       "      <td>.</td>\n",
       "      <td>250</td>\n",
       "      <td>2455099.0</td>\n",
       "      <td>2331710.0</td>\n",
       "    </tr>\n",
       "    <tr>\n",
       "      <th>1</th>\n",
       "      <td>1</td>\n",
       "      <td>250</td>\n",
       "      <td>NaN</td>\n",
       "      <td>4.0</td>\n",
       "    </tr>\n",
       "    <tr>\n",
       "      <th>2</th>\n",
       "      <td>1</td>\n",
       "      <td>4750</td>\n",
       "      <td>1.0</td>\n",
       "      <td>NaN</td>\n",
       "    </tr>\n",
       "    <tr>\n",
       "      <th>3</th>\n",
       "      <td>1</td>\n",
       "      <td>5250</td>\n",
       "      <td>NaN</td>\n",
       "      <td>3.0</td>\n",
       "    </tr>\n",
       "    <tr>\n",
       "      <th>4</th>\n",
       "      <td>1</td>\n",
       "      <td>5750</td>\n",
       "      <td>NaN</td>\n",
       "      <td>1.0</td>\n",
       "    </tr>\n",
       "    <tr>\n",
       "      <th>...</th>\n",
       "      <td>...</td>\n",
       "      <td>...</td>\n",
       "      <td>...</td>\n",
       "      <td>...</td>\n",
       "    </tr>\n",
       "    <tr>\n",
       "      <th>3372733</th>\n",
       "      <td>Y</td>\n",
       "      <td>3302750</td>\n",
       "      <td>NaN</td>\n",
       "      <td>1.0</td>\n",
       "    </tr>\n",
       "    <tr>\n",
       "      <th>3372734</th>\n",
       "      <td>Y</td>\n",
       "      <td>3306250</td>\n",
       "      <td>NaN</td>\n",
       "      <td>1.0</td>\n",
       "    </tr>\n",
       "    <tr>\n",
       "      <th>3372735</th>\n",
       "      <td>Y</td>\n",
       "      <td>3306750</td>\n",
       "      <td>NaN</td>\n",
       "      <td>2.0</td>\n",
       "    </tr>\n",
       "    <tr>\n",
       "      <th>3372736</th>\n",
       "      <td>Y</td>\n",
       "      <td>3307750</td>\n",
       "      <td>1.0</td>\n",
       "      <td>1.0</td>\n",
       "    </tr>\n",
       "    <tr>\n",
       "      <th>3372737</th>\n",
       "      <td>Y</td>\n",
       "      <td>3308250</td>\n",
       "      <td>NaN</td>\n",
       "      <td>1.0</td>\n",
       "    </tr>\n",
       "  </tbody>\n",
       "</table>\n",
       "<p>3372738 rows × 4 columns</p>\n",
       "</div>"
      ],
      "text/plain": [
       "        chrom      bin     KCHIP2  KCHIP2-OE\n",
       "0           .      250  2455099.0  2331710.0\n",
       "1           1      250        NaN        4.0\n",
       "2           1     4750        1.0        NaN\n",
       "3           1     5250        NaN        3.0\n",
       "4           1     5750        NaN        1.0\n",
       "...       ...      ...        ...        ...\n",
       "3372733     Y  3302750        NaN        1.0\n",
       "3372734     Y  3306250        NaN        1.0\n",
       "3372735     Y  3306750        NaN        2.0\n",
       "3372736     Y  3307750        1.0        1.0\n",
       "3372737     Y  3308250        NaN        1.0\n",
       "\n",
       "[3372738 rows x 4 columns]"
      ]
     },
     "execution_count": 2,
     "metadata": {},
     "output_type": "execute_result"
    }
   ],
   "source": [
    "import pandas as pd\n",
    "import numpy as np\n",
    "import seaborn as sns\n",
    "import matplotlib.pyplot as plt\n",
    "from scipy.stats import pearsonr\n",
    "import matplotlib.colors as mcolors\n",
    "\n",
    "# 读取并合并多个样本的片段计数数据\n",
    "frag_count = None\n",
    "\n",
    "# 输入样本名\n",
    "sample_list=['KCHIP2','KCHIP2-OE']\n",
    "\n",
    "# 遍历样本列表,并把所有样本都整合在一个表格内frag_count\n",
    "for sample in sample_list:  \n",
    "    frag_count_tmp = pd.read_csv(f\"./fragmentsCount/{sample}.fragmentsCount.bed\", \n",
    "                                 sep=\"\\t\", header=None, \n",
    "                                 names=[\"chrom\", \"bin\", sample],\n",
    "                                dtype={\"chrom\": str, \"bin\": int, sample: int})\n",
    "    \n",
    "    if frag_count is None:\n",
    "        frag_count = frag_count_tmp\n",
    "    else:\n",
    "        frag_count = pd.merge(frag_count, frag_count_tmp, on=[\"chrom\", \"bin\"], how=\"outer\")\n",
    "\n",
    "frag_count"
   ]
  },
  {
   "cell_type": "code",
   "execution_count": 4,
   "id": "ccd762a4-9525-440c-b77a-d10b3fd636b4",
   "metadata": {},
   "outputs": [
    {
     "data": {
      "text/html": [
       "<div>\n",
       "<style scoped>\n",
       "    .dataframe tbody tr th:only-of-type {\n",
       "        vertical-align: middle;\n",
       "    }\n",
       "\n",
       "    .dataframe tbody tr th {\n",
       "        vertical-align: top;\n",
       "    }\n",
       "\n",
       "    .dataframe thead th {\n",
       "        text-align: right;\n",
       "    }\n",
       "</style>\n",
       "<table border=\"1\" class=\"dataframe\">\n",
       "  <thead>\n",
       "    <tr style=\"text-align: right;\">\n",
       "      <th></th>\n",
       "      <th>KCHIP2</th>\n",
       "      <th>KCHIP2-OE</th>\n",
       "    </tr>\n",
       "  </thead>\n",
       "  <tbody>\n",
       "    <tr>\n",
       "      <th>KCHIP2</th>\n",
       "      <td>1.0000</td>\n",
       "      <td>0.4796</td>\n",
       "    </tr>\n",
       "    <tr>\n",
       "      <th>KCHIP2-OE</th>\n",
       "      <td>0.4796</td>\n",
       "      <td>1.0000</td>\n",
       "    </tr>\n",
       "  </tbody>\n",
       "</table>\n",
       "</div>"
      ],
      "text/plain": [
       "           KCHIP2  KCHIP2-OE\n",
       "KCHIP2     1.0000     0.4796\n",
       "KCHIP2-OE  0.4796     1.0000"
      ]
     },
     "execution_count": 4,
     "metadata": {},
     "output_type": "execute_result"
    }
   ],
   "source": [
    "# 进行log2(x + 1)转换\n",
    "frag_count_data = frag_count.drop(columns=[\"chrom\", \"bin\"]).apply(lambda x: np.log2(x + 1))  # 添加1以防止取log时出现负无穷\n",
    "\n",
    "# 计算Pearson相关系数矩阵\n",
    "corr_matrix = frag_count_data.corr(method='pearson')\n",
    "\n",
    "\n",
    "corr_matrix"
   ]
  },
  {
   "cell_type": "markdown",
   "id": "10f2f818-9e0e-4f37-93bb-f40c708fa62a",
   "metadata": {},
   "source": [
    "<b>Visualization"
   ]
  },
  {
   "cell_type": "code",
   "execution_count": 6,
   "id": "0d1cbd51-54ad-4aa1-83e9-80386e274e2c",
   "metadata": {},
   "outputs": [
    {
     "data": {
      "image/png": "[encoded data removed]",
      "text/plain": [
       "<Figure size 600x500 with 2 Axes>"
      ]
     },
     "metadata": {},
     "output_type": "display_data"
    }
   ],
   "source": [
    "# 创建热图\n",
    "plt.figure(figsize=(6, 5))\n",
    "\n",
    "# 定义颜色映射：从深蓝到白色再到深红\n",
    "cmap = mcolors.LinearSegmentedColormap.from_list('custom_cmap', [\"midnightblue\", \"white\", \"darkred\"])\n",
    "\n",
    "# 使用 seaborn 绘制热图\n",
    "sns.heatmap(corr_matrix, \n",
    "            annot=True,  #表示在单元格内显示相关系数数值\n",
    "            fmt=\".2f\",   #控制显示数值的格式。\".2f\" 表示保留两位小数\n",
    "            cmap=cmap,   #颜色\n",
    "            linewidths=0.5, \n",
    "            linecolor='darkgray', \n",
    "            cbar_kws={\"shrink\": 0.8})  #用于传递与颜色条的参数。这里的 {\"shrink\": .8} 颜色条的高度将缩小为原来的 80%\n",
    "\n",
    "# 设置热图标题\n",
    "plt.title(\"Correlation Matrix Heatmap\", fontsize=16)\n",
    "\n",
    "# 设置x轴和y轴的标签旋转角度\n",
    "plt.xticks(rotation=90, fontsize=10, color='darkred')\n",
    "plt.yticks(fontsize=10, color='darkred')\n",
    "\n",
    "# 显示图像\n",
    "plt.tight_layout()\n",
    "plt.show()"
   ]
  },
  {
   "cell_type": "markdown",
   "id": "1bd434f1-de89-4088-afce-c09500a03d8a",
   "metadata": {},
   "source": [
    "# Strcture of GFF3 and VCF(optial reading)"
   ]
  },
  {
   "cell_type": "markdown",
   "id": "a6fb7141-b801-41dc-a82a-aaf98199f3e7",
   "metadata": {},
   "source": [
    "## Strcture of GFF3\n",
    "\n",
    "* GFF3 (General Feature Format Version 3)是一种用于描述基因组**feature**（如基因、外显子、转录本等）的文本格式。它能够有效地表示生物序列中的不同特征\n",
    "\n",
    "* [GFF3](https://gmod.org/wiki/GFF3)"
   ]
  },
  {
   "cell_type": "markdown",
   "id": "16737846-f962-471c-97bd-0d2eff615c02",
   "metadata": {},
   "source": [
    "| seqid | source | type | start | end   | score | strand | phase | attributes                  |\n",
    "|-------|--------|------|-------|-------|-------|--------|-------|-----------------------------|\n",
    "| chr1  | .      | gene | 1000  | 5000  | .     | +      | .     | ID=gene1;Name=Gene1          |\n",
    "| chr1  | .      | mRNA | 1000  | 5000  | .     | +      | .     | ID=mRNA1;Parent=gene1        |\n",
    "| chr1  | .      | exon | 1000  | 2000  | .     | +      | 0     | ID=exon1;Parent=mRNA1        |\n",
    "| chr1  | .      | exon | 3000  | 5000  | .     | +      | 0     | ID=exon2;Parent=mRNA1        |\n"
   ]
  },
  {
   "cell_type": "markdown",
   "id": "71158d06-df32-48b8-ab88-7afa30124b42",
   "metadata": {},
   "source": [
    "* **seqid**: name of the chromosome or scaffold\n",
    "\n",
    "* **source**: 生成此功能的程序名称，或数据源（数据库或项目名称）(. 表示未知)\n",
    "\n",
    "* **type**: feature类型，例如 gene、mRNA、exon\n",
    "\n",
    "* **start**: feature在序列中的起始位置(1-based)\n",
    "\n",
    "* **end**: feature在序列中的结束位置(1-based)\n",
    "\n",
    "* **score**: feature得分（数值或 . 表示缺失）。\n",
    "\n",
    "* **strand**: 表示链方向，+ 表示正链，- 表示负链。\n",
    "\n",
    "* **phase**: 编码相位。0\"、\"1 \"或 \"2 \"中的一个。 0 \"表示特征的第一个碱基是密码子的第一个碱基，\"1 \"表示第二个碱基是密码子的第一个碱基，以此类推\n",
    "\n",
    "* **attributes**: feature的附加属性，如 ID、Parent 等。"
   ]
  },
  {
   "cell_type": "markdown",
   "id": "0ca89063-878e-47b4-8907-0ad0a80fbeb8",
   "metadata": {},
   "source": [
    "## Strcture of VCF\n",
    "\n",
    "* VCF (Variant Call Format) 是一种用于存储变异信息（如 SNP、插入、缺失等）的文本格式，通常用于表示基因组序列的变化。\n",
    "\n",
    "* [VCF](https://samtools.github.io/hts-specs/VCFv4.5.pdf)"
   ]
  },
  {
   "cell_type": "markdown",
   "id": "16891793-832d-4a82-8ca2-11da40dc435c",
   "metadata": {},
   "source": [
    "| #CHROM | POS  | ID  | REF  | ALT  | QUAL | FILTER | INFO        | FORMAT   | SAMPLE1   | SAMPLE2   |\n",
    "|--------|------|-----|------|------|------|--------|-------------|----------|-----------|-----------|\n",
    "| chr1   | 1000 | .   | A    | G    | 99   | PASS   | DP=20       | GT:DP    | 0/1:10    | 0/0:20    |\n",
    "| chr1   | 1500 | .   | C    | T    | 99   | PASS   | DP=30       | GT:DP    | 0/1:15    | 0/1:15    |\n"
   ]
  },
  {
   "cell_type": "markdown",
   "id": "dc0a872f-b656-4183-9ae8-14b51ac3f8cf",
   "metadata": {},
   "source": [
    "- **#CHROM**: 染色体名称。\n",
    "\n",
    "- **POS**: 变异在染色体上的位置（1-based）。\n",
    "\n",
    "- **ID**: 变异的标识符（如果没有则为 `.`）。\n",
    "\n",
    "- **REF**: 参考序列中的碱基。\n",
    "\n",
    "- **ALT**: 变异碱基（可以有多个）。\n",
    "\n",
    "- **QUAL**: 变异质量分数。\n",
    "\n",
    "- **FILTER**: 过滤信息，表示变异是否通过了质量过滤。\n",
    "\n",
    "- **INFO**: 附加信息字段，如覆盖深度 `DP`。\n",
    "\n",
    "- **FORMAT**: 样本信息的格式。\n",
    "   \n",
    "    - **GT**: 基因型（Genotype），表示样本的等位基因组合，例如 0/0（纯合参考）、0/1（杂合）或 1/1（纯合变异）。\n",
    "    \n",
    "    - **DP**: 覆盖深度（Depth of Coverage），表示该位置的测序读取数量。\n",
    "    \n",
    "    - 其他信息：可能还包括如 **GQ**（基因型质量）、**PL**（后验概率）等。\n",
    "\n",
    "- **SAMPLE1**：表示第一个样本的信息，对应FORMAT字段定义\n",
    "\n",
    "- **SAMPLE2**: 表示第二个样本的信息，对应FORMAT字段定义"
   ]
  },
  {
   "cell_type": "markdown",
   "id": "e9670949-a091-422f-a3a3-b63e725d0f00",
   "metadata": {},
   "source": [
    "# Convert BED to Bedgraph\n",
    "\n",
    "* 在CUT&Tag和CUT&RUN中的Quantification of peaks需要Bedgraph文件作为输入"
   ]
  },
  {
   "cell_type": "markdown",
   "id": "e6dda4ab-01ce-4c2d-922d-996f8bed4b9a",
   "metadata": {},
   "source": [
    "## Strcture of bedgraph"
   ]
  },
  {
   "cell_type": "markdown",
   "id": "2bf53e1a-bb91-47ce-98a6-8c70822fa504",
   "metadata": {},
   "source": [
    "| Chromosome | Start | End   | Coverage |\n",
    "|------------|-------|-------|----------|\n",
    "| chr1       | 1000  | 2000  | 5        |\n",
    "| chr1       | 2000  | 3000  | 8        |\n",
    "| chr2       | 1500  | 2500  | 10       |\n"
   ]
  },
  {
   "cell_type": "markdown",
   "id": "632499e3-be45-4934-b1be-59f7010619be",
   "metadata": {},
   "source": [
    "* **start**: 基因组上**区间**的起始坐标。\n",
    "\n",
    "* **end**: 基因组上**区间**的结束坐标。\n",
    "\n",
    "* **Coverage**: 表示该区域的平均覆盖度。"
   ]
  },
  {
   "cell_type": "markdown",
   "id": "b06a20fa-8e21-44e0-86c1-318c6a549af9",
   "metadata": {},
   "source": [
    "* Calculate **Coverage**：\n",
    "\n",
    "$$\\text{Coverage} = \\frac{\\text{总测序碱基数}}{\\text{目标基因组区域的碱基数}}$$\n",
    "\n",
    "\n",
    "    总测序碱基数：该区域测序 reads 的总碱基数（测序深度乘以读长）。\n",
    "    \n",
    "    目标基因组区域的碱基数：该区域的碱基总长度。\n",
    "\n",
    "\n",
    "* Example of calculate Coverage  ：\n",
    "\n",
    "  假设：\n",
    "    * 该区域存在50 条reads\n",
    "    * 每条 reads 长度为 150 bp\n",
    "    * 目标基因组区域长度为 1000 bp\n",
    "\n",
    "$$\n",
    "\\text{Coverage} = \\frac{50 \\times 150}{1000} = 7.5\n",
    "$$\n"
   ]
  },
  {
   "cell_type": "markdown",
   "id": "5834de5c-3b54-432b-b278-6a96d4017c1d",
   "metadata": {},
   "source": [
    "## Use the E.coli genome to normalize data (optional/recommended)(step2)"
   ]
  },
  {
   "cell_type": "markdown",
   "id": "1db6082b-5dfd-4006-b92d-8f267534bedd",
   "metadata": {},
   "source": [
    "* [Click here to view step 1](#Use-the-E.coli-genome-to-normalize-data-(optional/recommended)(step1))\n",
    "\n",
    "* Using tools：[Bedtools genomecov](#Bedtools-genomecov)"
   ]
  },
  {
   "cell_type": "markdown",
   "id": "71407a96-00d5-4586-9cc1-ac193792a1c8",
   "metadata": {},
   "source": [
    "<font size=4 color=black ><b>Step 2 Spike-in calibration \n",
    "\n",
    "**假设**：对于每个使用相同数量细胞的样本，比对到主基因组和 E. coli 基因组的片段比例应该是相同的。\n",
    "\n",
    "* 通过对E. coli 基因组作为内参对主基因组进行**calibration**\n",
    "\n",
    "* 缩放因子 $ S $的定义：为了避免归一化数据中的小数，使用一个常数 $𝐶$（通常是 10,000）来定义的\n",
    "\n",
    "$$S = \\frac{C}{\\text{比对到 } E. coli \\text{ 基因组的片段数}}$$\n",
    "\n",
    "* 归一化的计算公式为：\n",
    "\n",
    "$$\\text{Normalized coverage} = (\\text{primary genome coverage}) \\times S$$"
   ]
  },
  {
   "cell_type": "markdown",
   "id": "72bdd15f-c713-4849-967f-9de75b150174",
   "metadata": {},
   "source": [
    "<font size=3 color=black ><b>Normalize data \n",
    "\n",
    "* 根据比对到Ecoil的reads计算测序深度,其输出到**sample.Ecoil.seqDepth**文件\n",
    "\n",
    "* 计算缩放因子\n",
    "\n",
    "* 使用[Bedtools genomecov](#Bedtools-genomecov)工具对文件就行标准化"
   ]
  },
  {
   "cell_type": "code",
   "execution_count": null,
   "id": "70bbe2bc-77ae-42ea-a044-90caee07c19c",
   "metadata": {},
   "outputs": [],
   "source": [
    "##== linux bash command ==##\n",
    "#!/bin/bash\n",
    "\n",
    "# 输入样本名\n",
    "sample=\"sample\"\n",
    "\n",
    "# 提供染色体长度信息文件(chrom.sizes)路径。\n",
    "chromSize=\"<xxx.chrom.sizes>\"\n",
    "\n",
    "# 定义比对到E.COli的文件路径\n",
    "Ecoil_alignment=\"Ecoil/<sample.bam/sam/cram>\"\n",
    "\n",
    "# 定义比对到主基因组的文件路径\n",
    "primary_alignment=\"${sample}.fragments.bed\"\n",
    "\n",
    "# 创建bedgraph文件夹用于输出\n",
    "mkdir -p ./bedgraph\n",
    "\n",
    "# samtools view查看比对成功的reads（-F 0x04）\n",
    "# wc -l 执行后返回的行数，即比对成功的 reads 数量\n",
    "seqDepthDouble=$(samtools view -F 0x04 $Ecoil_aligement | wc -l)\n",
    "\n",
    "# 测序深度等于 reads 数量除以 2（假设是双端测序）\n",
    "seqDepth=$((seqDepthDouble / 2))\n",
    "\n",
    "# 输出测序深度到sample.Ecoil.seqDepth文件\n",
    "echo $seqDepth > Ecoil/${sample}.Ecoil.seqDepth\n",
    "\n",
    "\n",
    "# 检查seqDepth（测序深度）是否大于 1，大于1后进行以下操作\n",
    "if [[ \"$seqDepth\" -gt \"1\" ]]; then\n",
    "\n",
    "    # 计算缩放因子S\n",
    "    # bc -l 会加载数学库，从而允许进行浮点数运算并支持一些数学函数（如正弦、余弦、对数等）\n",
    "    # 此外，它还会将默认的小数位数设为 20 位，这样可以进行更精确的浮点计算。\n",
    "    scale_factor=$(echo \"10000 / $seqDepth\" | bc -l)\n",
    "\n",
    "    # 使用echo把缩放因子S打印到终端\n",
    "    echo \"Scaling factor for $sample is: $scale_factor!\"\n",
    "    \n",
    "    # 使用bedtools生成归一化的bedgraph文件 \n",
    "    bedtools genomecov -bg -scale $scale_factor -i $primary_alignment -g $chromSize > bedgraph/${sample}.fragments.normalized.bedgraph\n",
    "\n",
    "fi"
   ]
  },
  {
   "cell_type": "markdown",
   "id": "36bfb780-612b-4998-a510-fada40b88920",
   "metadata": {},
   "source": [
    "# Quantification of peaks"
   ]
  },
  {
   "cell_type": "markdown",
   "id": "9fe24d4e-eb86-4e4d-b71b-bdac91698684",
   "metadata": {},
   "source": [
    "## macs2\n",
    "\n",
    "* **Software installation:** `conda install -y macs2`"
   ]
  },
  {
   "cell_type": "markdown",
   "id": "d9873292-8cd4-4340-967e-1707c645fa45",
   "metadata": {},
   "source": [
    "## SEACR(For CUT&Tag and CUT&RUN)\n",
    "\n",
    "* 在ChIP-seq数据分析中，常用的方法是**peak calling**，通过比较目标ChIP-seq信号与背景噪音来识别基因组中信号富集的区域。这类算法通常采用泊松分布或负二项分布模型来衡量信号与背景的差异。然而，由于ChIP-seq实验通常测序较深，背景噪音较高，因此大多数ChIP-seq峰值识别算法优化时更注重高灵敏度，以便从噪音中区分出信号。\n",
    "\n",
    "* CUT&Tag和CUT&RUN 的数据背景噪音比ChIP-seq低得多。该数据的低背景和较少的读取深度使得传统的峰值识别算法容易受到误报的影响，从而降低了精确性\n",
    "\n",
    "* 针对CUT&Tag和CUT&RUN，峰值识别算法需要具备较高的特异性，因此使用**稀疏富集分析工具（SEACR）**\n",
    "\n",
    "\n",
    "   *  SEACR requires **bedGraph** files from **paired-end** sequencing as input\n",
    "\n",
    "   *  If you have **normalized fragment counts with the E. coli read count**, we set the normalization option of SEACR to **non**\n",
    "\n",
    "      Otherwise, the **norm** is recommended. "
   ]
  },
  {
   "cell_type": "markdown",
   "id": "288e4f99-bc35-446f-8760-d6bf20b0557b",
   "metadata": {},
   "source": [
    "### SEACR Theory"
   ]
  },
  {
   "cell_type": "markdown",
   "id": "77d58eb8-1be4-4705-ab8a-453472b69ab4",
   "metadata": {},
   "source": [
    "* [SEACR](<https://epigeneticsandchromatin.biomedcentral.com/articles/10.1186/s13072-019-0287-4>)\n",
    "\n",
    "* 首先将来自目标抗体和 IgG 对照实验数据解析为**signal blocks**(连续、非零读数的reads)\n",
    "\n",
    "* The signal in each block is calculated by **summing read counts**\n",
    "\n",
    "* 通过绘制目标signal blocks与 IgG signal blocks的比例图，确定目标signal blocks与IgG signal blocks比例达到最大值的阈值；然后过滤掉未达到阈值的目标signal blocks\n",
    "\n",
    "* 同时，SEACR还过滤掉与IgG信号重叠的目标signal blocks，以去除可能的假阳性信号。\n",
    "\n",
    "<img src=\"./picture/047.png\" width=\"700\"/>"
   ]
  },
  {
   "cell_type": "markdown",
   "id": "81410918-40a8-40b2-ba1a-afd2635b7509",
   "metadata": {},
   "source": [
    "### SEACR 选项\n",
    "\n",
    "为了简化用户的分析流程，SEACR 仅提供了两个主要的选项\n",
    "\n",
    "* IgG数据集或全局阈值：\n",
    "\n",
    "   * **IgG数据集**：默认选项，用户可以提供 IgG作为对照样本数据集，用于去除背景噪声。**通常建议使用这种方法**。\n",
    "\n",
    "   * **全局阈值**：如果用户没有 IgG 对照样本，SEACR 允许使用全局阈值进行峰值调用。\n",
    "\n",
    "* stringent pattern and relaxed pattern：\n",
    "\n",
    "   * **stringent**：默认选项，它设定一个阈值，使得能够保留最大比例的目标信号块，而对照 IgG 信号块尽可能被排除。这种模式强调高精度，通常用于信号较为强烈的实验。\n",
    "   \n",
    "   * **relaxed**：这种模式的阈值较为灵活，设定在目标信号比例曲线的最高点和“膝点”（曲线开始急剧变化的地方）之间的中间位置。这样可以检测到更多的峰值，但可能包含更多噪声。\n",
    " \n",
    "  <img src=\"./picture/053.png\" width=\"700\"/>"
   ]
  },
  {
   "cell_type": "markdown",
   "id": "88c81a87-e204-4d5f-9af4-1488bed27928",
   "metadata": {},
   "source": [
    "### SEACR安装与用法\n",
    "\n",
    "* [SEACR GitHub](https://github.com/FredHutch/SEACR)\n",
    "\n",
    "* SEACR是一个sh脚本，其1.3版本下载：`wget https://raw.githubusercontent.com/FredHutch/SEACR/master/SEACR_1.3.sh`\n",
    "\n",
    "* SEACR需要R的支持，其1.3的R脚本下载：`wget https://github.com/FredHutch/SEACR/blob/master/SEACR_1.3.R`\n",
    "\n",
    "* **其SEACR的R脚本需要和SEACR的sh脚本需要放在同一文件下才能正常运行**\n",
    "\n",
    "* SEACR运行：`bash SEACR_1.3.sh <signalFile> <controlFile> <norm> <stringency> <outputPrefix>`\n",
    "\n",
    "  * **signalFile**: 实验样本的 BEDgraph 文件。\n",
    "\n",
    "  * **controlFile**:\n",
    "\n",
    "     * 有对照组：对照样本的 BEDgraph 文件\n",
    "\n",
    "     * 无对照组：使用介于 0 和 1 之间的全局阈值 n，选择信号最高的前 n% 的区域作为峰值。（推荐0.01）\n",
    "\n",
    "  * **norm**: 归一化处理，有两个选项：\n",
    "\n",
    "     * **non**: 不进行归一化处理。\n",
    "\n",
    "     * **norm**: 进行归一化处理，并从信号中减去对照噪声。\n",
    "\n",
    "  * **stringency**: 指定严格性阈值，两个选项：\n",
    "\n",
    "     * **relaxed**: 更宽松的峰调用标准，允许检测到更多峰。\n",
    "\n",
    "     * **stringent**: 严格的标准，检测到的峰数量相对更少，但精确度更高。\n",
    "\n",
    "  * **outputPrefix**: 输出文件的前缀，结果将输出为 .bed 格式。"
   ]
  },
  {
   "cell_type": "markdown",
   "id": "54ff0a18-2407-4b79-91da-b8617629a160",
   "metadata": {},
   "source": [
    "<b>Example"
   ]
  },
  {
   "cell_type": "code",
   "execution_count": null,
   "id": "84d8a185-acee-4a29-a0c4-c6e20213c3b1",
   "metadata": {},
   "outputs": [],
   "source": [
    "##== linux bash command ==##\n",
    "#!/bin/bash\n",
    "\n",
    "# creat file to store resuts\n",
    "mkdir -p SEACR\n",
    "\n",
    "# path of SEACR\n",
    "seacr=\"SEACR_1.3.sh\"\n",
    "\n",
    "# samples name\n",
    "samples=(KCHIP2 KCHIP2-OE)\n",
    "\n",
    "# path of controlFile\n",
    "controlFile=\"${samples[0]}.fragments.bedgraph\"\n",
    "\n",
    "# define Top peaks threshold\n",
    "peaks=(0.01 0.05)\n",
    "\n",
    "# traversa samples\n",
    "for sample in \"${samples[@]}\"\n",
    "do\n",
    "   # path of samples\n",
    "   signalFile=\"${sample}.fragments.bedgraph\"\n",
    "\n",
    "   # traversa peaks\n",
    "   for peak in \"${peaks[@]}\"\n",
    "   do\n",
    "   \n",
    "       # top peaks\n",
    "       bash \"$seacr\" \"$signalFile\" \"$peak\" norm stringent \"SEACR/${sample}_seacr_top${peak}.peaks\"\n",
    "\n",
    "       # Report with green text\n",
    "       echo -e \"\\e[32m${signalFile}_top${peak} is done\\e[0m\"\n",
    "    done\n",
    "\n",
    "done\n",
    "\n",
    "\n",
    "# KCHIP2 as background to calculate KCHIP2-OE peaks\n",
    "bash \"$seacr\" \"${samples[1]}.fragments.bedgraph\" \"$controlFile\" norm stringent \"SEACR/${samples[1]}_seacr_${samples[0]}ascontrol.peaks\"\n",
    "\n",
    "# Report final result with green text\n",
    "echo -e \"\\e[32mBackground peak calculation for ${samples[1]} using ${samples[0]} as control is done.\\e[0m\""
   ]
  },
  {
   "cell_type": "markdown",
   "id": "2ebd99e1-813f-4de0-ae34-79304ee88137",
   "metadata": {},
   "source": [
    "### SEACR网页版\n",
    "\n",
    "* 作者开发了 [SEACR 网络服务器](http://seacr.fredhutch.org)用于随时随地地分析CUT&Tag和CUT&RUN 数据。 \n",
    "\n",
    "* 该网络服务器接受最大 500 Mb 的bedgraph文件作为输入，用户可以切换所需的参数（归一化或非归一化模式、严格或宽松模式），在运行过程中报告进度，并提供可下载的包含结果的 BED 文件链接。 "
   ]
  },
  {
   "cell_type": "markdown",
   "id": "ed05ac43-1228-4879-bf20-4395d214af6a",
   "metadata": {},
   "source": [
    "<img src=\"./picture/048.png\" width=\"900\"/>"
   ]
  },
  {
   "cell_type": "markdown",
   "id": "62846966-ca5e-44fe-aca9-b4e16c9c5f81",
   "metadata": {},
   "source": [
    "## Stracture of SEACR bed file"
   ]
  },
  {
   "cell_type": "markdown",
   "id": "cb525807-0dc9-422f-a9d0-78f2ac1a5ae7",
   "metadata": {},
   "source": [
    "\n",
    "<font size=3 color=purple><b>Example SEACR BED Entry：\n",
    "\n",
    "| Chromosome | Start      | End        | total signal | max signal | max signal region              |\n",
    "|------------|------------|------------|-------|------------|--------------------------|\n",
    "| 1          | 216897094  | 216897762  | 816   | 2          | 1:216897348-216897496     |\n",
    "| 1          | 217018188  | 217018946  | 919   | 2          | 1:217018442-217018890     |\n",
    "| 1          | 217197126  | 217198022  | 902   | 2          | 1:217197517-217197523     |\n",
    "\n",
    "<br>\n",
    "<br>\n",
    "<br>\n",
    "\n",
    "<font size=3 color=purple><b>SEACR BED File Structure:\n",
    "\n",
    "\n",
    "| Column Number | Field          | Description                                                   |\n",
    "|---------------|----------------|---------------------------------------------------------------|\n",
    "| 1             | Chromosome      | The chromosome where the peak is located (e.g., `1`, `chrX`)  |\n",
    "| 2             | Start           | Start position of the peak (0-based, inclusive)               |\n",
    "| 3             | End             | End position of the peak (0-based, exclusive)                 |\n",
    "| 4             | total signal    | Total signal contained within denoted coordinates             |\n",
    "| 5             | max signal      | Maximum bedgraph signal attained at any base pair within denoted coordinates  |\n",
    "| 6             | max signal region | region representing the farthest upstream and farthest downstream bases within the denoted coordinates that are represented by the maximum bedgraph signal, formatted as `chr:start-end` |"
   ]
  },
  {
   "cell_type": "markdown",
   "id": "dab87709-f320-4164-896e-b62a393a2f0a",
   "metadata": {},
   "source": [
    "## Number of peaks"
   ]
  },
  {
   "cell_type": "markdown",
   "id": "a87f6a10-cbb7-44d4-9a57-1113f33d9e44",
   "metadata": {},
   "source": [
    "<font size=4 color=blue><b>通过读取生成的bed文件，获取不同样本，不同peak类型的数目（python）"
   ]
  },
  {
   "cell_type": "code",
   "execution_count": 26,
   "id": "276bcac5-8a6b-4859-8172-2b552aa7d9f0",
   "metadata": {
    "scrolled": true
   },
   "outputs": [
    {
     "name": "stdout",
     "output_type": "stream",
     "text": [
      "File not found: SEACR\\KCHIP2_seacr_KCHIP2ascontrol.peaks.stringent.bed\n"
     ]
    }
   ],
   "source": [
    "##== Python command ==##\n",
    "import pandas as pd\n",
    "import os\n",
    "\n",
    "# Define the sample list\n",
    "sampleList = [\"KCHIP2\",\"KCHIP2-OE\"]\n",
    "\n",
    "# Define the types of peaks to analyze\n",
    "peakType = [\"top0.01\", \"top0.05\", \"KCHIP2ascontrol\"]\n",
    "\n",
    "# Initialize empty lists to store peak count (peakN), peak width\n",
    "peakN = []\n",
    "peakWidth = []\n",
    "\n",
    "\n",
    "# Traverse over the sample list\n",
    "for sample in sampleList:\n",
    "    # Traverse over the peakType\n",
    "    for ptype in peakType:\n",
    "        \n",
    "        # Construct the peak file path \n",
    "        file_path = os.path.join(\"SEACR\", f\"{sample}_seacr_{ptype}.peaks.stringent.bed\")\n",
    "\n",
    "        # Check if the file exists to avoid errors\n",
    "        if os.path.exists(file_path):\n",
    "        \n",
    "            # Read the peak file (without headers) \n",
    "            peakInfo = pd.read_csv(file_path, sep=\"\\t\", header=None, low_memory=False)\n",
    "\n",
    "            # calculate the width of each peak\n",
    "            # v3(end)-v2(start)\n",
    "            peakInfo['width'] = abs(peakInfo[2] - peakInfo[1])  \n",
    "\n",
    "            # Store the peak count and type information\n",
    "            peakN.append({\n",
    "                \"sample\": sample,  # sample type\n",
    "                \"peakType\": ptype,  # Peak type (control or top0.01)\n",
    "                \"peakN\": peakInfo.shape[0]  # Number of peaks (rows in the dataframe)\n",
    "            })\n",
    "\n",
    "            # Store the peak width information\n",
    "            for width in peakInfo['width']:\n",
    "                peakWidth.append({\n",
    "                    \"sample\": sample,  \n",
    "                    \"peakType\": ptype,  \n",
    "                    \"width\": width  \n",
    "                })\n",
    "        else:\n",
    "            # 输出文件未找到的消息\n",
    "            print(f\"File not found: {file_path}\")\n",
    "\n",
    "\n",
    "# Convert the peakN and peakWidth lists into pandas DataFrames for further analysis or saving\n",
    "peakN_df = pd.DataFrame(peakN)[['sample', 'peakType', 'peakN']]\n",
    "peakWidth_df = pd.DataFrame(peakWidth)"
   ]
  },
  {
   "cell_type": "code",
   "execution_count": 28,
   "id": "5c77322c-6cd0-4347-8182-4162664390db",
   "metadata": {},
   "outputs": [
    {
     "data": {
      "text/html": [
       "<div>\n",
       "<style scoped>\n",
       "    .dataframe tbody tr th:only-of-type {\n",
       "        vertical-align: middle;\n",
       "    }\n",
       "\n",
       "    .dataframe tbody tr th {\n",
       "        vertical-align: top;\n",
       "    }\n",
       "\n",
       "    .dataframe thead th {\n",
       "        text-align: right;\n",
       "    }\n",
       "</style>\n",
       "<table border=\"1\" class=\"dataframe\">\n",
       "  <thead>\n",
       "    <tr style=\"text-align: right;\">\n",
       "      <th></th>\n",
       "      <th>sample</th>\n",
       "      <th>peakType</th>\n",
       "      <th>peakN</th>\n",
       "    </tr>\n",
       "  </thead>\n",
       "  <tbody>\n",
       "    <tr>\n",
       "      <th>0</th>\n",
       "      <td>KCHIP2</td>\n",
       "      <td>top0.01</td>\n",
       "      <td>9294</td>\n",
       "    </tr>\n",
       "    <tr>\n",
       "      <th>1</th>\n",
       "      <td>KCHIP2</td>\n",
       "      <td>top0.05</td>\n",
       "      <td>46527</td>\n",
       "    </tr>\n",
       "    <tr>\n",
       "      <th>2</th>\n",
       "      <td>KCHIP2-OE</td>\n",
       "      <td>top0.01</td>\n",
       "      <td>34989</td>\n",
       "    </tr>\n",
       "    <tr>\n",
       "      <th>3</th>\n",
       "      <td>KCHIP2-OE</td>\n",
       "      <td>top0.05</td>\n",
       "      <td>175082</td>\n",
       "    </tr>\n",
       "    <tr>\n",
       "      <th>4</th>\n",
       "      <td>KCHIP2-OE</td>\n",
       "      <td>KCHIP2ascontrol</td>\n",
       "      <td>7089</td>\n",
       "    </tr>\n",
       "  </tbody>\n",
       "</table>\n",
       "</div>"
      ],
      "text/plain": [
       "      sample         peakType   peakN\n",
       "0     KCHIP2          top0.01    9294\n",
       "1     KCHIP2          top0.05   46527\n",
       "2  KCHIP2-OE          top0.01   34989\n",
       "3  KCHIP2-OE          top0.05  175082\n",
       "4  KCHIP2-OE  KCHIP2ascontrol    7089"
      ]
     },
     "execution_count": 28,
     "metadata": {},
     "output_type": "execute_result"
    }
   ],
   "source": [
    "##== Python command ==##\n",
    "# check the peak count\n",
    "peakN_df"
   ]
  },
  {
   "cell_type": "markdown",
   "id": "86679534-bd51-4761-b668-3c3de57cc98f",
   "metadata": {},
   "source": [
    "---"
   ]
  },
  {
   "cell_type": "markdown",
   "id": "ae754bfd-f262-4824-90a2-48c12c7533c4",
   "metadata": {},
   "source": [
    "<font size=4 color=blue><b>Visualization of peak count"
   ]
  },
  {
   "cell_type": "code",
   "execution_count": 32,
   "id": "8c197c36-7afd-43e8-8790-87a618708efe",
   "metadata": {},
   "outputs": [
    {
     "data": {
      "image/png": "[encoded data removed]",
      "text/plain": [
       "<Figure size 1500x500 with 3 Axes>"
      ]
     },
     "metadata": {},
     "output_type": "display_data"
    }
   ],
   "source": [
    "##== Python command ==##\n",
    "import pandas as pd\n",
    "import seaborn as sns\n",
    "import matplotlib.pyplot as plt\n",
    "\n",
    "# Create the FacetGrid to separate plots by 'peakType'\n",
    "g = sns.FacetGrid(peakN_df, col='peakType', height=5, aspect=1)\n",
    "\n",
    "# Create a barplot for each subplot with sample on x-axis and peakN on y-axis\n",
    "g.map(sns.barplot, 'sample', 'peakN', order=peakN_df['sample'].unique(), hue=peakN_df['sample'], palette=\"viridis\")\n",
    "\n",
    "# Add labels and title for the entire plot\n",
    "g.set_axis_labels('Sample', 'Peak Count (peakN)')\n",
    "g.fig.suptitle('Peak Counts per Sample for Different Peak Types', fontsize=16, y=1.05)\n",
    "\n",
    "# Show the plot\n",
    "plt.show()"
   ]
  },
  {
   "cell_type": "code",
   "execution_count": 34,
   "id": "7ea8caf4-bf6e-487d-b7f7-a026f15b3740",
   "metadata": {},
   "outputs": [
    {
     "data": {
      "text/html": [
       "<div>\n",
       "<style scoped>\n",
       "    .dataframe tbody tr th:only-of-type {\n",
       "        vertical-align: middle;\n",
       "    }\n",
       "\n",
       "    .dataframe tbody tr th {\n",
       "        vertical-align: top;\n",
       "    }\n",
       "\n",
       "    .dataframe thead th {\n",
       "        text-align: right;\n",
       "    }\n",
       "</style>\n",
       "<table border=\"1\" class=\"dataframe\">\n",
       "  <thead>\n",
       "    <tr style=\"text-align: right;\">\n",
       "      <th></th>\n",
       "      <th>sample</th>\n",
       "      <th>peakType</th>\n",
       "      <th>width</th>\n",
       "    </tr>\n",
       "  </thead>\n",
       "  <tbody>\n",
       "    <tr>\n",
       "      <th>0</th>\n",
       "      <td>KCHIP2</td>\n",
       "      <td>top0.01</td>\n",
       "      <td>597</td>\n",
       "    </tr>\n",
       "    <tr>\n",
       "      <th>1</th>\n",
       "      <td>KCHIP2</td>\n",
       "      <td>top0.01</td>\n",
       "      <td>690</td>\n",
       "    </tr>\n",
       "    <tr>\n",
       "      <th>2</th>\n",
       "      <td>KCHIP2</td>\n",
       "      <td>top0.01</td>\n",
       "      <td>848</td>\n",
       "    </tr>\n",
       "    <tr>\n",
       "      <th>3</th>\n",
       "      <td>KCHIP2</td>\n",
       "      <td>top0.01</td>\n",
       "      <td>797</td>\n",
       "    </tr>\n",
       "    <tr>\n",
       "      <th>4</th>\n",
       "      <td>KCHIP2</td>\n",
       "      <td>top0.01</td>\n",
       "      <td>952</td>\n",
       "    </tr>\n",
       "    <tr>\n",
       "      <th>...</th>\n",
       "      <td>...</td>\n",
       "      <td>...</td>\n",
       "      <td>...</td>\n",
       "    </tr>\n",
       "    <tr>\n",
       "      <th>272976</th>\n",
       "      <td>KCHIP2-OE</td>\n",
       "      <td>KCHIP2ascontrol</td>\n",
       "      <td>1007</td>\n",
       "    </tr>\n",
       "    <tr>\n",
       "      <th>272977</th>\n",
       "      <td>KCHIP2-OE</td>\n",
       "      <td>KCHIP2ascontrol</td>\n",
       "      <td>420</td>\n",
       "    </tr>\n",
       "    <tr>\n",
       "      <th>272978</th>\n",
       "      <td>KCHIP2-OE</td>\n",
       "      <td>KCHIP2ascontrol</td>\n",
       "      <td>615</td>\n",
       "    </tr>\n",
       "    <tr>\n",
       "      <th>272979</th>\n",
       "      <td>KCHIP2-OE</td>\n",
       "      <td>KCHIP2ascontrol</td>\n",
       "      <td>487</td>\n",
       "    </tr>\n",
       "    <tr>\n",
       "      <th>272980</th>\n",
       "      <td>KCHIP2-OE</td>\n",
       "      <td>KCHIP2ascontrol</td>\n",
       "      <td>847</td>\n",
       "    </tr>\n",
       "  </tbody>\n",
       "</table>\n",
       "<p>272981 rows × 3 columns</p>\n",
       "</div>"
      ],
      "text/plain": [
       "           sample         peakType  width\n",
       "0          KCHIP2          top0.01    597\n",
       "1          KCHIP2          top0.01    690\n",
       "2          KCHIP2          top0.01    848\n",
       "3          KCHIP2          top0.01    797\n",
       "4          KCHIP2          top0.01    952\n",
       "...           ...              ...    ...\n",
       "272976  KCHIP2-OE  KCHIP2ascontrol   1007\n",
       "272977  KCHIP2-OE  KCHIP2ascontrol    420\n",
       "272978  KCHIP2-OE  KCHIP2ascontrol    615\n",
       "272979  KCHIP2-OE  KCHIP2ascontrol    487\n",
       "272980  KCHIP2-OE  KCHIP2ascontrol    847\n",
       "\n",
       "[272981 rows x 3 columns]"
      ]
     },
     "execution_count": 34,
     "metadata": {},
     "output_type": "execute_result"
    }
   ],
   "source": [
    "peakWidth_df"
   ]
  },
  {
   "cell_type": "markdown",
   "id": "ad6b5896-8888-4ccf-b51a-c1c872ced248",
   "metadata": {},
   "source": [
    "---"
   ]
  },
  {
   "cell_type": "markdown",
   "id": "b03ace2f-a555-41f8-9515-39d287443457",
   "metadata": {},
   "source": [
    "<font size=4 color=blue><b>Visualization of peak width"
   ]
  },
  {
   "cell_type": "code",
   "execution_count": 38,
   "id": "5c6a2293-821b-4610-a461-82c83b68770d",
   "metadata": {},
   "outputs": [
    {
     "data": {
      "image/png": "[encoded data removed]",
      "text/plain": [
       "<Figure size 1500x500 with 3 Axes>"
      ]
     },
     "metadata": {},
     "output_type": "display_data"
    }
   ],
   "source": [
    "##== Python command ==##\n",
    "import pandas as pd\n",
    "import seaborn as sns\n",
    "import matplotlib.pyplot as plt\n",
    "\n",
    "# Create the FacetGrid to separate plots by 'peakType'\n",
    "g = sns.FacetGrid(peakWidth_df, col='peakType', height=5, aspect=1)\n",
    "\n",
    "# Create a barplot for each subplot with sample on x-axis and peakN on y-axis\n",
    "g.map(sns.violinplot, 'sample', 'width', order=peakWidth_df['sample'].unique(), hue=peakWidth_df['sample'], palette=\"viridis\")\n",
    "\n",
    "# Add labels and title for the entire plot\n",
    "g.set_axis_labels('Sample', 'peak width')\n",
    "g.fig.suptitle('Peak Counts per Sample for Different Peak Types', fontsize=16, y=1.05)\n",
    "\n",
    "# Show the plot\n",
    "plt.show()"
   ]
  },
  {
   "cell_type": "markdown",
   "id": "d6824827-e323-4432-8ad4-281d14d14f30",
   "metadata": {},
   "source": [
    "## Comparing the same peaks on replicate sample data sets(optial)\n",
    "\n",
    "* Using tools: [Bedtools intersect](#Bedtools-intersect)"
   ]
  },
  {
   "cell_type": "markdown",
   "id": "703c13a3-d496-4e3d-a3b4-b5a460d982b7",
   "metadata": {},
   "source": [
    "<font size=4 color=blue><b>Comparing the same peaks on replicate sample data"
   ]
  },
  {
   "cell_type": "code",
   "execution_count": null,
   "id": "bb693586-f8ca-4530-84bf-679194bd3354",
   "metadata": {},
   "outputs": [],
   "source": [
    "##== linux bash command ==##\n",
    "#!/bin/bash\n",
    "\n",
    "###################per setting####################\n",
    "# Define variables\n",
    "samples=(\"K27me3\" \"K4me3\")\n",
    "repL=(\"rep1\" \"rep2\")\n",
    "peakType=(\"control\" \"top0.01\")\n",
    "\n",
    "# Define your bed path\n",
    "bedpath=\"SERCA\"\n",
    "\n",
    "# Output file\n",
    "output_file=\"output/peak_reproducibility.txt\"\n",
    "\n",
    "#####################################################\n",
    "# Initialize an array for peak overlap information\n",
    "declare -A peakOverlap\n",
    "\n",
    "# Clear the output file before writing new data\n",
    "> \"$output_file\"\n",
    "\n",
    "# Create a header for the table and write it to the output file\n",
    "echo \"Sample,PeakType,TotalPeaks,ReproduciblePeaks,ReproducibilityRate\" > \"$output_file\"\n",
    "    \n",
    "# Loop over peak types and samples\n",
    "for type in \"${peakType[@]}\"; do\n",
    "    for sample in \"${samples[@]}\"; do\n",
    "        \n",
    "        # Initialize an empty file to hold overlapping peaks\n",
    "        overlap_file=\"overlap_${sample}_${type}.bed\"\n",
    "        rm -f \"$overlap_file\"\n",
    "\n",
    "        # Initialize the first replicate for comparison\n",
    "        first_rep=\"${bedpath}/${sample}_rep1_seacr_${type}.peaks.stringent.bed\"\n",
    "        \n",
    "        # Check if the first replicate file exists\n",
    "        if [[ ! -f \"$first_rep\" ]]; then\n",
    "            echo \"First replicate not found: $first_rep\"\n",
    "            continue\n",
    "        fi\n",
    "\n",
    "        # copy the first_rep file and save it as the overlap file\n",
    "        cp \"$first_rep\" \"$overlap_file\"\n",
    "\n",
    "        # Loop over the remaining replicates\n",
    "        for rep in \"${repL[@]:1}\"; do\n",
    "            peak_file=\"${bedpath}/${sample}_${rep}_seacr_${type}.peaks.stringent.bed\"\n",
    "            \n",
    "            # Check if the replicate file exists\n",
    "            if [[ ! -f \"$peak_file\" ]]; then\n",
    "                echo \"Replicate file not found: $peak_file\"\n",
    "                continue\n",
    "            fi\n",
    "\n",
    "            # Find the overlapping peaks between replicates using bedtools\n",
    "            bedtools intersect -a \"$overlap_file\" -b \"$peak_file\" > tmp_overlap.bed\n",
    "            \n",
    "            # Replace overlap_file with the updated overlapping peaks\n",
    "            mv tmp_overlap.bed \"$overlap_file\"\n",
    "        done\n",
    "\n",
    "        # Count the number of overlapping peaks\n",
    "        overlap_count=$(wc -l < \"$overlap_file\")\n",
    "\n",
    "        # Calculate the total peaks in the first replicate (to get peakN)\n",
    "        total_peaks=$(wc -l < \"$first_rep\")\n",
    "\n",
    "        # Calculate peak reproducibility rate\n",
    "        reproducibility_rate=$(echo \"scale=2; ($overlap_count / $total_peaks) * 100\" | bc)\n",
    "\n",
    "         # Store the result as a row in the CSV file\n",
    "        echo \"$sample,$type,$total_peaks,$overlap_count,$reproducibility_rate%\" >> \"$output_file\"\n",
    "\n",
    "    done\n",
    "done \n",
    "\n",
    "# Print the final reproducibility rates for all samples and peak types\n",
    "echo \"Peak reproducibility results have been saved to $output_file.\""
   ]
  },
  {
   "cell_type": "markdown",
   "id": "a2ab6729-3081-4962-8dbe-6a739e34c347",
   "metadata": {},
   "source": [
    "<font size=4 color=blue><b>Check the output"
   ]
  },
  {
   "cell_type": "code",
   "execution_count": null,
   "id": "a0022e51-892d-496c-88e9-c71fcabdfc21",
   "metadata": {},
   "outputs": [],
   "source": [
    "##== Python command ==##\n",
    "import pandas as pd\n",
    "from tabulate import tabulate\n",
    "\n",
    "# Read the output_file\n",
    "df = pd.read_csv(\"./peak_reproducibility.txt\", sep='\\t')\n",
    "\n",
    "# Display the table \n",
    "print(df)"
   ]
  },
  {
   "cell_type": "markdown",
   "id": "5ef90b84-a331-46bf-aaa8-9cf4c740fb83",
   "metadata": {},
   "source": [
    "## Calculates FRiPs (Fraction of Reads in Peaks)"
   ]
  },
  {
   "cell_type": "markdown",
   "id": "0ee80246-69c7-4650-8d8c-0f4e4bcf614c",
   "metadata": {},
   "source": [
    "* FRiPs is a measure of how many sequencing reads fall within peak regions.\n",
    "\n",
    "*  A higher FRiP score indicates a better signal-to-noise ratio in the data, which is often used to assess the quality of ChIP-seq or CUT&Tag experiments.\n",
    "\n",
    "*  we can use tool with [Bedtools intersect](#Bedtools-intersect) to calcuate FRiP\n",
    "\n",
    "   *  A BED file containing the peak regions\n",
    " \n",
    "   *  A BAM file containing your sequencing reads\n",
    " \n",
    "   *  calcuate the Number of Reads in Peaks :\n",
    "\n",
    "      `bedtools intersect -a \"$bed_file\" -b \"$bam_file\"| awk '{sum += $NF} END {print sum}`\n",
    " \n",
    "\n",
    "   *  $\\text{FRiP} = \\frac{\\text{Number of Reads in Peaks}}{\\text{Total Number of Reads}}$\n",
    "\n",
    "\n",
    "*  <font color=red><b>Ensure your bed file chromosome order consistent with your bam file !!!"
   ]
  },
  {
   "cell_type": "markdown",
   "id": "75017f7c-c8db-4768-9fdd-2b37431fdc01",
   "metadata": {},
   "source": [
    "### Theory"
   ]
  },
  {
   "cell_type": "markdown",
   "id": "a9ed54ad-cc4a-4a0d-b6c0-69da1f82cb45",
   "metadata": {},
   "source": [
    "<font size=4 color=blue><b>Check your bam file order\n",
    "\n",
    "* check your bam file order : `samtools view -H <bam>`\n",
    "\n",
    "  <img src=\"./picture/055.png\" width=\"200\"/>\n",
    "\n",
    "* This BAM file's sorting mode is currently set to **coordinate (SO:coordinate in the header)**\n",
    "\n",
    "* However, the order of chromosomes (shown in the @SQ lines) follows the **lexicographical order**, meaning that chromosomes 10, 11, 12, etc., come before chromosome 1, 2, 3, etc. This is because lexicographical sorting treats numbers as strings, where \"10\" comes before \"2\""
   ]
  },
  {
   "cell_type": "markdown",
   "id": "bc40def0-5065-4bd3-9aef-ccce36050a10",
   "metadata": {},
   "source": [
    "<font size=4 color=blue><b>Check your bed file order\n",
    "\n",
    "* check your bed file order :`cut -f1 <bed> | uniq`\n",
    "\n",
    "  <img src=\"./picture/056.png\" width=\"50\"/>\n",
    "\n",
    "\n",
    "* you found your bed file chromosome order not consistent with your bam file\n",
    "\n",
    "* you can fix this problem with sorrting your bed file with **custom order(bam file order)**"
   ]
  },
  {
   "cell_type": "markdown",
   "id": "47213d0e-f89a-4b79-ad97-b62cee99622e",
   "metadata": {},
   "source": [
    "<font size=4 color=blue><b>Create a Custom Order File\n",
    "\n",
    "<img src=\"./picture/055.png\" width=\"180\"/>\n",
    "\n",
    "* First, create a custom chromosome order file that matches the order you specified. Let's call this file chromosome_order.txt. \n",
    "\n",
    "* The code will be:\n",
    "\n",
    "    `samtools view -H <bam> | grep '^@SQ' | awk '{print $2}' | cut -d':' -f2 > chromosome_order.txt`\r\n",
    "    * `samtools view -H <bam>` :see head information of bam file\n",
    "    \n",
    "    *  `grep '^@SQ'` :Filter out all lines starting with @ SQ\n",
    " \n",
    "    *  `awk '{print $2}'` :awk is used to print the second field of each line(SN:<chromosome>)\n",
    "\n",
    "    *  `cut -d':' -f2` : cut is used to further process the output by splitting each line on the colon (:) and extracting the second part\n"
   ]
  },
  {
   "cell_type": "markdown",
   "id": "0a4d6306-6423-4585-b5ce-c69868b0cb1b",
   "metadata": {},
   "source": [
    "<font size=4 color=blue><b>sort your bed file with custom order\n",
    "\n",
    "* sort your bed file with custom order\n",
    "\n",
    "  `awk 'NR==FNR {order[$1]=NR; next} {print order[$1], $0}' chromosome_order.txt <unsorted.bed> | sort -k1,1n -k3,3n | cut -d' ' -f2- > <sorted.bed>`\n",
    "\n",
    "   <br>\n",
    "   \n",
    "   * `NR==FNR` :\n",
    "\n",
    "     * `NR` : is the total number of input records read\n",
    "\n",
    "     * `FNR` : is the number of records read from the **current file**.\n",
    "\n",
    "     * This means that as long as we are reading the first file, `order[$1]=NR` is executed\n",
    " \n",
    "   * `order[$1]=NR` : This creates an associative array called **order** where the key is the chromosome name (from the first column of chromosome_order.txt)\n",
    " \n",
    "     - It creates an order mapping:\n",
    "     - `chr1` → 1\n",
    "     - `chr2` → 2\n",
    "     - `chrX` → 3\n",
    "     - `chrY` → 4\n",
    " \n",
    "   <br>\n",
    "   \n",
    "   * `next`: This skips the remaining actions for the current line to the next line. \n",
    " \n",
    "   * `print order[$1], $0}` : For lines in the second file (unsorted.bed),  this prints the chromosome rank (from the **order** array) followed by the entire line (`$0` represents the whole line)\n",
    "\n",
    "| order | Chromosome | Start | End | Peak   |\n",
    "|----|------------|-------|-----|--------|\n",
    "| 3  | chrX      | 100   | 200 | peak1  |\n",
    "| 1  | chr1      | 150   | 250 | peak2  |\n",
    "| 2  | chr2      | 50    | 150 | peak3  |\n",
    "\n",
    "\n",
    "   * `sort -k1,1n -k3,3n` :sort by **order** array ,subsort by the start position of the peak\n",
    " \n",
    "   * `cut -d' ' -f2-` :\n",
    "      \n",
    "      * `-d' '` : Sets the delimiter as a space.\n",
    "      * `-f2-`  : This specifies that we want to extract fields from the second one onward. Essentially, it removes the first field (**order**) from the output."
   ]
  },
  {
   "cell_type": "markdown",
   "id": "836084e2-0aaf-427c-9e45-1275065f86cd",
   "metadata": {},
   "source": [
    "### Code with Sorting file and calcuating FRIPs "
   ]
  },
  {
   "cell_type": "code",
   "execution_count": null,
   "id": "9b6c3b5a-f0c6-447b-be69-061b27856329",
   "metadata": {},
   "outputs": [],
   "source": [
    "##== linux bash command ==##\n",
    "#!/bin/bash\n",
    "\n",
    "###################per setting####################\n",
    "# Define the variables\n",
    "sampleMarks=(\"KCHIP2\" \"KCHIP2-OE\")\n",
    "peakType=(\"top0.01\" \"top0.05\" \"KCHIP2ascontrol\")\n",
    "\n",
    "# Define the threads\n",
    "threads=10\n",
    "\n",
    "# Define your peak file directory\n",
    "bedDir=\"SERCA\"\n",
    "\n",
    "# BAM directory\n",
    "bamDir=\"deduplicated.bam\"\n",
    "\n",
    "# Output file\n",
    "output_file=\"output/FRiPs.txt\"\n",
    "\n",
    "\n",
    "#####################################################\n",
    "# Initialize an empty list to store the number of reads falling within peaks\n",
    "declare -A FRIPsData\n",
    "\n",
    "# Clear the output file before writing new data\n",
    "> \"$output_file\"\n",
    "\n",
    "# Define the function to get fragment counts in peak regions\n",
    "get_fragment_counts() {\n",
    "    local bam_file=$1\n",
    "    local peaks_bed=$2\n",
    "\n",
    "    # Use bedtools intersect to find reads that overlap with peaks      \n",
    "    overlap_counts=$(bedtools intersect -sorted -c -a \"$peaks_bed\" -b \"$bam_file\" | awk '{sum += $NF} END {print sum}')\n",
    "    \n",
    "    # Return the total count of reads overlapping peaks\n",
    "    echo \"$overlap_counts\"\n",
    "}\n",
    "\n",
    "\n",
    "# create a tem file to store temporary data\n",
    "mkdir -p tmp\n",
    "                  \n",
    "# Loop over the sampleMarks and peakType\n",
    "for sample in \"${sampleMarks[@]}\"; do\n",
    "    for peak in \"${peakType[@]}\"; do\n",
    "\n",
    "        # Construct the path of the peak information file (BED format)\n",
    "        peak_file=\"${bedDir}/${sample}_seacr_${peak}.peaks.stringent.bed\"\n",
    "        sort_peak_file=\"tmp/${sample}_seacr_${peak}.peaks.stringent.sort.bed\"\n",
    " \n",
    "        # Check if the peak file exists\n",
    "        if [[ -f \"$peak_file\" ]]; then\n",
    "            \n",
    "            # BAM file path\n",
    "            bam_file=\"${bamDir}/filter${sample}deduplicated.bam\"\n",
    "            sort_bam_file=\"tmp/filter${sample}deduplicated.sort.bam\"\n",
    "    \n",
    "            # Check if the BAM file exists\n",
    "            if [[ -f \"$bam_file\" ]]; then\n",
    "\n",
    "                \n",
    "                # Sort the BAM file (skip sorting if sorted already)\n",
    "                if [[ ! -f \"$sort_bam_file\" ]]; then\n",
    "                    echo \"Sorting BAM file: $bam_file\"\n",
    "                    samtools sort -o \"$sort_bam_file\" \"$bam_file\" -@ \"$threads\"\n",
    "                fi\n",
    "\n",
    "\n",
    "                # Create a Custom Order File(skip create if Custom Order already)\n",
    "                Custom_Order=\"tmp/${sample}.chromosome_order.txt\"\n",
    "                if [[ ! -f \"$Custom_Order\" ]]; then\n",
    "                    echo \"Create a Custom Order File: $Custom_Order\"\n",
    "                    samtools view -H \"$sort_bam_file\" | grep '^@SQ' | awk '{print $2}' | cut -d':' -f2 > \"$Custom_Order\"\n",
    "                fi\n",
    "\n",
    "    \n",
    "                # Sort the bed file (sort by Custom Order)\n",
    "                echo \"Sorting peak file: $peak_file\"\n",
    "                awk 'NR==FNR {order[$1]=NR; next} {print order[$1], $0}' \"$Custom_Order\" \"$peak_file\" | sort -k1,1n -k3,3n | cut -d' ' -f2- > \"$sort_peak_file\"\n",
    "\n",
    "                \n",
    "                # Get the Number of Reads in Peaks\n",
    "                echo \"Get the Number of Reads in Peaks: $sort_peak_file and $sort_bam_file\"\n",
    "                reads_in_peaks=$(get_fragment_counts \"$sort_bam_file\" \"$sort_peak_file\")\n",
    "\n",
    "                # Get the Total Number of Reads\n",
    "                total_reads=$(samtools view -c \"$bam_file\") \n",
    "\n",
    "                # calcuate the FRIP(Fraction of Reads in Peaks)(4 decimal places)\n",
    "                frip=$(echo \"scale=4; $reads_in_peaks / $total_reads\" | bc)\n",
    "                           \n",
    "                # Append the results to the inPeakData array\n",
    "                FRIPsData[\"$sample,$peak\"]=\"Reads in Peaks: $reads_in_peaks, Total Reads: $total_reads, FRiP: $frip\"\n",
    "            else\n",
    "                echo -e \"\\e[31mBAM file not found: $peak_file\\e[0m\"\n",
    "            fi\n",
    "        else\n",
    "            echo -e \"\\e[31mPeak file not found: $peak_file\\e[0m\"\n",
    "        fi\n",
    "    done\n",
    "done\n",
    "\n",
    "\n",
    "# Output the header of the table\n",
    "echo -e \"Sample\\tPeak Type\\tReads in Peaks\\tTotal Reads\\tFRiP\" >> \"$output_file\"\n",
    "\n",
    "# Output the results to the text file\n",
    "for key in \"${!FRIPsData[@]}\"; do\n",
    "    sample=${key%,*}\n",
    "    peak_type=${key#*,}\n",
    "    reads_in_peaks=${FRIPsData[$key]#*Reads in Peaks: }\n",
    "    total_reads=${reads_in_peaks#*, Total Reads: }\n",
    "    frip=${total_reads#*, FRiP: }\n",
    "    \n",
    "    # Clean up values\n",
    "    reads_in_peaks=${reads_in_peaks%%,*}\n",
    "    total_reads=${total_reads%%,*}\n",
    "    frip=${frip%%,*}\n",
    "\n",
    "    # Format the output as a table\n",
    "    printf \"%s\\t%s\\t%s\\t%s\\t%s\\n\" \"$sample\" \"$peak_type\" \"$reads_in_peaks\" \"$total_reads\" \"$frip\" >> \"$output_file\"\n",
    "done\n",
    "\n",
    "# remove tmp file\n",
    "rm -r tmp\n",
    "\n",
    "# Confirmation message\n",
    "echo \"Results have been saved to $output_file\""
   ]
  },
  {
   "cell_type": "markdown",
   "id": "88dc444d-0d70-4a1f-b2bc-77ebaecfe82a",
   "metadata": {},
   "source": [
    "### Check the output"
   ]
  },
  {
   "cell_type": "code",
   "execution_count": 19,
   "id": "f2f09ed9-c217-4e1a-bda2-769c67989bd3",
   "metadata": {},
   "outputs": [
    {
     "name": "stdout",
     "output_type": "stream",
     "text": [
      "      Sample        Peak Type  Reads in Peaks  Total Reads    FRiP\n",
      "0     KCHIP2          top0.05         1388331      4463744  0.3110\n",
      "1     KCHIP2          top0.01         1115334      4463744  0.2498\n",
      "2  KCHIP2-OE  KCHIP2ascontrol          418309     17177518  0.0243\n",
      "3  KCHIP2-OE          top0.01         1440794     17177518  0.0838\n",
      "4  KCHIP2-OE          top0.05         3051352     17177518  0.1776\n"
     ]
    }
   ],
   "source": [
    "##== Python command ==##\n",
    "import pandas as pd\n",
    "from tabulate import tabulate\n",
    "\n",
    "# Read the output_file\n",
    "df = pd.read_csv(\"./FRiPs.txt\", sep='\\t')\n",
    "\n",
    "# Display the table \n",
    "print(df)"
   ]
  },
  {
   "cell_type": "markdown",
   "id": "168d9773-aa31-4981-a398-e70996ac9e38",
   "metadata": {},
   "source": [
    "### Draw picture"
   ]
  },
  {
   "cell_type": "code",
   "execution_count": 22,
   "id": "70f1a48e-1109-4246-a7f7-181bc19fccb4",
   "metadata": {},
   "outputs": [
    {
     "data": {
      "image/png": "[encoded data removed]",
      "text/plain": [
       "<Figure size 600x400 with 1 Axes>"
      ]
     },
     "metadata": {},
     "output_type": "display_data"
    }
   ],
   "source": [
    "##== Python command ==##\n",
    "import pandas as pd\n",
    "import matplotlib.pyplot as plt\n",
    "import seaborn as sns\n",
    "\n",
    "# Create a box plot with seaborn\n",
    "plt.figure(figsize=(6, 4))\n",
    "\n",
    "# Box plot of FRiP scores grouped by Sample \n",
    "sns.boxplot(x='Sample', y='FRiP', data=df)\n",
    "\n",
    "# Add titles and labels\n",
    "plt.title('Box Plot of FRiP Scores Grouped by Sample')\n",
    "plt.xlabel('Sample')\n",
    "plt.ylabel('FRiP Score')\n",
    "\n",
    "# Display the plot\n",
    "plt.tight_layout()\n",
    "plt.show()"
   ]
  },
  {
   "cell_type": "markdown",
   "id": "7c156ca1-df4f-43e4-903a-514b053dd961",
   "metadata": {},
   "source": [
    "# Genome browser\n",
    "* Typically we are interested in visualizing a chromatin landscape in regions using a genome browser.\n",
    "\n",
    "* You can input **bed** and **bedgraph** file\n",
    "\n",
    "* [The Integrative Genomic Viewer(IGV)](https://igv.org/doc/desktop/)provides a web app version and a local desktop version that is easy to use.\n",
    "\n",
    "* [The UCSC Genome Browser](https://genome.ucsc.edu/) provides the most comprehensive supplementary genome information.\n",
    "\n",
    "<img src=\"./picture/057.png\" width=\"900\"/>"
   ]
  },
  {
   "cell_type": "markdown",
   "id": "3355c181-50d8-421c-8233-ab58403d3cb9",
   "metadata": {},
   "source": [
    "# Normalization methods"
   ]
  },
  {
   "cell_type": "markdown",
   "id": "9a936abc-99eb-4c21-aaea-bca7e3596f66",
   "metadata": {},
   "source": [
    "## RPKM\n",
    "\n",
    "**RPKM(Reads Per Kilobase Million)**\n",
    "\n",
    "* **Definition**: Normalizes read counts by both the sequencing depth (in millions of reads) and the length of each region (in kilobases).\n",
    "\n",
    "* **Purpose**: Corrects for sequencing depth and gene/feature length, commonly used in RNA-seq.\n",
    "\n",
    "$$\n",
    "\\text{RPKM} = \\frac{\\text{reads in a region} \\times 10^9}{\\text{total mapped reads} \\times \\text{region length(measured in base pairs) }}\n",
    "$$"
   ]
  },
  {
   "cell_type": "markdown",
   "id": "bf217a12-f4bd-4b63-afbf-9665fac0fd71",
   "metadata": {},
   "source": [
    "## CPM\n",
    "\n",
    "**CPM (Counts Per Million)**\n",
    "\n",
    "* **Definition**: Normalizes read counts based only on sequencing depth, ignoring region length.\n",
    "\n",
    "* **Purpose**: Useful when comparing coverage across samples with different read counts, but region length is not a consideration.\n",
    "\n",
    "$$\n",
    "\\text{CPM} = \\frac{\\text{reads in a region} \\times 10^6}{\\text{total mapped reads}}\n",
    "$$\n"
   ]
  },
  {
   "cell_type": "markdown",
   "id": "829d12d5-0ef2-4de7-8874-7be5e61b4b31",
   "metadata": {},
   "source": [
    "## BPM\n",
    "\n",
    "**BPM (Bins Per Million mapped reads)**\n",
    "\n",
    "* **Definition**: Similar to CPM but applies normalization across **equal-size bins** rather than distinct genomic regions.\n",
    "\n",
    "* **Purpose**: Often used in whole-genome coverage analysis, where it’s important to normalize read counts across consistent bins.\n",
    "\n",
    "    * **equal-size bins** ：dividing the entire genome into segments or windows of the same fixed length (e.g., 100 bp, 500 bp, or 1 kb)\n",
    "\n",
    "$$\r\n",
    "\\text{BPM} = \\frac{\\text{reads in a bin} \\times 10^6}{\\text{total mapped reads}}\r\n",
    "$$\r\n"
   ]
  },
  {
   "cell_type": "markdown",
   "id": "7d0e3d9d-e4de-42a8-ad38-bef50a73f7f8",
   "metadata": {},
   "source": [
    "## RPGC\n",
    "\n",
    "**RPGC (Reads Per Genomic Content)**\n",
    "\n",
    "* **Definition**: Normalizes read counts based on the **effective genome size**, usually to adjust for mappability in the genome. It’s commonly used in ChIP-seq and ATAC-seq.\n",
    "\n",
    "    * **Effective Genome Size**:This refers to the mappable portion of the genome. For example, the human genome is about 3 billion base pairs, but due to repetitive sequences, only a portion of it (~2.7 billion base pairs) is actually usable for most short-read alignments.\n",
    "    \n",
    "    * By using the effective genome size, you account only for the regions where reads can be uniquely mapped, which makes the normalization more accurate, especially for data like ChIP-seq or ATAC-seq.\n",
    "\n",
    "* **Purpose**: Useful for adjusting read counts by the mappable portion of the genome rather than total read count.\n",
    "\n",
    "$$\n",
    "\\text{RPCG} =  \\frac{\\text{reads in a region} \\times \\text{effective genome size}}{\\text{total mapped reads} \\times \\text{region length}}\n",
    "$$"
   ]
  },
  {
   "cell_type": "markdown",
   "id": "94e443c9-724b-4c78-a44d-af5e6af30df5",
   "metadata": {},
   "source": [
    "# Deeptools"
   ]
  },
  {
   "cell_type": "markdown",
   "id": "214167d4-76aa-4d25-a40c-ec4ee38be704",
   "metadata": {},
   "source": [
    "<img src=\"./picture/059.png\" width=\"800\"/>\n",
    "<img src=\"./picture/060.png\" width=\"800\"/>\n",
    "\n",
    "* **deepTools** is a suite of python tools particularly developed for the efficient analysis of high-throughput sequencing data, such as ChIP-seq, RNA-seq or MNase-seq\n",
    "\n",
    "* [deepTools manual](https://test-argparse-readoc.readthedocs.io/en/latest/index.html)\n",
    "\n",
    "* [deepTools Galaxy server](https://usegalaxy.eu/) you use the deepTools within the familiar Galaxy framework without the need to master the command line"
   ]
  },
  {
   "cell_type": "markdown",
   "id": "afcef0e2-ccbe-4b67-8316-2e046eaa31e1",
   "metadata": {},
   "source": [
    "## Deeptools installation\n",
    "\n",
    "* Requirements\n",
    "   * **Python 2.7 or Python 3.x**\n",
    "   * numpy >= 1.8.0\n",
    "   * scipy >= 0.17.0\n",
    "   * py2bit >= 0.1.0\n",
    "   * pyBigWig >= 0.2.1\n",
    "   * pysam >= 0.8\n",
    "   * matplotlib >= 1.4.0\n",
    " \n",
    "* Install\n",
    "\n",
    "  `conda install -c bioconda deeptools`"
   ]
  },
  {
   "cell_type": "markdown",
   "id": "d929410a-ff5d-48e3-9e8c-b0d895dc9eaa",
   "metadata": {},
   "source": [
    "## BamCoverage"
   ]
  },
  {
   "cell_type": "markdown",
   "id": "1c7006ee-dd2a-4245-8c66-dd00de0a6366",
   "metadata": {},
   "source": [
    "* The [bamCoverage tool](https://test-argparse-readoc.readthedocs.io/en/latest/content/tools/bamCoverage.html), part of the deepTools suite\n",
    "\n",
    "* It’s designed for generating **coverage tracks** (bigWig or bedGraph files) from BAM files, for visualization in genome browsers\n",
    "    * **Coverage tracks** visually represent the density of reads across genomic regions, often used in genomics to interpret the depth and intensity of coverage in different regions\n",
    "\n",
    "<img src=\"./picture/058.png\" width=\"700\"/>"
   ]
  },
  {
   "cell_type": "markdown",
   "id": "a392e51e-c664-4af4-830c-24db552deb50",
   "metadata": {},
   "source": [
    "### Parameters"
   ]
  },
  {
   "cell_type": "code",
   "execution_count": null,
   "id": "1f124eaa-1e1c-41be-93f3-df5cb5b95b86",
   "metadata": {},
   "outputs": [],
   "source": [
    "bamCoverage\n",
    "\n",
    "# General Parameters\n",
    "    -b <BAM>  # Input BAM file.\n",
    "    -o  # Output file name (commonly with .bigWig or .bw extension).\n",
    "    --outFileFormat # Format of the output file, typically bigwig or bedgraph.\n",
    "    -P # Number of processors to use for multithreading, speeding up processing on larger files,(Default: 1)\n",
    "\n",
    "\n",
    "\n",
    "# Normalization and Scaling\n",
    "    --effectiveGenomeSize \n",
    "    # The effective genome size is the portion of the genome that is mappable.\n",
    "    # Large fractions of the genome are stretches of NNNN that should be discarded\n",
    "    #  A table of values is available here: http://deeptools.readthedocs.io/en/latest/content/feature/effectiveGenomeSize.html\n",
    "    \n",
    "    --exactScaling \n",
    "    # bamCoverage calculates the scaling factor based on a sample of the reads, which is faster but less precise in some situations\n",
    "    # Using exactScaling modifies this behavior to calculate the scaling factor based on all reads in the BAM file\n",
    "\n",
    "    --normalizeUsing # Specify normalization method. Options include:\n",
    "                     # RPKM (Reads Per Kilobase Million)\n",
    "                     # CPM (Counts Per Million)\n",
    "                     # BPM (Bins Per Million mapped reads)\n",
    "                     # RPGC (Reads Per Genomic Content)\n",
    "                     # None (no normalization)\n",
    "                     # Default: None \n",
    "    --ignoreForNormalization \n",
    "    # A list of space-delimited chromosome names containing those chromosomes that should be excluded for computing the normalization. \n",
    "    # This is useful when considering samples with unequal coverage across chromosomes, like male samples. \n",
    "    # An usage examples is --ignoreForNormalization chrX chrM\n",
    "\n",
    "\n",
    "\n",
    "# Coverage Computation\n",
    "    --binSize <int bp> \n",
    "    # Bin size (in bp) to use for calculating coverage. Smaller values yield higher resolution but increase file size.\n",
    "    # Default: 50    \n",
    "    \n",
    "    --region <CHR:START:END> # Specify a specific genomic region to calculate coverage.   \n",
    "    --smoothLength <int bp> # The smooth length defines a window, larger than the binSize, to average the number of reads.\n",
    "    \n",
    "    --skipNonCoveredRegions # Exclude regions with zero coverage from the output file.\n",
    "\n",
    "\n",
    "\n",
    "#Read processing options\n",
    "    --extendReads <int bp> \n",
    "    # This parameter allows the extension of reads to fragment size\n",
    "    # NOTE:This feature is generally NOT recommended for spliced-read data, such as RNA-seq \n",
    "    # *Single-end*: Reads that already exceed this fragment length will not be extended. \n",
    "    # *Paired-end*: Reads with mates are always extended to match the fragment size defined by the two read mates. \n",
    "    # mate reads that map too far apart (>4x fragment length) or even map to different chromosomes are treated like single-end reads.    \n",
    "\n",
    "    --ignoreDuplicates   \n",
    "    # If set, reads that have the same orientation and start position will be considered only once. \n",
    "    # If reads are paired, the mate's position also has to coincide to ignore a read.     \n",
    "\n",
    "    --centerReads\n",
    "    # adjusts the alignment position of each read to its central location, rather than using the read’s original start or end position     \n",
    "    # *Paired-end*: The read is centered based on the fragment size defined by the positions of the two mates in the pair.\n",
    "    # *Single-end*: Centering requires a specified fragment length.  \n",
    "    # Be use in Sharp Peak Detection,like: ATAC-seq，chip-seq，CUT&Tag。\n",
    "    \n",
    "\n",
    "\n",
    "# Filtering Options  \n",
    "    --minMappingQuality <int>\n",
    "    # Minimum mapping quality score to include reads in the coverage calculation (useful for filtering out low-quality alignments)\n",
    "    \n",
    "    --blackListFileName <bed> \n",
    "    # Specifies regions to exclude, useful for ignoring problematic regions like repetitive elements\n",
    "\n",
    "    --minFragmentLength <int>\n",
    "    # The minimum fragment length needed for read/pair inclusion. \n",
    "    # This option is primarily useful in ATACseq experiments, for filtering mono-or di-nucleosome fragments\n",
    "    # Default: 0       \n",
    "\n",
    "    --maxFragmentLength <int>\n",
    "    # The maximum fragment length needed for read/pair inclusion. \n",
    "    # Default: 0    \n",
    "\n",
    "\n",
    "\n",
    "# SAM flag option\n",
    "    --samFlagInclude <int>  \n",
    "    # This option includes reads that match a specified flag\n",
    "    # For example, to get only reads that are the first mate, use a flag of 64    \n",
    "\n",
    "    --samFlagExclude <int> \n",
    "    # This option excludes reads with a specified SAM flag    \n",
    "    # For example, to get only reads that map to the forward strand, use --samFlagExclude 16\n",
    "\n",
    "\n",
    "\n",
    "# special seq option\n",
    "    --MNase \n",
    "    # Designed for MNase-seq, counts only the center 3 nucleotides of fragments between 130-200 bp for nucleosome positioning.\n",
    "    # To over-write this, use the--minFragmentLength and --maxFragmentLength options, which will default to 130 and 200\n",
    "    # *NOTE*: Requires paired-end data. A bin size of 1 is recommended. (default: False)\n",
    "    \n",
    "    --Offset <int> \n",
    "    # Specifies the base offset from the start (or end) of each read for counting coverage\n",
    "    # useful for methods like RiboSeq or GROseq.\n",
    "    # A value of 1 indicates the first base of the alignment (taking alignmentorientation into account). \n",
    "    # Likewise, a value of -1 is the last base of the alignment\n",
    "    # If two values are specified, then they will be used to specify arange of positions\n",
    "\n",
    "    --filterRNAstrand <forward,reverse> \n",
    "    # Filters reads based on the strand\n",
    "    # This is particularly relevant for libraries prepared with strand-specific protocols, like dUTP-based library preparation"
   ]
  },
  {
   "cell_type": "markdown",
   "id": "24b9896f-0e43-460d-a3aa-2149d9eecc9b",
   "metadata": {},
   "source": [
    "# Convert Bam to BigWIG\n",
    "\n",
    "* We use [Samtools sort](#Samtools-sort) to sort the BAM file\n",
    "\n",
    "* We use [BamCoverage of deeptools](#BamCoverage) to convert BAM to BigWIG"
   ]
  },
  {
   "cell_type": "code",
   "execution_count": null,
   "id": "b767718f-46cd-4078-bb5c-4c777d9fa91f",
   "metadata": {},
   "outputs": [],
   "source": [
    "##== linux command ==##\n",
    "#!/bin/bash\n",
    "# create bigwig folder\n",
    "mkdir -p ./bigwig\n",
    "\n",
    "# Define the threads\n",
    "threads=10\n",
    "\n",
    "# Define the variables\n",
    "samples=(\"KCHIP2\" \"KCHIP2-OE\")\n",
    "\n",
    "# BAM directory\n",
    "bigwigDir=\"bigwig\"\n",
    "\n",
    "# BAM directory\n",
    "bamDir=\"deduplicated.bam\"\n",
    "\n",
    "# Loop over the samples\n",
    "for sample in \"${samples[@]}\"; do\n",
    "\n",
    "    # BAM file path\n",
    "    bam_file=\"${bamDir}/filter${sample}deduplicated.bam\"\n",
    "    sort_bam_file=\"${bamDir}/filter${sample}deduplicated.sort.bam\"\n",
    "    \n",
    "    # Sort the BAM file (skip sorting if sorted already)\n",
    "    if [[ ! -f \"$sort_bam_file\" ]]; then\n",
    "        echo \"Sorting BAM file: $bam_file\"\n",
    "        samtools sort -o \"$sort_bam_file\" \"$bam_file\" -@ \"$threads\"\n",
    "    fi                                                    \n",
    "\n",
    "    # create index\n",
    "    samtools index \"$sort_bam_file\"\n",
    "\n",
    "    # bigwig file path\n",
    "    bigwig_file=\"${bigwigDir}/filter${sample}deduplicated.sort.bigwig\"\n",
    "    \n",
    "    # convert BAM TO bigwig\n",
    "    bamCoverage -b \"$sort_bam_file\" -o \"$bigwig_file\"\n",
    "done"
   ]
  },
  {
   "cell_type": "markdown",
   "id": "f800eafe-f836-4efc-8777-f650f1435c7c",
   "metadata": {},
   "source": [
    "## Heatmap visualization of specific regions"
   ]
  },
  {
   "cell_type": "markdown",
   "id": "55381598-04f1-4596-8043-65fe2897caee",
   "metadata": {},
   "source": [
    "* We are also interested in looking at chromatin features at a list of annotated sites\n",
    "\n",
    "* For example,  We can use the **computeMatrix** and **plotHeatmap** functions from deepTools to generate the heatmap of gene promoters"
   ]
  },
  {
   "cell_type": "code",
   "execution_count": null,
   "id": "9fb2fc63-861a-445c-a215-09afa2fe2e59",
   "metadata": {},
   "outputs": [],
   "source": [
    "##== linux command ==##\n",
    "# \n",
    "mkdir ./bigwig                                                                                                                                        \n",
    "samtools sort -o $projPath/alignment/bam/${histName}.sorted.bam $projPath/alignment/bam/${histName}_bowtie2.mapped.bam                                                     \n",
    "samtools index $projPath/alignment/bam/${histName}.sorted.bam                                                                                                              \n",
    "bamCoverage -b $projPath/alignment/bam/${histName}.sorted.bam -o $projPath/alignment/bigwig/${histName}_raw.bw  "
   ]
  },
  {
   "cell_type": "code",
   "execution_count": null,
   "id": "77033a9e-4ec2-4114-a256-6a87201365e2",
   "metadata": {},
   "outputs": [],
   "source": []
  }
 ],
 "metadata": {
  "kernelspec": {
   "display_name": "Python 3 (ipykernel)",
   "language": "python",
   "name": "python3"
  },
  "language_info": {
   "codemirror_mode": {
    "name": "ipython",
    "version": 3
   },
   "file_extension": ".py",
   "mimetype": "text/x-python",
   "name": "python",
   "nbconvert_exporter": "python",
   "pygments_lexer": "ipython3",
   "version": "3.12.3"
  }
 },
 "nbformat": 4,
 "nbformat_minor": 5
}
